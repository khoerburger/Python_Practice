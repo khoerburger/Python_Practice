{
  "nbformat": 4,
  "nbformat_minor": 0,
  "metadata": {
    "kernelspec": {
      "display_name": "Python 3",
      "language": "python",
      "name": "python3"
    },
    "language_info": {
      "codemirror_mode": {
        "name": "ipython",
        "version": 3
      },
      "file_extension": ".py",
      "mimetype": "text/x-python",
      "name": "python",
      "nbconvert_exporter": "python",
      "pygments_lexer": "ipython3",
      "version": "3.7.3"
    },
    "colab": {
      "name": "Google Play Store App Analytics (start).ipynb",
      "provenance": [],
      "collapsed_sections": [
        "C3gTckh7diUk",
        "BFoRqpezjebe",
        "RoPpW37xdiUm",
        "BIWG_10PyIzL",
        "nbYh2tU-VZ-i",
        "Xi2NaEBPVNrP",
        "uT32ylj4WS9B"
      ],
      "include_colab_link": true
    }
  },
  "cells": [
    {
      "cell_type": "markdown",
      "metadata": {
        "id": "view-in-github",
        "colab_type": "text"
      },
      "source": [
        "<a href=\"https://colab.research.google.com/github/khoerburger/Python_Practice/blob/master/Google_Play_Store_App_Analytics_(start).ipynb\" target=\"_parent\"><img src=\"https://colab.research.google.com/assets/colab-badge.svg\" alt=\"Open In Colab\"/></a>"
      ]
    },
    {
      "cell_type": "markdown",
      "metadata": {
        "dc": {
          "key": "4"
        },
        "run_control": {
          "frozen": true
        },
        "tags": [
          "context"
        ],
        "id": "-Sxae4jbdiT2"
      },
      "source": [
        "# Introduction\n",
        "\n",
        "In this notebook, we will do a comprehensive analysis of the Android app market by comparing thousands of apps in the Google Play store."
      ]
    },
    {
      "cell_type": "markdown",
      "metadata": {
        "id": "sDT5lMxadiT3"
      },
      "source": [
        "# About the Dataset of Google Play Store Apps & Reviews"
      ]
    },
    {
      "cell_type": "markdown",
      "metadata": {
        "id": "5CiydsdNdiT3"
      },
      "source": [
        "**Data Source:** <br>\n",
        "App and review data was scraped from the Google Play Store by Lavanya Gupta in 2018. Original files listed [here](\n",
        "https://www.kaggle.com/lava18/google-play-store-apps)."
      ]
    },
    {
      "cell_type": "markdown",
      "metadata": {
        "id": "BBKBNy4UdiT4"
      },
      "source": [
        "# Import Statements"
      ]
    },
    {
      "cell_type": "code",
      "metadata": {
        "id": "_5mfFH4_diT4"
      },
      "source": [
        "import pandas as pd\n",
        "import plotly.express as px"
      ],
      "execution_count": 24,
      "outputs": []
    },
    {
      "cell_type": "markdown",
      "metadata": {
        "id": "KegC9nPDdiT7"
      },
      "source": [
        "# Notebook Presentation"
      ]
    },
    {
      "cell_type": "code",
      "metadata": {
        "id": "WPL7rhJndiT7"
      },
      "source": [
        "# Show numeric output in decimal format e.g., 2.15\n",
        "pd.options.display.float_format = '{:,.2f}'.format"
      ],
      "execution_count": 6,
      "outputs": []
    },
    {
      "cell_type": "markdown",
      "metadata": {
        "id": "Uc9LOZu9diT-"
      },
      "source": [
        "# Read the Dataset"
      ]
    },
    {
      "cell_type": "code",
      "metadata": {
        "id": "zU0Zisv_diT-"
      },
      "source": [
        "df_apps = pd.read_csv('apps.csv')"
      ],
      "execution_count": 7,
      "outputs": []
    },
    {
      "cell_type": "markdown",
      "metadata": {
        "id": "iKvSUwQldiUA"
      },
      "source": [
        "# Data Cleaning"
      ]
    },
    {
      "cell_type": "markdown",
      "metadata": {
        "id": "MWTzYZIds5L9"
      },
      "source": [
        "**Challenge**: How many rows and columns does `df_apps` have? What are the column names? Look at a random sample of 5 different rows with [.sample()](https://pandas.pydata.org/pandas-docs/stable/reference/api/pandas.DataFrame.sample.html)."
      ]
    },
    {
      "cell_type": "code",
      "metadata": {
        "id": "HJI7UsPrnuRf",
        "colab": {
          "base_uri": "https://localhost:8080/"
        },
        "outputId": "14b24659-2f13-4245-afa1-4c5f702e6da3"
      },
      "source": [
        "df_apps.shape"
      ],
      "execution_count": 8,
      "outputs": [
        {
          "output_type": "execute_result",
          "data": {
            "text/plain": [
              "(10841, 12)"
            ]
          },
          "metadata": {
            "tags": []
          },
          "execution_count": 8
        }
      ]
    },
    {
      "cell_type": "code",
      "metadata": {
        "id": "fKXFjPkmnuYA",
        "colab": {
          "base_uri": "https://localhost:8080/"
        },
        "outputId": "68b25eec-e6f4-4c95-e94a-b2487e2d7b8a"
      },
      "source": [
        "df_apps.columns"
      ],
      "execution_count": 9,
      "outputs": [
        {
          "output_type": "execute_result",
          "data": {
            "text/plain": [
              "Index(['App', 'Category', 'Rating', 'Reviews', 'Size_MBs', 'Installs', 'Type',\n",
              "       'Price', 'Content_Rating', 'Genres', 'Last_Updated', 'Android_Ver'],\n",
              "      dtype='object')"
            ]
          },
          "metadata": {
            "tags": []
          },
          "execution_count": 9
        }
      ]
    },
    {
      "cell_type": "code",
      "metadata": {
        "id": "MUluaHF5nueH",
        "colab": {
          "base_uri": "https://localhost:8080/",
          "height": 378
        },
        "outputId": "6d57e2e8-676a-48d8-e666-79d67a50c34d"
      },
      "source": [
        "df_apps.sample(5)"
      ],
      "execution_count": 10,
      "outputs": [
        {
          "output_type": "execute_result",
          "data": {
            "text/html": [
              "<div>\n",
              "<style scoped>\n",
              "    .dataframe tbody tr th:only-of-type {\n",
              "        vertical-align: middle;\n",
              "    }\n",
              "\n",
              "    .dataframe tbody tr th {\n",
              "        vertical-align: top;\n",
              "    }\n",
              "\n",
              "    .dataframe thead th {\n",
              "        text-align: right;\n",
              "    }\n",
              "</style>\n",
              "<table border=\"1\" class=\"dataframe\">\n",
              "  <thead>\n",
              "    <tr style=\"text-align: right;\">\n",
              "      <th></th>\n",
              "      <th>App</th>\n",
              "      <th>Category</th>\n",
              "      <th>Rating</th>\n",
              "      <th>Reviews</th>\n",
              "      <th>Size_MBs</th>\n",
              "      <th>Installs</th>\n",
              "      <th>Type</th>\n",
              "      <th>Price</th>\n",
              "      <th>Content_Rating</th>\n",
              "      <th>Genres</th>\n",
              "      <th>Last_Updated</th>\n",
              "      <th>Android_Ver</th>\n",
              "    </tr>\n",
              "  </thead>\n",
              "  <tbody>\n",
              "    <tr>\n",
              "      <th>9342</th>\n",
              "      <td>HTC Lock Screen</td>\n",
              "      <td>TOOLS</td>\n",
              "      <td>4.10</td>\n",
              "      <td>28250</td>\n",
              "      <td>3.40</td>\n",
              "      <td>10,000,000</td>\n",
              "      <td>Free</td>\n",
              "      <td>0</td>\n",
              "      <td>Everyone</td>\n",
              "      <td>Tools</td>\n",
              "      <td>March 21, 2017</td>\n",
              "      <td>Varies with device</td>\n",
              "    </tr>\n",
              "    <tr>\n",
              "      <th>9987</th>\n",
              "      <td>Pregnancy Tracker &amp; Countdown to Baby Due Date</td>\n",
              "      <td>PARENTING</td>\n",
              "      <td>4.70</td>\n",
              "      <td>658087</td>\n",
              "      <td>62.00</td>\n",
              "      <td>10,000,000</td>\n",
              "      <td>Free</td>\n",
              "      <td>0</td>\n",
              "      <td>Everyone</td>\n",
              "      <td>Parenting</td>\n",
              "      <td>May 24, 2018</td>\n",
              "      <td>5.0 and up</td>\n",
              "    </tr>\n",
              "    <tr>\n",
              "      <th>1620</th>\n",
              "      <td>DT Practice</td>\n",
              "      <td>BUSINESS</td>\n",
              "      <td>nan</td>\n",
              "      <td>6</td>\n",
              "      <td>5.70</td>\n",
              "      <td>500</td>\n",
              "      <td>Free</td>\n",
              "      <td>0</td>\n",
              "      <td>Everyone</td>\n",
              "      <td>Business</td>\n",
              "      <td>October 6, 2017</td>\n",
              "      <td>4.4 and up</td>\n",
              "    </tr>\n",
              "    <tr>\n",
              "      <th>4957</th>\n",
              "      <td>R-TYPE</td>\n",
              "      <td>GAME</td>\n",
              "      <td>4.50</td>\n",
              "      <td>7687</td>\n",
              "      <td>23.00</td>\n",
              "      <td>100,000</td>\n",
              "      <td>Paid</td>\n",
              "      <td>$1.99</td>\n",
              "      <td>Everyone</td>\n",
              "      <td>Arcade</td>\n",
              "      <td>February 27, 2017</td>\n",
              "      <td>2.3.3 and up</td>\n",
              "    </tr>\n",
              "    <tr>\n",
              "      <th>6320</th>\n",
              "      <td>WhatsVPN - Unlimited Free VPN</td>\n",
              "      <td>TOOLS</td>\n",
              "      <td>4.70</td>\n",
              "      <td>24985</td>\n",
              "      <td>7.80</td>\n",
              "      <td>500,000</td>\n",
              "      <td>Free</td>\n",
              "      <td>0</td>\n",
              "      <td>Everyone</td>\n",
              "      <td>Tools</td>\n",
              "      <td>July 27, 2018</td>\n",
              "      <td>4.1 and up</td>\n",
              "    </tr>\n",
              "  </tbody>\n",
              "</table>\n",
              "</div>"
            ],
            "text/plain": [
              "                                                 App  ...         Android_Ver\n",
              "9342                                 HTC Lock Screen  ...  Varies with device\n",
              "9987  Pregnancy Tracker & Countdown to Baby Due Date  ...          5.0 and up\n",
              "1620                                     DT Practice  ...          4.4 and up\n",
              "4957                                          R-TYPE  ...        2.3.3 and up\n",
              "6320                   WhatsVPN - Unlimited Free VPN  ...          4.1 and up\n",
              "\n",
              "[5 rows x 12 columns]"
            ]
          },
          "metadata": {
            "tags": []
          },
          "execution_count": 10
        }
      ]
    },
    {
      "cell_type": "code",
      "metadata": {
        "colab": {
          "base_uri": "https://localhost:8080/",
          "height": 447
        },
        "id": "ZznxnvxdZndU",
        "outputId": "33c43595-d7e3-4e06-86f3-757c4919cefc"
      },
      "source": [
        "df_apps.head()"
      ],
      "execution_count": 11,
      "outputs": [
        {
          "output_type": "execute_result",
          "data": {
            "text/html": [
              "<div>\n",
              "<style scoped>\n",
              "    .dataframe tbody tr th:only-of-type {\n",
              "        vertical-align: middle;\n",
              "    }\n",
              "\n",
              "    .dataframe tbody tr th {\n",
              "        vertical-align: top;\n",
              "    }\n",
              "\n",
              "    .dataframe thead th {\n",
              "        text-align: right;\n",
              "    }\n",
              "</style>\n",
              "<table border=\"1\" class=\"dataframe\">\n",
              "  <thead>\n",
              "    <tr style=\"text-align: right;\">\n",
              "      <th></th>\n",
              "      <th>App</th>\n",
              "      <th>Category</th>\n",
              "      <th>Rating</th>\n",
              "      <th>Reviews</th>\n",
              "      <th>Size_MBs</th>\n",
              "      <th>Installs</th>\n",
              "      <th>Type</th>\n",
              "      <th>Price</th>\n",
              "      <th>Content_Rating</th>\n",
              "      <th>Genres</th>\n",
              "      <th>Last_Updated</th>\n",
              "      <th>Android_Ver</th>\n",
              "    </tr>\n",
              "  </thead>\n",
              "  <tbody>\n",
              "    <tr>\n",
              "      <th>0</th>\n",
              "      <td>Ak Parti Yardım Toplama</td>\n",
              "      <td>SOCIAL</td>\n",
              "      <td>nan</td>\n",
              "      <td>0</td>\n",
              "      <td>8.70</td>\n",
              "      <td>0</td>\n",
              "      <td>Paid</td>\n",
              "      <td>$13.99</td>\n",
              "      <td>Teen</td>\n",
              "      <td>Social</td>\n",
              "      <td>July 28, 2017</td>\n",
              "      <td>4.1 and up</td>\n",
              "    </tr>\n",
              "    <tr>\n",
              "      <th>1</th>\n",
              "      <td>Ain Arabic Kids Alif Ba ta</td>\n",
              "      <td>FAMILY</td>\n",
              "      <td>nan</td>\n",
              "      <td>0</td>\n",
              "      <td>33.00</td>\n",
              "      <td>0</td>\n",
              "      <td>Paid</td>\n",
              "      <td>$2.99</td>\n",
              "      <td>Everyone</td>\n",
              "      <td>Education</td>\n",
              "      <td>April 15, 2016</td>\n",
              "      <td>3.0 and up</td>\n",
              "    </tr>\n",
              "    <tr>\n",
              "      <th>2</th>\n",
              "      <td>Popsicle Launcher for Android P 9.0 launcher</td>\n",
              "      <td>PERSONALIZATION</td>\n",
              "      <td>nan</td>\n",
              "      <td>0</td>\n",
              "      <td>5.50</td>\n",
              "      <td>0</td>\n",
              "      <td>Paid</td>\n",
              "      <td>$1.49</td>\n",
              "      <td>Everyone</td>\n",
              "      <td>Personalization</td>\n",
              "      <td>July 11, 2018</td>\n",
              "      <td>4.2 and up</td>\n",
              "    </tr>\n",
              "    <tr>\n",
              "      <th>3</th>\n",
              "      <td>Command &amp; Conquer: Rivals</td>\n",
              "      <td>FAMILY</td>\n",
              "      <td>nan</td>\n",
              "      <td>0</td>\n",
              "      <td>19.00</td>\n",
              "      <td>0</td>\n",
              "      <td>NaN</td>\n",
              "      <td>0</td>\n",
              "      <td>Everyone 10+</td>\n",
              "      <td>Strategy</td>\n",
              "      <td>June 28, 2018</td>\n",
              "      <td>Varies with device</td>\n",
              "    </tr>\n",
              "    <tr>\n",
              "      <th>4</th>\n",
              "      <td>CX Network</td>\n",
              "      <td>BUSINESS</td>\n",
              "      <td>nan</td>\n",
              "      <td>0</td>\n",
              "      <td>10.00</td>\n",
              "      <td>0</td>\n",
              "      <td>Free</td>\n",
              "      <td>0</td>\n",
              "      <td>Everyone</td>\n",
              "      <td>Business</td>\n",
              "      <td>August 6, 2018</td>\n",
              "      <td>4.1 and up</td>\n",
              "    </tr>\n",
              "  </tbody>\n",
              "</table>\n",
              "</div>"
            ],
            "text/plain": [
              "                                            App  ...         Android_Ver\n",
              "0                       Ak Parti Yardım Toplama  ...          4.1 and up\n",
              "1                    Ain Arabic Kids Alif Ba ta  ...          3.0 and up\n",
              "2  Popsicle Launcher for Android P 9.0 launcher  ...          4.2 and up\n",
              "3                     Command & Conquer: Rivals  ...  Varies with device\n",
              "4                                    CX Network  ...          4.1 and up\n",
              "\n",
              "[5 rows x 12 columns]"
            ]
          },
          "metadata": {
            "tags": []
          },
          "execution_count": 11
        }
      ]
    },
    {
      "cell_type": "markdown",
      "metadata": {
        "id": "Hh81sMcvdiUI"
      },
      "source": [
        "### Drop Unused Columns\n",
        "\n",
        "**Challenge**: Remove the columns called `Last_Updated` and `Android_Version` from the DataFrame. We will not use these columns. "
      ]
    },
    {
      "cell_type": "code",
      "metadata": {
        "id": "t7EMSKAOnyzI",
        "colab": {
          "base_uri": "https://localhost:8080/",
          "height": 341
        },
        "outputId": "2da4d444-cc48-4bdd-8f6d-b1bb77cd949b"
      },
      "source": [
        "df_apps.drop([\"Last_Updated\", \"Android_Ver\"], axis=1, inplace=True)\r\n",
        "df_apps.head()"
      ],
      "execution_count": 12,
      "outputs": [
        {
          "output_type": "execute_result",
          "data": {
            "text/html": [
              "<div>\n",
              "<style scoped>\n",
              "    .dataframe tbody tr th:only-of-type {\n",
              "        vertical-align: middle;\n",
              "    }\n",
              "\n",
              "    .dataframe tbody tr th {\n",
              "        vertical-align: top;\n",
              "    }\n",
              "\n",
              "    .dataframe thead th {\n",
              "        text-align: right;\n",
              "    }\n",
              "</style>\n",
              "<table border=\"1\" class=\"dataframe\">\n",
              "  <thead>\n",
              "    <tr style=\"text-align: right;\">\n",
              "      <th></th>\n",
              "      <th>App</th>\n",
              "      <th>Category</th>\n",
              "      <th>Rating</th>\n",
              "      <th>Reviews</th>\n",
              "      <th>Size_MBs</th>\n",
              "      <th>Installs</th>\n",
              "      <th>Type</th>\n",
              "      <th>Price</th>\n",
              "      <th>Content_Rating</th>\n",
              "      <th>Genres</th>\n",
              "    </tr>\n",
              "  </thead>\n",
              "  <tbody>\n",
              "    <tr>\n",
              "      <th>0</th>\n",
              "      <td>Ak Parti Yardım Toplama</td>\n",
              "      <td>SOCIAL</td>\n",
              "      <td>nan</td>\n",
              "      <td>0</td>\n",
              "      <td>8.70</td>\n",
              "      <td>0</td>\n",
              "      <td>Paid</td>\n",
              "      <td>$13.99</td>\n",
              "      <td>Teen</td>\n",
              "      <td>Social</td>\n",
              "    </tr>\n",
              "    <tr>\n",
              "      <th>1</th>\n",
              "      <td>Ain Arabic Kids Alif Ba ta</td>\n",
              "      <td>FAMILY</td>\n",
              "      <td>nan</td>\n",
              "      <td>0</td>\n",
              "      <td>33.00</td>\n",
              "      <td>0</td>\n",
              "      <td>Paid</td>\n",
              "      <td>$2.99</td>\n",
              "      <td>Everyone</td>\n",
              "      <td>Education</td>\n",
              "    </tr>\n",
              "    <tr>\n",
              "      <th>2</th>\n",
              "      <td>Popsicle Launcher for Android P 9.0 launcher</td>\n",
              "      <td>PERSONALIZATION</td>\n",
              "      <td>nan</td>\n",
              "      <td>0</td>\n",
              "      <td>5.50</td>\n",
              "      <td>0</td>\n",
              "      <td>Paid</td>\n",
              "      <td>$1.49</td>\n",
              "      <td>Everyone</td>\n",
              "      <td>Personalization</td>\n",
              "    </tr>\n",
              "    <tr>\n",
              "      <th>3</th>\n",
              "      <td>Command &amp; Conquer: Rivals</td>\n",
              "      <td>FAMILY</td>\n",
              "      <td>nan</td>\n",
              "      <td>0</td>\n",
              "      <td>19.00</td>\n",
              "      <td>0</td>\n",
              "      <td>NaN</td>\n",
              "      <td>0</td>\n",
              "      <td>Everyone 10+</td>\n",
              "      <td>Strategy</td>\n",
              "    </tr>\n",
              "    <tr>\n",
              "      <th>4</th>\n",
              "      <td>CX Network</td>\n",
              "      <td>BUSINESS</td>\n",
              "      <td>nan</td>\n",
              "      <td>0</td>\n",
              "      <td>10.00</td>\n",
              "      <td>0</td>\n",
              "      <td>Free</td>\n",
              "      <td>0</td>\n",
              "      <td>Everyone</td>\n",
              "      <td>Business</td>\n",
              "    </tr>\n",
              "  </tbody>\n",
              "</table>\n",
              "</div>"
            ],
            "text/plain": [
              "                                            App  ...           Genres\n",
              "0                       Ak Parti Yardım Toplama  ...           Social\n",
              "1                    Ain Arabic Kids Alif Ba ta  ...        Education\n",
              "2  Popsicle Launcher for Android P 9.0 launcher  ...  Personalization\n",
              "3                     Command & Conquer: Rivals  ...         Strategy\n",
              "4                                    CX Network  ...         Business\n",
              "\n",
              "[5 rows x 10 columns]"
            ]
          },
          "metadata": {
            "tags": []
          },
          "execution_count": 12
        }
      ]
    },
    {
      "cell_type": "markdown",
      "metadata": {
        "id": "YQGe1DIKdiUM"
      },
      "source": [
        "### Find and Remove NaN values in Ratings\n",
        "\n",
        "**Challenge**: How may rows have a NaN value (not-a-number) in the Ratings column? Create DataFrame called `df_apps_clean` that does not include these rows. "
      ]
    },
    {
      "cell_type": "code",
      "metadata": {
        "id": "grcP1IOZn1Wv",
        "colab": {
          "base_uri": "https://localhost:8080/",
          "height": 358
        },
        "outputId": "5b516017-986d-4ce1-e10f-198d8593b565"
      },
      "source": [
        "nan_rows = df_apps[df_apps.Rating.isna()]\r\n",
        "print(nan_rows.shape)\r\n",
        "nan_rows.head()"
      ],
      "execution_count": 13,
      "outputs": [
        {
          "output_type": "stream",
          "text": [
            "(1474, 10)\n"
          ],
          "name": "stdout"
        },
        {
          "output_type": "execute_result",
          "data": {
            "text/html": [
              "<div>\n",
              "<style scoped>\n",
              "    .dataframe tbody tr th:only-of-type {\n",
              "        vertical-align: middle;\n",
              "    }\n",
              "\n",
              "    .dataframe tbody tr th {\n",
              "        vertical-align: top;\n",
              "    }\n",
              "\n",
              "    .dataframe thead th {\n",
              "        text-align: right;\n",
              "    }\n",
              "</style>\n",
              "<table border=\"1\" class=\"dataframe\">\n",
              "  <thead>\n",
              "    <tr style=\"text-align: right;\">\n",
              "      <th></th>\n",
              "      <th>App</th>\n",
              "      <th>Category</th>\n",
              "      <th>Rating</th>\n",
              "      <th>Reviews</th>\n",
              "      <th>Size_MBs</th>\n",
              "      <th>Installs</th>\n",
              "      <th>Type</th>\n",
              "      <th>Price</th>\n",
              "      <th>Content_Rating</th>\n",
              "      <th>Genres</th>\n",
              "    </tr>\n",
              "  </thead>\n",
              "  <tbody>\n",
              "    <tr>\n",
              "      <th>0</th>\n",
              "      <td>Ak Parti Yardım Toplama</td>\n",
              "      <td>SOCIAL</td>\n",
              "      <td>nan</td>\n",
              "      <td>0</td>\n",
              "      <td>8.70</td>\n",
              "      <td>0</td>\n",
              "      <td>Paid</td>\n",
              "      <td>$13.99</td>\n",
              "      <td>Teen</td>\n",
              "      <td>Social</td>\n",
              "    </tr>\n",
              "    <tr>\n",
              "      <th>1</th>\n",
              "      <td>Ain Arabic Kids Alif Ba ta</td>\n",
              "      <td>FAMILY</td>\n",
              "      <td>nan</td>\n",
              "      <td>0</td>\n",
              "      <td>33.00</td>\n",
              "      <td>0</td>\n",
              "      <td>Paid</td>\n",
              "      <td>$2.99</td>\n",
              "      <td>Everyone</td>\n",
              "      <td>Education</td>\n",
              "    </tr>\n",
              "    <tr>\n",
              "      <th>2</th>\n",
              "      <td>Popsicle Launcher for Android P 9.0 launcher</td>\n",
              "      <td>PERSONALIZATION</td>\n",
              "      <td>nan</td>\n",
              "      <td>0</td>\n",
              "      <td>5.50</td>\n",
              "      <td>0</td>\n",
              "      <td>Paid</td>\n",
              "      <td>$1.49</td>\n",
              "      <td>Everyone</td>\n",
              "      <td>Personalization</td>\n",
              "    </tr>\n",
              "    <tr>\n",
              "      <th>3</th>\n",
              "      <td>Command &amp; Conquer: Rivals</td>\n",
              "      <td>FAMILY</td>\n",
              "      <td>nan</td>\n",
              "      <td>0</td>\n",
              "      <td>19.00</td>\n",
              "      <td>0</td>\n",
              "      <td>NaN</td>\n",
              "      <td>0</td>\n",
              "      <td>Everyone 10+</td>\n",
              "      <td>Strategy</td>\n",
              "    </tr>\n",
              "    <tr>\n",
              "      <th>4</th>\n",
              "      <td>CX Network</td>\n",
              "      <td>BUSINESS</td>\n",
              "      <td>nan</td>\n",
              "      <td>0</td>\n",
              "      <td>10.00</td>\n",
              "      <td>0</td>\n",
              "      <td>Free</td>\n",
              "      <td>0</td>\n",
              "      <td>Everyone</td>\n",
              "      <td>Business</td>\n",
              "    </tr>\n",
              "  </tbody>\n",
              "</table>\n",
              "</div>"
            ],
            "text/plain": [
              "                                            App  ...           Genres\n",
              "0                       Ak Parti Yardım Toplama  ...           Social\n",
              "1                    Ain Arabic Kids Alif Ba ta  ...        Education\n",
              "2  Popsicle Launcher for Android P 9.0 launcher  ...  Personalization\n",
              "3                     Command & Conquer: Rivals  ...         Strategy\n",
              "4                                    CX Network  ...         Business\n",
              "\n",
              "[5 rows x 10 columns]"
            ]
          },
          "metadata": {
            "tags": []
          },
          "execution_count": 13
        }
      ]
    },
    {
      "cell_type": "code",
      "metadata": {
        "id": "IbQnnPaUn1Pw",
        "colab": {
          "base_uri": "https://localhost:8080/"
        },
        "outputId": "c426abae-bc41-44b2-8466-ecc0a20f88b3"
      },
      "source": [
        "df_apps_clean=df_apps.dropna()\r\n",
        "df_apps_clean.shape"
      ],
      "execution_count": 14,
      "outputs": [
        {
          "output_type": "execute_result",
          "data": {
            "text/plain": [
              "(9367, 10)"
            ]
          },
          "metadata": {
            "tags": []
          },
          "execution_count": 14
        }
      ]
    },
    {
      "cell_type": "markdown",
      "metadata": {
        "id": "pD26SWlxdiUV"
      },
      "source": [
        "### Find and Remove Duplicates\n",
        "\n",
        "**Challenge**: Are there any duplicates in data? Check for duplicates using the [.duplicated()](https://pandas.pydata.org/pandas-docs/stable/reference/api/pandas.DataFrame.duplicated.html) function. How many entries can you find for the \"Instagram\" app? Use [.drop_duplicates()](https://pandas.pydata.org/pandas-docs/stable/reference/api/pandas.DataFrame.drop_duplicates.html) to remove any duplicates from `df_apps_clean`. \n"
      ]
    },
    {
      "cell_type": "code",
      "metadata": {
        "id": "lE7X6KG3n5pR",
        "colab": {
          "base_uri": "https://localhost:8080/",
          "height": 254
        },
        "outputId": "ca82d7b0-af55-48f6-98d4-811cd39afcfa"
      },
      "source": [
        "duplicated_rows = df_apps_clean[df_apps_clean.duplicated()]\r\n",
        "print(duplicated_rows.shape)\r\n",
        "duplicated_rows.head()"
      ],
      "execution_count": 15,
      "outputs": [
        {
          "output_type": "stream",
          "text": [
            "(476, 10)\n"
          ],
          "name": "stdout"
        },
        {
          "output_type": "execute_result",
          "data": {
            "text/html": [
              "<div>\n",
              "<style scoped>\n",
              "    .dataframe tbody tr th:only-of-type {\n",
              "        vertical-align: middle;\n",
              "    }\n",
              "\n",
              "    .dataframe tbody tr th {\n",
              "        vertical-align: top;\n",
              "    }\n",
              "\n",
              "    .dataframe thead th {\n",
              "        text-align: right;\n",
              "    }\n",
              "</style>\n",
              "<table border=\"1\" class=\"dataframe\">\n",
              "  <thead>\n",
              "    <tr style=\"text-align: right;\">\n",
              "      <th></th>\n",
              "      <th>App</th>\n",
              "      <th>Category</th>\n",
              "      <th>Rating</th>\n",
              "      <th>Reviews</th>\n",
              "      <th>Size_MBs</th>\n",
              "      <th>Installs</th>\n",
              "      <th>Type</th>\n",
              "      <th>Price</th>\n",
              "      <th>Content_Rating</th>\n",
              "      <th>Genres</th>\n",
              "    </tr>\n",
              "  </thead>\n",
              "  <tbody>\n",
              "    <tr>\n",
              "      <th>946</th>\n",
              "      <td>420 BZ Budeze Delivery</td>\n",
              "      <td>MEDICAL</td>\n",
              "      <td>5.00</td>\n",
              "      <td>2</td>\n",
              "      <td>11.00</td>\n",
              "      <td>100</td>\n",
              "      <td>Free</td>\n",
              "      <td>0</td>\n",
              "      <td>Mature 17+</td>\n",
              "      <td>Medical</td>\n",
              "    </tr>\n",
              "    <tr>\n",
              "      <th>1133</th>\n",
              "      <td>MouseMingle</td>\n",
              "      <td>DATING</td>\n",
              "      <td>2.70</td>\n",
              "      <td>3</td>\n",
              "      <td>3.90</td>\n",
              "      <td>100</td>\n",
              "      <td>Free</td>\n",
              "      <td>0</td>\n",
              "      <td>Mature 17+</td>\n",
              "      <td>Dating</td>\n",
              "    </tr>\n",
              "    <tr>\n",
              "      <th>1196</th>\n",
              "      <td>Cardiac diagnosis (heart rate, arrhythmia)</td>\n",
              "      <td>MEDICAL</td>\n",
              "      <td>4.40</td>\n",
              "      <td>8</td>\n",
              "      <td>6.50</td>\n",
              "      <td>100</td>\n",
              "      <td>Paid</td>\n",
              "      <td>$12.99</td>\n",
              "      <td>Everyone</td>\n",
              "      <td>Medical</td>\n",
              "    </tr>\n",
              "    <tr>\n",
              "      <th>1231</th>\n",
              "      <td>Sway Medical</td>\n",
              "      <td>MEDICAL</td>\n",
              "      <td>5.00</td>\n",
              "      <td>3</td>\n",
              "      <td>22.00</td>\n",
              "      <td>100</td>\n",
              "      <td>Free</td>\n",
              "      <td>0</td>\n",
              "      <td>Everyone</td>\n",
              "      <td>Medical</td>\n",
              "    </tr>\n",
              "    <tr>\n",
              "      <th>1247</th>\n",
              "      <td>Chat Kids - Chat Room For Kids</td>\n",
              "      <td>DATING</td>\n",
              "      <td>4.70</td>\n",
              "      <td>6</td>\n",
              "      <td>4.90</td>\n",
              "      <td>100</td>\n",
              "      <td>Free</td>\n",
              "      <td>0</td>\n",
              "      <td>Mature 17+</td>\n",
              "      <td>Dating</td>\n",
              "    </tr>\n",
              "  </tbody>\n",
              "</table>\n",
              "</div>"
            ],
            "text/plain": [
              "                                             App  ...   Genres\n",
              "946                       420 BZ Budeze Delivery  ...  Medical\n",
              "1133                                 MouseMingle  ...   Dating\n",
              "1196  Cardiac diagnosis (heart rate, arrhythmia)  ...  Medical\n",
              "1231                                Sway Medical  ...  Medical\n",
              "1247              Chat Kids - Chat Room For Kids  ...   Dating\n",
              "\n",
              "[5 rows x 10 columns]"
            ]
          },
          "metadata": {
            "tags": []
          },
          "execution_count": 15
        }
      ]
    },
    {
      "cell_type": "code",
      "metadata": {
        "id": "GK2rP7wgn53-",
        "colab": {
          "base_uri": "https://localhost:8080/",
          "height": 79
        },
        "outputId": "617f9a9f-37ca-4977-eb2d-612006478a67"
      },
      "source": [
        "df_apps_clean = df_apps_clean.drop_duplicates(subset=['App', 'Type','Price'])\r\n",
        "df_apps_clean[df_apps_clean.App =='Instagram']\r\n"
      ],
      "execution_count": 16,
      "outputs": [
        {
          "output_type": "execute_result",
          "data": {
            "text/html": [
              "<div>\n",
              "<style scoped>\n",
              "    .dataframe tbody tr th:only-of-type {\n",
              "        vertical-align: middle;\n",
              "    }\n",
              "\n",
              "    .dataframe tbody tr th {\n",
              "        vertical-align: top;\n",
              "    }\n",
              "\n",
              "    .dataframe thead th {\n",
              "        text-align: right;\n",
              "    }\n",
              "</style>\n",
              "<table border=\"1\" class=\"dataframe\">\n",
              "  <thead>\n",
              "    <tr style=\"text-align: right;\">\n",
              "      <th></th>\n",
              "      <th>App</th>\n",
              "      <th>Category</th>\n",
              "      <th>Rating</th>\n",
              "      <th>Reviews</th>\n",
              "      <th>Size_MBs</th>\n",
              "      <th>Installs</th>\n",
              "      <th>Type</th>\n",
              "      <th>Price</th>\n",
              "      <th>Content_Rating</th>\n",
              "      <th>Genres</th>\n",
              "    </tr>\n",
              "  </thead>\n",
              "  <tbody>\n",
              "    <tr>\n",
              "      <th>10806</th>\n",
              "      <td>Instagram</td>\n",
              "      <td>SOCIAL</td>\n",
              "      <td>4.50</td>\n",
              "      <td>66577313</td>\n",
              "      <td>5.30</td>\n",
              "      <td>1,000,000,000</td>\n",
              "      <td>Free</td>\n",
              "      <td>0</td>\n",
              "      <td>Teen</td>\n",
              "      <td>Social</td>\n",
              "    </tr>\n",
              "  </tbody>\n",
              "</table>\n",
              "</div>"
            ],
            "text/plain": [
              "             App Category  Rating   Reviews  ...  Type Price Content_Rating  Genres\n",
              "10806  Instagram   SOCIAL    4.50  66577313  ...  Free     0           Teen  Social\n",
              "\n",
              "[1 rows x 10 columns]"
            ]
          },
          "metadata": {
            "tags": []
          },
          "execution_count": 16
        }
      ]
    },
    {
      "cell_type": "code",
      "metadata": {
        "id": "Wtt09kiRn6GS",
        "colab": {
          "base_uri": "https://localhost:8080/",
          "height": 254
        },
        "outputId": "396d5216-794b-4219-9fc1-d8223f2965d5"
      },
      "source": [
        "df_apps_clean.sort_values('Rating', ascending=False).head()"
      ],
      "execution_count": 17,
      "outputs": [
        {
          "output_type": "execute_result",
          "data": {
            "text/html": [
              "<div>\n",
              "<style scoped>\n",
              "    .dataframe tbody tr th:only-of-type {\n",
              "        vertical-align: middle;\n",
              "    }\n",
              "\n",
              "    .dataframe tbody tr th {\n",
              "        vertical-align: top;\n",
              "    }\n",
              "\n",
              "    .dataframe thead th {\n",
              "        text-align: right;\n",
              "    }\n",
              "</style>\n",
              "<table border=\"1\" class=\"dataframe\">\n",
              "  <thead>\n",
              "    <tr style=\"text-align: right;\">\n",
              "      <th></th>\n",
              "      <th>App</th>\n",
              "      <th>Category</th>\n",
              "      <th>Rating</th>\n",
              "      <th>Reviews</th>\n",
              "      <th>Size_MBs</th>\n",
              "      <th>Installs</th>\n",
              "      <th>Type</th>\n",
              "      <th>Price</th>\n",
              "      <th>Content_Rating</th>\n",
              "      <th>Genres</th>\n",
              "    </tr>\n",
              "  </thead>\n",
              "  <tbody>\n",
              "    <tr>\n",
              "      <th>21</th>\n",
              "      <td>KBA-EZ Health Guide</td>\n",
              "      <td>MEDICAL</td>\n",
              "      <td>5.00</td>\n",
              "      <td>4</td>\n",
              "      <td>25.00</td>\n",
              "      <td>1</td>\n",
              "      <td>Free</td>\n",
              "      <td>0</td>\n",
              "      <td>Everyone</td>\n",
              "      <td>Medical</td>\n",
              "    </tr>\n",
              "    <tr>\n",
              "      <th>1230</th>\n",
              "      <td>Sway Medical</td>\n",
              "      <td>MEDICAL</td>\n",
              "      <td>5.00</td>\n",
              "      <td>3</td>\n",
              "      <td>22.00</td>\n",
              "      <td>100</td>\n",
              "      <td>Free</td>\n",
              "      <td>0</td>\n",
              "      <td>Everyone</td>\n",
              "      <td>Medical</td>\n",
              "    </tr>\n",
              "    <tr>\n",
              "      <th>1227</th>\n",
              "      <td>AJ Men's Grooming</td>\n",
              "      <td>LIFESTYLE</td>\n",
              "      <td>5.00</td>\n",
              "      <td>2</td>\n",
              "      <td>22.00</td>\n",
              "      <td>100</td>\n",
              "      <td>Free</td>\n",
              "      <td>0</td>\n",
              "      <td>Everyone</td>\n",
              "      <td>Lifestyle</td>\n",
              "    </tr>\n",
              "    <tr>\n",
              "      <th>1224</th>\n",
              "      <td>FK Dedinje BGD</td>\n",
              "      <td>SPORTS</td>\n",
              "      <td>5.00</td>\n",
              "      <td>36</td>\n",
              "      <td>2.60</td>\n",
              "      <td>100</td>\n",
              "      <td>Free</td>\n",
              "      <td>0</td>\n",
              "      <td>Everyone</td>\n",
              "      <td>Sports</td>\n",
              "    </tr>\n",
              "    <tr>\n",
              "      <th>1223</th>\n",
              "      <td>CB VIDEO VISION</td>\n",
              "      <td>PHOTOGRAPHY</td>\n",
              "      <td>5.00</td>\n",
              "      <td>13</td>\n",
              "      <td>2.60</td>\n",
              "      <td>100</td>\n",
              "      <td>Free</td>\n",
              "      <td>0</td>\n",
              "      <td>Everyone</td>\n",
              "      <td>Photography</td>\n",
              "    </tr>\n",
              "  </tbody>\n",
              "</table>\n",
              "</div>"
            ],
            "text/plain": [
              "                      App     Category  ...  Content_Rating       Genres\n",
              "21    KBA-EZ Health Guide      MEDICAL  ...        Everyone      Medical\n",
              "1230         Sway Medical      MEDICAL  ...        Everyone      Medical\n",
              "1227    AJ Men's Grooming    LIFESTYLE  ...        Everyone    Lifestyle\n",
              "1224       FK Dedinje BGD       SPORTS  ...        Everyone       Sports\n",
              "1223      CB VIDEO VISION  PHOTOGRAPHY  ...        Everyone  Photography\n",
              "\n",
              "[5 rows x 10 columns]"
            ]
          },
          "metadata": {
            "tags": []
          },
          "execution_count": 17
        }
      ]
    },
    {
      "cell_type": "code",
      "metadata": {
        "id": "30yZCwtKn5xC",
        "colab": {
          "base_uri": "https://localhost:8080/",
          "height": 430
        },
        "outputId": "fd4f4c5a-e647-499b-db0a-09827b2b1929"
      },
      "source": [
        "df_apps_clean.sort_values('Size_MBs', ascending=False).head()"
      ],
      "execution_count": 18,
      "outputs": [
        {
          "output_type": "execute_result",
          "data": {
            "text/html": [
              "<div>\n",
              "<style scoped>\n",
              "    .dataframe tbody tr th:only-of-type {\n",
              "        vertical-align: middle;\n",
              "    }\n",
              "\n",
              "    .dataframe tbody tr th {\n",
              "        vertical-align: top;\n",
              "    }\n",
              "\n",
              "    .dataframe thead th {\n",
              "        text-align: right;\n",
              "    }\n",
              "</style>\n",
              "<table border=\"1\" class=\"dataframe\">\n",
              "  <thead>\n",
              "    <tr style=\"text-align: right;\">\n",
              "      <th></th>\n",
              "      <th>App</th>\n",
              "      <th>Category</th>\n",
              "      <th>Rating</th>\n",
              "      <th>Reviews</th>\n",
              "      <th>Size_MBs</th>\n",
              "      <th>Installs</th>\n",
              "      <th>Type</th>\n",
              "      <th>Price</th>\n",
              "      <th>Content_Rating</th>\n",
              "      <th>Genres</th>\n",
              "    </tr>\n",
              "  </thead>\n",
              "  <tbody>\n",
              "    <tr>\n",
              "      <th>9942</th>\n",
              "      <td>Talking Babsy Baby: Baby Games</td>\n",
              "      <td>LIFESTYLE</td>\n",
              "      <td>4.00</td>\n",
              "      <td>140995</td>\n",
              "      <td>100.00</td>\n",
              "      <td>10,000,000</td>\n",
              "      <td>Free</td>\n",
              "      <td>0</td>\n",
              "      <td>Everyone</td>\n",
              "      <td>Lifestyle;Pretend Play</td>\n",
              "    </tr>\n",
              "    <tr>\n",
              "      <th>10687</th>\n",
              "      <td>Hungry Shark Evolution</td>\n",
              "      <td>GAME</td>\n",
              "      <td>4.50</td>\n",
              "      <td>6074334</td>\n",
              "      <td>100.00</td>\n",
              "      <td>100,000,000</td>\n",
              "      <td>Free</td>\n",
              "      <td>0</td>\n",
              "      <td>Teen</td>\n",
              "      <td>Arcade</td>\n",
              "    </tr>\n",
              "    <tr>\n",
              "      <th>9943</th>\n",
              "      <td>Miami crime simulator</td>\n",
              "      <td>GAME</td>\n",
              "      <td>4.00</td>\n",
              "      <td>254518</td>\n",
              "      <td>100.00</td>\n",
              "      <td>10,000,000</td>\n",
              "      <td>Free</td>\n",
              "      <td>0</td>\n",
              "      <td>Mature 17+</td>\n",
              "      <td>Action</td>\n",
              "    </tr>\n",
              "    <tr>\n",
              "      <th>9944</th>\n",
              "      <td>Gangster Town: Vice District</td>\n",
              "      <td>FAMILY</td>\n",
              "      <td>4.30</td>\n",
              "      <td>65146</td>\n",
              "      <td>100.00</td>\n",
              "      <td>10,000,000</td>\n",
              "      <td>Free</td>\n",
              "      <td>0</td>\n",
              "      <td>Mature 17+</td>\n",
              "      <td>Simulation</td>\n",
              "    </tr>\n",
              "    <tr>\n",
              "      <th>3144</th>\n",
              "      <td>Vi Trainer</td>\n",
              "      <td>HEALTH_AND_FITNESS</td>\n",
              "      <td>3.60</td>\n",
              "      <td>124</td>\n",
              "      <td>100.00</td>\n",
              "      <td>5,000</td>\n",
              "      <td>Free</td>\n",
              "      <td>0</td>\n",
              "      <td>Everyone</td>\n",
              "      <td>Health &amp; Fitness</td>\n",
              "    </tr>\n",
              "  </tbody>\n",
              "</table>\n",
              "</div>"
            ],
            "text/plain": [
              "                                  App  ...                  Genres\n",
              "9942   Talking Babsy Baby: Baby Games  ...  Lifestyle;Pretend Play\n",
              "10687          Hungry Shark Evolution  ...                  Arcade\n",
              "9943            Miami crime simulator  ...                  Action\n",
              "9944     Gangster Town: Vice District  ...              Simulation\n",
              "3144                       Vi Trainer  ...        Health & Fitness\n",
              "\n",
              "[5 rows x 10 columns]"
            ]
          },
          "metadata": {
            "tags": []
          },
          "execution_count": 18
        }
      ]
    },
    {
      "cell_type": "code",
      "metadata": {
        "id": "AagS_wgWn5ib",
        "colab": {
          "base_uri": "https://localhost:8080/",
          "height": 309
        },
        "outputId": "a96bf5e4-f767-4c11-841d-27844517b42e"
      },
      "source": [
        "df_apps_clean.sort_values('Reviews', ascending=False).head()"
      ],
      "execution_count": 23,
      "outputs": [
        {
          "output_type": "execute_result",
          "data": {
            "text/html": [
              "<div>\n",
              "<style scoped>\n",
              "    .dataframe tbody tr th:only-of-type {\n",
              "        vertical-align: middle;\n",
              "    }\n",
              "\n",
              "    .dataframe tbody tr th {\n",
              "        vertical-align: top;\n",
              "    }\n",
              "\n",
              "    .dataframe thead th {\n",
              "        text-align: right;\n",
              "    }\n",
              "</style>\n",
              "<table border=\"1\" class=\"dataframe\">\n",
              "  <thead>\n",
              "    <tr style=\"text-align: right;\">\n",
              "      <th></th>\n",
              "      <th>App</th>\n",
              "      <th>Category</th>\n",
              "      <th>Rating</th>\n",
              "      <th>Reviews</th>\n",
              "      <th>Size_MBs</th>\n",
              "      <th>Installs</th>\n",
              "      <th>Type</th>\n",
              "      <th>Price</th>\n",
              "      <th>Content_Rating</th>\n",
              "      <th>Genres</th>\n",
              "    </tr>\n",
              "  </thead>\n",
              "  <tbody>\n",
              "    <tr>\n",
              "      <th>10805</th>\n",
              "      <td>Facebook</td>\n",
              "      <td>SOCIAL</td>\n",
              "      <td>4.10</td>\n",
              "      <td>78158306</td>\n",
              "      <td>5.30</td>\n",
              "      <td>1,000,000,000</td>\n",
              "      <td>Free</td>\n",
              "      <td>0</td>\n",
              "      <td>Teen</td>\n",
              "      <td>Social</td>\n",
              "    </tr>\n",
              "    <tr>\n",
              "      <th>10785</th>\n",
              "      <td>WhatsApp Messenger</td>\n",
              "      <td>COMMUNICATION</td>\n",
              "      <td>4.40</td>\n",
              "      <td>69119316</td>\n",
              "      <td>3.50</td>\n",
              "      <td>1,000,000,000</td>\n",
              "      <td>Free</td>\n",
              "      <td>0</td>\n",
              "      <td>Everyone</td>\n",
              "      <td>Communication</td>\n",
              "    </tr>\n",
              "    <tr>\n",
              "      <th>10806</th>\n",
              "      <td>Instagram</td>\n",
              "      <td>SOCIAL</td>\n",
              "      <td>4.50</td>\n",
              "      <td>66577313</td>\n",
              "      <td>5.30</td>\n",
              "      <td>1,000,000,000</td>\n",
              "      <td>Free</td>\n",
              "      <td>0</td>\n",
              "      <td>Teen</td>\n",
              "      <td>Social</td>\n",
              "    </tr>\n",
              "    <tr>\n",
              "      <th>10784</th>\n",
              "      <td>Messenger – Text and Video Chat for Free</td>\n",
              "      <td>COMMUNICATION</td>\n",
              "      <td>4.00</td>\n",
              "      <td>56642847</td>\n",
              "      <td>3.50</td>\n",
              "      <td>1,000,000,000</td>\n",
              "      <td>Free</td>\n",
              "      <td>0</td>\n",
              "      <td>Everyone</td>\n",
              "      <td>Communication</td>\n",
              "    </tr>\n",
              "    <tr>\n",
              "      <th>10650</th>\n",
              "      <td>Clash of Clans</td>\n",
              "      <td>GAME</td>\n",
              "      <td>4.60</td>\n",
              "      <td>44891723</td>\n",
              "      <td>98.00</td>\n",
              "      <td>100,000,000</td>\n",
              "      <td>Free</td>\n",
              "      <td>0</td>\n",
              "      <td>Everyone 10+</td>\n",
              "      <td>Strategy</td>\n",
              "    </tr>\n",
              "  </tbody>\n",
              "</table>\n",
              "</div>"
            ],
            "text/plain": [
              "                                            App  ...         Genres\n",
              "10805                                  Facebook  ...         Social\n",
              "10785                        WhatsApp Messenger  ...  Communication\n",
              "10806                                 Instagram  ...         Social\n",
              "10784  Messenger – Text and Video Chat for Free  ...  Communication\n",
              "10650                            Clash of Clans  ...       Strategy\n",
              "\n",
              "[5 rows x 10 columns]"
            ]
          },
          "metadata": {
            "tags": []
          },
          "execution_count": 23
        }
      ]
    },
    {
      "cell_type": "markdown",
      "metadata": {
        "id": "GJrM69CfdiUh"
      },
      "source": [
        "# Find Highest Rated Apps\n",
        "\n",
        "**Challenge**: Identify which apps are the highest rated. What problem might you encounter if you rely exclusively on ratings alone to determine the quality of an app?"
      ]
    },
    {
      "cell_type": "code",
      "metadata": {
        "id": "rp7vFHBMn7st",
        "colab": {
          "base_uri": "https://localhost:8080/"
        },
        "outputId": "0de0f9d1-be84-4878-a64b-038c6d5dccd6"
      },
      "source": [
        "ratings = df_apps_clean.Content_Rating.value_counts()\r\n",
        "ratings"
      ],
      "execution_count": 22,
      "outputs": [
        {
          "output_type": "execute_result",
          "data": {
            "text/plain": [
              "Everyone           6621\n",
              "Teen                912\n",
              "Mature 17+          357\n",
              "Everyone 10+        305\n",
              "Adults only 18+       3\n",
              "Unrated               1\n",
              "Name: Content_Rating, dtype: int64"
            ]
          },
          "metadata": {
            "tags": []
          },
          "execution_count": 22
        }
      ]
    },
    {
      "cell_type": "code",
      "metadata": {
        "colab": {
          "base_uri": "https://localhost:8080/",
          "height": 542
        },
        "id": "uX43B4U-xp50",
        "outputId": "1b5994b5-1c38-4a74-a9c0-696b581c54b2"
      },
      "source": [
        "fig = px.pie(labels=ratings.index,\r\n",
        "             values=ratings.values,\r\n",
        "             title=\"Content Ratings\",\r\n",
        "             names=ratings.index,\r\n",
        "             hole=0.6)\r\n",
        "#fig.update_traces(textposition='outside', textinfo='percent+label')\r\n",
        "fig.update_traces(textposition='inside', textfont_size=15, textinfo='percent')\r\n",
        "fig.show()"
      ],
      "execution_count": 32,
      "outputs": [
        {
          "output_type": "display_data",
          "data": {
            "text/html": [
              "<html>\n",
              "<head><meta charset=\"utf-8\" /></head>\n",
              "<body>\n",
              "    <div>\n",
              "            <script src=\"https://cdnjs.cloudflare.com/ajax/libs/mathjax/2.7.5/MathJax.js?config=TeX-AMS-MML_SVG\"></script><script type=\"text/javascript\">if (window.MathJax) {MathJax.Hub.Config({SVG: {font: \"STIX-Web\"}});}</script>\n",
              "                <script type=\"text/javascript\">window.PlotlyConfig = {MathJaxConfig: 'local'};</script>\n",
              "        <script src=\"https://cdn.plot.ly/plotly-latest.min.js\"></script>    \n",
              "            <div id=\"c1adab96-f75f-41f9-90a6-fc6515f182d6\" class=\"plotly-graph-div\" style=\"height:525px; width:100%;\"></div>\n",
              "            <script type=\"text/javascript\">\n",
              "                \n",
              "                    window.PLOTLYENV=window.PLOTLYENV || {};\n",
              "                    \n",
              "                if (document.getElementById(\"c1adab96-f75f-41f9-90a6-fc6515f182d6\")) {\n",
              "                    Plotly.newPlot(\n",
              "                        'c1adab96-f75f-41f9-90a6-fc6515f182d6',\n",
              "                        [{\"domain\": {\"x\": [0.0, 1.0], \"y\": [0.0, 1.0]}, \"hole\": 0.6, \"hoverlabel\": {\"namelength\": 0}, \"hovertemplate\": \"label=%{label}<br>value=%{value}\", \"labels\": [\"Everyone\", \"Teen\", \"Mature 17+\", \"Everyone 10+\", \"Adults only 18+\", \"Unrated\"], \"legendgroup\": \"\", \"name\": \"\", \"showlegend\": true, \"textfont\": {\"size\": 15}, \"textinfo\": \"percent\", \"textposition\": \"inside\", \"type\": \"pie\", \"values\": [6621, 912, 357, 305, 3, 1]}],\n",
              "                        {\"legend\": {\"tracegroupgap\": 0}, \"template\": {\"data\": {\"bar\": [{\"error_x\": {\"color\": \"#2a3f5f\"}, \"error_y\": {\"color\": \"#2a3f5f\"}, \"marker\": {\"line\": {\"color\": \"#E5ECF6\", \"width\": 0.5}}, \"type\": \"bar\"}], \"barpolar\": [{\"marker\": {\"line\": {\"color\": \"#E5ECF6\", \"width\": 0.5}}, \"type\": \"barpolar\"}], \"carpet\": [{\"aaxis\": {\"endlinecolor\": \"#2a3f5f\", \"gridcolor\": \"white\", \"linecolor\": \"white\", \"minorgridcolor\": \"white\", \"startlinecolor\": \"#2a3f5f\"}, \"baxis\": {\"endlinecolor\": \"#2a3f5f\", \"gridcolor\": \"white\", \"linecolor\": \"white\", \"minorgridcolor\": \"white\", \"startlinecolor\": \"#2a3f5f\"}, \"type\": \"carpet\"}], \"choropleth\": [{\"colorbar\": {\"outlinewidth\": 0, \"ticks\": \"\"}, \"type\": \"choropleth\"}], \"contour\": [{\"colorbar\": {\"outlinewidth\": 0, \"ticks\": \"\"}, \"colorscale\": [[0.0, \"#0d0887\"], [0.1111111111111111, \"#46039f\"], [0.2222222222222222, \"#7201a8\"], [0.3333333333333333, \"#9c179e\"], [0.4444444444444444, \"#bd3786\"], [0.5555555555555556, \"#d8576b\"], [0.6666666666666666, \"#ed7953\"], [0.7777777777777778, \"#fb9f3a\"], [0.8888888888888888, \"#fdca26\"], [1.0, \"#f0f921\"]], \"type\": \"contour\"}], \"contourcarpet\": [{\"colorbar\": {\"outlinewidth\": 0, \"ticks\": \"\"}, \"type\": \"contourcarpet\"}], \"heatmap\": [{\"colorbar\": {\"outlinewidth\": 0, \"ticks\": \"\"}, \"colorscale\": [[0.0, \"#0d0887\"], [0.1111111111111111, \"#46039f\"], [0.2222222222222222, \"#7201a8\"], [0.3333333333333333, \"#9c179e\"], [0.4444444444444444, \"#bd3786\"], [0.5555555555555556, \"#d8576b\"], [0.6666666666666666, \"#ed7953\"], [0.7777777777777778, \"#fb9f3a\"], [0.8888888888888888, \"#fdca26\"], [1.0, \"#f0f921\"]], \"type\": \"heatmap\"}], \"heatmapgl\": [{\"colorbar\": {\"outlinewidth\": 0, \"ticks\": \"\"}, \"colorscale\": [[0.0, \"#0d0887\"], [0.1111111111111111, \"#46039f\"], [0.2222222222222222, \"#7201a8\"], [0.3333333333333333, \"#9c179e\"], [0.4444444444444444, \"#bd3786\"], [0.5555555555555556, \"#d8576b\"], [0.6666666666666666, \"#ed7953\"], [0.7777777777777778, \"#fb9f3a\"], [0.8888888888888888, \"#fdca26\"], [1.0, \"#f0f921\"]], \"type\": \"heatmapgl\"}], \"histogram\": [{\"marker\": {\"colorbar\": {\"outlinewidth\": 0, \"ticks\": \"\"}}, \"type\": \"histogram\"}], \"histogram2d\": [{\"colorbar\": {\"outlinewidth\": 0, \"ticks\": \"\"}, \"colorscale\": [[0.0, \"#0d0887\"], [0.1111111111111111, \"#46039f\"], [0.2222222222222222, \"#7201a8\"], [0.3333333333333333, \"#9c179e\"], [0.4444444444444444, \"#bd3786\"], [0.5555555555555556, \"#d8576b\"], [0.6666666666666666, \"#ed7953\"], [0.7777777777777778, \"#fb9f3a\"], [0.8888888888888888, \"#fdca26\"], [1.0, \"#f0f921\"]], \"type\": \"histogram2d\"}], \"histogram2dcontour\": [{\"colorbar\": {\"outlinewidth\": 0, \"ticks\": \"\"}, \"colorscale\": [[0.0, \"#0d0887\"], [0.1111111111111111, \"#46039f\"], [0.2222222222222222, \"#7201a8\"], [0.3333333333333333, \"#9c179e\"], [0.4444444444444444, \"#bd3786\"], [0.5555555555555556, \"#d8576b\"], [0.6666666666666666, \"#ed7953\"], [0.7777777777777778, \"#fb9f3a\"], [0.8888888888888888, \"#fdca26\"], [1.0, \"#f0f921\"]], \"type\": \"histogram2dcontour\"}], \"mesh3d\": [{\"colorbar\": {\"outlinewidth\": 0, \"ticks\": \"\"}, \"type\": \"mesh3d\"}], \"parcoords\": [{\"line\": {\"colorbar\": {\"outlinewidth\": 0, \"ticks\": \"\"}}, \"type\": \"parcoords\"}], \"pie\": [{\"automargin\": true, \"type\": \"pie\"}], \"scatter\": [{\"marker\": {\"colorbar\": {\"outlinewidth\": 0, \"ticks\": \"\"}}, \"type\": \"scatter\"}], \"scatter3d\": [{\"line\": {\"colorbar\": {\"outlinewidth\": 0, \"ticks\": \"\"}}, \"marker\": {\"colorbar\": {\"outlinewidth\": 0, \"ticks\": \"\"}}, \"type\": \"scatter3d\"}], \"scattercarpet\": [{\"marker\": {\"colorbar\": {\"outlinewidth\": 0, \"ticks\": \"\"}}, \"type\": \"scattercarpet\"}], \"scattergeo\": [{\"marker\": {\"colorbar\": {\"outlinewidth\": 0, \"ticks\": \"\"}}, \"type\": \"scattergeo\"}], \"scattergl\": [{\"marker\": {\"colorbar\": {\"outlinewidth\": 0, \"ticks\": \"\"}}, \"type\": \"scattergl\"}], \"scattermapbox\": [{\"marker\": {\"colorbar\": {\"outlinewidth\": 0, \"ticks\": \"\"}}, \"type\": \"scattermapbox\"}], \"scatterpolar\": [{\"marker\": {\"colorbar\": {\"outlinewidth\": 0, \"ticks\": \"\"}}, \"type\": \"scatterpolar\"}], \"scatterpolargl\": [{\"marker\": {\"colorbar\": {\"outlinewidth\": 0, \"ticks\": \"\"}}, \"type\": \"scatterpolargl\"}], \"scatterternary\": [{\"marker\": {\"colorbar\": {\"outlinewidth\": 0, \"ticks\": \"\"}}, \"type\": \"scatterternary\"}], \"surface\": [{\"colorbar\": {\"outlinewidth\": 0, \"ticks\": \"\"}, \"colorscale\": [[0.0, \"#0d0887\"], [0.1111111111111111, \"#46039f\"], [0.2222222222222222, \"#7201a8\"], [0.3333333333333333, \"#9c179e\"], [0.4444444444444444, \"#bd3786\"], [0.5555555555555556, \"#d8576b\"], [0.6666666666666666, \"#ed7953\"], [0.7777777777777778, \"#fb9f3a\"], [0.8888888888888888, \"#fdca26\"], [1.0, \"#f0f921\"]], \"type\": \"surface\"}], \"table\": [{\"cells\": {\"fill\": {\"color\": \"#EBF0F8\"}, \"line\": {\"color\": \"white\"}}, \"header\": {\"fill\": {\"color\": \"#C8D4E3\"}, \"line\": {\"color\": \"white\"}}, \"type\": \"table\"}]}, \"layout\": {\"annotationdefaults\": {\"arrowcolor\": \"#2a3f5f\", \"arrowhead\": 0, \"arrowwidth\": 1}, \"coloraxis\": {\"colorbar\": {\"outlinewidth\": 0, \"ticks\": \"\"}}, \"colorscale\": {\"diverging\": [[0, \"#8e0152\"], [0.1, \"#c51b7d\"], [0.2, \"#de77ae\"], [0.3, \"#f1b6da\"], [0.4, \"#fde0ef\"], [0.5, \"#f7f7f7\"], [0.6, \"#e6f5d0\"], [0.7, \"#b8e186\"], [0.8, \"#7fbc41\"], [0.9, \"#4d9221\"], [1, \"#276419\"]], \"sequential\": [[0.0, \"#0d0887\"], [0.1111111111111111, \"#46039f\"], [0.2222222222222222, \"#7201a8\"], [0.3333333333333333, \"#9c179e\"], [0.4444444444444444, \"#bd3786\"], [0.5555555555555556, \"#d8576b\"], [0.6666666666666666, \"#ed7953\"], [0.7777777777777778, \"#fb9f3a\"], [0.8888888888888888, \"#fdca26\"], [1.0, \"#f0f921\"]], \"sequentialminus\": [[0.0, \"#0d0887\"], [0.1111111111111111, \"#46039f\"], [0.2222222222222222, \"#7201a8\"], [0.3333333333333333, \"#9c179e\"], [0.4444444444444444, \"#bd3786\"], [0.5555555555555556, \"#d8576b\"], [0.6666666666666666, \"#ed7953\"], [0.7777777777777778, \"#fb9f3a\"], [0.8888888888888888, \"#fdca26\"], [1.0, \"#f0f921\"]]}, \"colorway\": [\"#636efa\", \"#EF553B\", \"#00cc96\", \"#ab63fa\", \"#FFA15A\", \"#19d3f3\", \"#FF6692\", \"#B6E880\", \"#FF97FF\", \"#FECB52\"], \"font\": {\"color\": \"#2a3f5f\"}, \"geo\": {\"bgcolor\": \"white\", \"lakecolor\": \"white\", \"landcolor\": \"#E5ECF6\", \"showlakes\": true, \"showland\": true, \"subunitcolor\": \"white\"}, \"hoverlabel\": {\"align\": \"left\"}, \"hovermode\": \"closest\", \"mapbox\": {\"style\": \"light\"}, \"paper_bgcolor\": \"white\", \"plot_bgcolor\": \"#E5ECF6\", \"polar\": {\"angularaxis\": {\"gridcolor\": \"white\", \"linecolor\": \"white\", \"ticks\": \"\"}, \"bgcolor\": \"#E5ECF6\", \"radialaxis\": {\"gridcolor\": \"white\", \"linecolor\": \"white\", \"ticks\": \"\"}}, \"scene\": {\"xaxis\": {\"backgroundcolor\": \"#E5ECF6\", \"gridcolor\": \"white\", \"gridwidth\": 2, \"linecolor\": \"white\", \"showbackground\": true, \"ticks\": \"\", \"zerolinecolor\": \"white\"}, \"yaxis\": {\"backgroundcolor\": \"#E5ECF6\", \"gridcolor\": \"white\", \"gridwidth\": 2, \"linecolor\": \"white\", \"showbackground\": true, \"ticks\": \"\", \"zerolinecolor\": \"white\"}, \"zaxis\": {\"backgroundcolor\": \"#E5ECF6\", \"gridcolor\": \"white\", \"gridwidth\": 2, \"linecolor\": \"white\", \"showbackground\": true, \"ticks\": \"\", \"zerolinecolor\": \"white\"}}, \"shapedefaults\": {\"line\": {\"color\": \"#2a3f5f\"}}, \"ternary\": {\"aaxis\": {\"gridcolor\": \"white\", \"linecolor\": \"white\", \"ticks\": \"\"}, \"baxis\": {\"gridcolor\": \"white\", \"linecolor\": \"white\", \"ticks\": \"\"}, \"bgcolor\": \"#E5ECF6\", \"caxis\": {\"gridcolor\": \"white\", \"linecolor\": \"white\", \"ticks\": \"\"}}, \"title\": {\"x\": 0.05}, \"xaxis\": {\"automargin\": true, \"gridcolor\": \"white\", \"linecolor\": \"white\", \"ticks\": \"\", \"title\": {\"standoff\": 15}, \"zerolinecolor\": \"white\", \"zerolinewidth\": 2}, \"yaxis\": {\"automargin\": true, \"gridcolor\": \"white\", \"linecolor\": \"white\", \"ticks\": \"\", \"title\": {\"standoff\": 15}, \"zerolinecolor\": \"white\", \"zerolinewidth\": 2}}}, \"title\": {\"text\": \"Content Ratings\"}},\n",
              "                        {\"responsive\": true}\n",
              "                    ).then(function(){\n",
              "                            \n",
              "var gd = document.getElementById('c1adab96-f75f-41f9-90a6-fc6515f182d6');\n",
              "var x = new MutationObserver(function (mutations, observer) {{\n",
              "        var display = window.getComputedStyle(gd).display;\n",
              "        if (!display || display === 'none') {{\n",
              "            console.log([gd, 'removed!']);\n",
              "            Plotly.purge(gd);\n",
              "            observer.disconnect();\n",
              "        }}\n",
              "}});\n",
              "\n",
              "// Listen for the removal of the full notebook cells\n",
              "var notebookContainer = gd.closest('#notebook-container');\n",
              "if (notebookContainer) {{\n",
              "    x.observe(notebookContainer, {childList: true});\n",
              "}}\n",
              "\n",
              "// Listen for the clearing of the current output cell\n",
              "var outputEl = gd.closest('.output');\n",
              "if (outputEl) {{\n",
              "    x.observe(outputEl, {childList: true});\n",
              "}}\n",
              "\n",
              "                        })\n",
              "                };\n",
              "                \n",
              "            </script>\n",
              "        </div>\n",
              "</body>\n",
              "</html>"
            ]
          },
          "metadata": {
            "tags": []
          }
        }
      ]
    },
    {
      "cell_type": "markdown",
      "metadata": {
        "id": "28o1Tro4diUi"
      },
      "source": [
        "# Find 5 Largest Apps in terms of Size (MBs)\n",
        "\n",
        "**Challenge**: What's the size in megabytes (MB) of the largest Android apps in the Google Play Store. Based on the data, do you think there could be limit in place or can developers make apps as large as they please? "
      ]
    },
    {
      "cell_type": "code",
      "metadata": {
        "id": "n5r0pJCOn9Vu",
        "colab": {
          "base_uri": "https://localhost:8080/"
        },
        "outputId": "974e76d1-7d16-4ff5-bbde-34059bb36bb5"
      },
      "source": [
        "df_apps_clean.Installs.describe()"
      ],
      "execution_count": 33,
      "outputs": [
        {
          "output_type": "execute_result",
          "data": {
            "text/plain": [
              "count          8199\n",
              "unique           19\n",
              "top       1,000,000\n",
              "freq           1417\n",
              "Name: Installs, dtype: object"
            ]
          },
          "metadata": {
            "tags": []
          },
          "execution_count": 33
        }
      ]
    },
    {
      "cell_type": "code",
      "metadata": {
        "colab": {
          "base_uri": "https://localhost:8080/"
        },
        "id": "isNKwVStHmij",
        "outputId": "175d45cf-4192-4a03-98c4-d717a87b0df0"
      },
      "source": [
        "df_apps_clean.info()"
      ],
      "execution_count": 34,
      "outputs": [
        {
          "output_type": "stream",
          "text": [
            "<class 'pandas.core.frame.DataFrame'>\n",
            "Int64Index: 8199 entries, 21 to 10835\n",
            "Data columns (total 10 columns):\n",
            " #   Column          Non-Null Count  Dtype  \n",
            "---  ------          --------------  -----  \n",
            " 0   App             8199 non-null   object \n",
            " 1   Category        8199 non-null   object \n",
            " 2   Rating          8199 non-null   float64\n",
            " 3   Reviews         8199 non-null   int64  \n",
            " 4   Size_MBs        8199 non-null   float64\n",
            " 5   Installs        8199 non-null   object \n",
            " 6   Type            8199 non-null   object \n",
            " 7   Price           8199 non-null   object \n",
            " 8   Content_Rating  8199 non-null   object \n",
            " 9   Genres          8199 non-null   object \n",
            "dtypes: float64(2), int64(1), object(7)\n",
            "memory usage: 704.6+ KB\n"
          ],
          "name": "stdout"
        }
      ]
    },
    {
      "cell_type": "code",
      "metadata": {
        "colab": {
          "base_uri": "https://localhost:8080/",
          "height": 662
        },
        "id": "39GBA7CuHmaM",
        "outputId": "64b8416f-ddb3-4e06-ad02-2f0e9e0b92b0"
      },
      "source": [
        "df_apps_clean.Installs = df_apps_clean.Installs.astype(str).str.replace(',',\"\")\r\n",
        "df_apps_clean.Installs = pd.to_numeric(df_apps_clean.Installs)\r\n",
        "df_apps_clean[['App','Installs']].groupby('Installs').count()"
      ],
      "execution_count": 36,
      "outputs": [
        {
          "output_type": "execute_result",
          "data": {
            "text/html": [
              "<div>\n",
              "<style scoped>\n",
              "    .dataframe tbody tr th:only-of-type {\n",
              "        vertical-align: middle;\n",
              "    }\n",
              "\n",
              "    .dataframe tbody tr th {\n",
              "        vertical-align: top;\n",
              "    }\n",
              "\n",
              "    .dataframe thead th {\n",
              "        text-align: right;\n",
              "    }\n",
              "</style>\n",
              "<table border=\"1\" class=\"dataframe\">\n",
              "  <thead>\n",
              "    <tr style=\"text-align: right;\">\n",
              "      <th></th>\n",
              "      <th>App</th>\n",
              "    </tr>\n",
              "    <tr>\n",
              "      <th>Installs</th>\n",
              "      <th></th>\n",
              "    </tr>\n",
              "  </thead>\n",
              "  <tbody>\n",
              "    <tr>\n",
              "      <th>1</th>\n",
              "      <td>3</td>\n",
              "    </tr>\n",
              "    <tr>\n",
              "      <th>5</th>\n",
              "      <td>9</td>\n",
              "    </tr>\n",
              "    <tr>\n",
              "      <th>10</th>\n",
              "      <td>69</td>\n",
              "    </tr>\n",
              "    <tr>\n",
              "      <th>50</th>\n",
              "      <td>56</td>\n",
              "    </tr>\n",
              "    <tr>\n",
              "      <th>100</th>\n",
              "      <td>303</td>\n",
              "    </tr>\n",
              "    <tr>\n",
              "      <th>500</th>\n",
              "      <td>199</td>\n",
              "    </tr>\n",
              "    <tr>\n",
              "      <th>1000</th>\n",
              "      <td>698</td>\n",
              "    </tr>\n",
              "    <tr>\n",
              "      <th>5000</th>\n",
              "      <td>425</td>\n",
              "    </tr>\n",
              "    <tr>\n",
              "      <th>10000</th>\n",
              "      <td>988</td>\n",
              "    </tr>\n",
              "    <tr>\n",
              "      <th>50000</th>\n",
              "      <td>457</td>\n",
              "    </tr>\n",
              "    <tr>\n",
              "      <th>100000</th>\n",
              "      <td>1096</td>\n",
              "    </tr>\n",
              "    <tr>\n",
              "      <th>500000</th>\n",
              "      <td>504</td>\n",
              "    </tr>\n",
              "    <tr>\n",
              "      <th>1000000</th>\n",
              "      <td>1417</td>\n",
              "    </tr>\n",
              "    <tr>\n",
              "      <th>5000000</th>\n",
              "      <td>607</td>\n",
              "    </tr>\n",
              "    <tr>\n",
              "      <th>10000000</th>\n",
              "      <td>933</td>\n",
              "    </tr>\n",
              "    <tr>\n",
              "      <th>50000000</th>\n",
              "      <td>202</td>\n",
              "    </tr>\n",
              "    <tr>\n",
              "      <th>100000000</th>\n",
              "      <td>189</td>\n",
              "    </tr>\n",
              "    <tr>\n",
              "      <th>500000000</th>\n",
              "      <td>24</td>\n",
              "    </tr>\n",
              "    <tr>\n",
              "      <th>1000000000</th>\n",
              "      <td>20</td>\n",
              "    </tr>\n",
              "  </tbody>\n",
              "</table>\n",
              "</div>"
            ],
            "text/plain": [
              "             App\n",
              "Installs        \n",
              "1              3\n",
              "5              9\n",
              "10            69\n",
              "50            56\n",
              "100          303\n",
              "500          199\n",
              "1000         698\n",
              "5000         425\n",
              "10000        988\n",
              "50000        457\n",
              "100000      1096\n",
              "500000       504\n",
              "1000000     1417\n",
              "5000000      607\n",
              "10000000     933\n",
              "50000000     202\n",
              "100000000    189\n",
              "500000000     24\n",
              "1000000000    20"
            ]
          },
          "metadata": {
            "tags": []
          },
          "execution_count": 36
        }
      ]
    },
    {
      "cell_type": "code",
      "metadata": {
        "colab": {
          "base_uri": "https://localhost:8080/",
          "height": 783
        },
        "id": "hYlARTGOHmR9",
        "outputId": "9196dc77-6fdd-4fc9-b54f-80ee95b0dea0"
      },
      "source": [
        "df_apps_clean.Price = df_apps_clean.Price.astype(str).str.replace('$',\"\")\r\n",
        "df_apps_clean.Price = pd.to_numeric(df_apps_clean.Price)\r\n",
        "df_apps_clean.sort_values('Price', ascending=False).head(20)"
      ],
      "execution_count": 38,
      "outputs": [
        {
          "output_type": "execute_result",
          "data": {
            "text/html": [
              "<div>\n",
              "<style scoped>\n",
              "    .dataframe tbody tr th:only-of-type {\n",
              "        vertical-align: middle;\n",
              "    }\n",
              "\n",
              "    .dataframe tbody tr th {\n",
              "        vertical-align: top;\n",
              "    }\n",
              "\n",
              "    .dataframe thead th {\n",
              "        text-align: right;\n",
              "    }\n",
              "</style>\n",
              "<table border=\"1\" class=\"dataframe\">\n",
              "  <thead>\n",
              "    <tr style=\"text-align: right;\">\n",
              "      <th></th>\n",
              "      <th>App</th>\n",
              "      <th>Category</th>\n",
              "      <th>Rating</th>\n",
              "      <th>Reviews</th>\n",
              "      <th>Size_MBs</th>\n",
              "      <th>Installs</th>\n",
              "      <th>Type</th>\n",
              "      <th>Price</th>\n",
              "      <th>Content_Rating</th>\n",
              "      <th>Genres</th>\n",
              "    </tr>\n",
              "  </thead>\n",
              "  <tbody>\n",
              "    <tr>\n",
              "      <th>3946</th>\n",
              "      <td>I'm Rich - Trump Edition</td>\n",
              "      <td>LIFESTYLE</td>\n",
              "      <td>3.60</td>\n",
              "      <td>275</td>\n",
              "      <td>7.30</td>\n",
              "      <td>10000</td>\n",
              "      <td>Paid</td>\n",
              "      <td>400.00</td>\n",
              "      <td>Everyone</td>\n",
              "      <td>Lifestyle</td>\n",
              "    </tr>\n",
              "    <tr>\n",
              "      <th>2461</th>\n",
              "      <td>I AM RICH PRO PLUS</td>\n",
              "      <td>FINANCE</td>\n",
              "      <td>4.00</td>\n",
              "      <td>36</td>\n",
              "      <td>41.00</td>\n",
              "      <td>1000</td>\n",
              "      <td>Paid</td>\n",
              "      <td>399.99</td>\n",
              "      <td>Everyone</td>\n",
              "      <td>Finance</td>\n",
              "    </tr>\n",
              "    <tr>\n",
              "      <th>4606</th>\n",
              "      <td>I Am Rich Premium</td>\n",
              "      <td>FINANCE</td>\n",
              "      <td>4.10</td>\n",
              "      <td>1867</td>\n",
              "      <td>4.70</td>\n",
              "      <td>50000</td>\n",
              "      <td>Paid</td>\n",
              "      <td>399.99</td>\n",
              "      <td>Everyone</td>\n",
              "      <td>Finance</td>\n",
              "    </tr>\n",
              "    <tr>\n",
              "      <th>3145</th>\n",
              "      <td>I am rich(premium)</td>\n",
              "      <td>FINANCE</td>\n",
              "      <td>3.50</td>\n",
              "      <td>472</td>\n",
              "      <td>0.94</td>\n",
              "      <td>5000</td>\n",
              "      <td>Paid</td>\n",
              "      <td>399.99</td>\n",
              "      <td>Everyone</td>\n",
              "      <td>Finance</td>\n",
              "    </tr>\n",
              "    <tr>\n",
              "      <th>3554</th>\n",
              "      <td>💎 I'm rich</td>\n",
              "      <td>LIFESTYLE</td>\n",
              "      <td>3.80</td>\n",
              "      <td>718</td>\n",
              "      <td>26.00</td>\n",
              "      <td>10000</td>\n",
              "      <td>Paid</td>\n",
              "      <td>399.99</td>\n",
              "      <td>Everyone</td>\n",
              "      <td>Lifestyle</td>\n",
              "    </tr>\n",
              "    <tr>\n",
              "      <th>5765</th>\n",
              "      <td>I am rich</td>\n",
              "      <td>LIFESTYLE</td>\n",
              "      <td>3.80</td>\n",
              "      <td>3547</td>\n",
              "      <td>1.80</td>\n",
              "      <td>100000</td>\n",
              "      <td>Paid</td>\n",
              "      <td>399.99</td>\n",
              "      <td>Everyone</td>\n",
              "      <td>Lifestyle</td>\n",
              "    </tr>\n",
              "    <tr>\n",
              "      <th>1946</th>\n",
              "      <td>I am rich (Most expensive app)</td>\n",
              "      <td>FINANCE</td>\n",
              "      <td>4.10</td>\n",
              "      <td>129</td>\n",
              "      <td>2.70</td>\n",
              "      <td>1000</td>\n",
              "      <td>Paid</td>\n",
              "      <td>399.99</td>\n",
              "      <td>Teen</td>\n",
              "      <td>Finance</td>\n",
              "    </tr>\n",
              "    <tr>\n",
              "      <th>2775</th>\n",
              "      <td>I Am Rich Pro</td>\n",
              "      <td>FAMILY</td>\n",
              "      <td>4.40</td>\n",
              "      <td>201</td>\n",
              "      <td>2.70</td>\n",
              "      <td>5000</td>\n",
              "      <td>Paid</td>\n",
              "      <td>399.99</td>\n",
              "      <td>Everyone</td>\n",
              "      <td>Entertainment</td>\n",
              "    </tr>\n",
              "    <tr>\n",
              "      <th>3221</th>\n",
              "      <td>I am Rich Plus</td>\n",
              "      <td>FAMILY</td>\n",
              "      <td>4.00</td>\n",
              "      <td>856</td>\n",
              "      <td>8.70</td>\n",
              "      <td>10000</td>\n",
              "      <td>Paid</td>\n",
              "      <td>399.99</td>\n",
              "      <td>Everyone</td>\n",
              "      <td>Entertainment</td>\n",
              "    </tr>\n",
              "    <tr>\n",
              "      <th>3114</th>\n",
              "      <td>I am Rich</td>\n",
              "      <td>FINANCE</td>\n",
              "      <td>4.30</td>\n",
              "      <td>180</td>\n",
              "      <td>3.80</td>\n",
              "      <td>5000</td>\n",
              "      <td>Paid</td>\n",
              "      <td>399.99</td>\n",
              "      <td>Everyone</td>\n",
              "      <td>Finance</td>\n",
              "    </tr>\n",
              "    <tr>\n",
              "      <th>1331</th>\n",
              "      <td>most expensive app (H)</td>\n",
              "      <td>FAMILY</td>\n",
              "      <td>4.30</td>\n",
              "      <td>6</td>\n",
              "      <td>1.50</td>\n",
              "      <td>100</td>\n",
              "      <td>Paid</td>\n",
              "      <td>399.99</td>\n",
              "      <td>Everyone</td>\n",
              "      <td>Entertainment</td>\n",
              "    </tr>\n",
              "    <tr>\n",
              "      <th>2394</th>\n",
              "      <td>I am Rich!</td>\n",
              "      <td>FINANCE</td>\n",
              "      <td>3.80</td>\n",
              "      <td>93</td>\n",
              "      <td>22.00</td>\n",
              "      <td>1000</td>\n",
              "      <td>Paid</td>\n",
              "      <td>399.99</td>\n",
              "      <td>Everyone</td>\n",
              "      <td>Finance</td>\n",
              "    </tr>\n",
              "    <tr>\n",
              "      <th>3897</th>\n",
              "      <td>I Am Rich</td>\n",
              "      <td>FAMILY</td>\n",
              "      <td>3.60</td>\n",
              "      <td>217</td>\n",
              "      <td>4.90</td>\n",
              "      <td>10000</td>\n",
              "      <td>Paid</td>\n",
              "      <td>389.99</td>\n",
              "      <td>Everyone</td>\n",
              "      <td>Entertainment</td>\n",
              "    </tr>\n",
              "    <tr>\n",
              "      <th>2193</th>\n",
              "      <td>I am extremely Rich</td>\n",
              "      <td>LIFESTYLE</td>\n",
              "      <td>2.90</td>\n",
              "      <td>41</td>\n",
              "      <td>2.90</td>\n",
              "      <td>1000</td>\n",
              "      <td>Paid</td>\n",
              "      <td>379.99</td>\n",
              "      <td>Everyone</td>\n",
              "      <td>Lifestyle</td>\n",
              "    </tr>\n",
              "    <tr>\n",
              "      <th>3856</th>\n",
              "      <td>I am rich VIP</td>\n",
              "      <td>LIFESTYLE</td>\n",
              "      <td>3.80</td>\n",
              "      <td>411</td>\n",
              "      <td>2.60</td>\n",
              "      <td>10000</td>\n",
              "      <td>Paid</td>\n",
              "      <td>299.99</td>\n",
              "      <td>Everyone</td>\n",
              "      <td>Lifestyle</td>\n",
              "    </tr>\n",
              "    <tr>\n",
              "      <th>2281</th>\n",
              "      <td>Vargo Anesthesia Mega App</td>\n",
              "      <td>MEDICAL</td>\n",
              "      <td>4.60</td>\n",
              "      <td>92</td>\n",
              "      <td>32.00</td>\n",
              "      <td>1000</td>\n",
              "      <td>Paid</td>\n",
              "      <td>79.99</td>\n",
              "      <td>Everyone</td>\n",
              "      <td>Medical</td>\n",
              "    </tr>\n",
              "    <tr>\n",
              "      <th>1407</th>\n",
              "      <td>LTC AS Legal</td>\n",
              "      <td>MEDICAL</td>\n",
              "      <td>4.00</td>\n",
              "      <td>6</td>\n",
              "      <td>1.30</td>\n",
              "      <td>100</td>\n",
              "      <td>Paid</td>\n",
              "      <td>39.99</td>\n",
              "      <td>Everyone</td>\n",
              "      <td>Medical</td>\n",
              "    </tr>\n",
              "    <tr>\n",
              "      <th>2629</th>\n",
              "      <td>I am Rich Person</td>\n",
              "      <td>LIFESTYLE</td>\n",
              "      <td>4.20</td>\n",
              "      <td>134</td>\n",
              "      <td>1.80</td>\n",
              "      <td>1000</td>\n",
              "      <td>Paid</td>\n",
              "      <td>37.99</td>\n",
              "      <td>Everyone</td>\n",
              "      <td>Lifestyle</td>\n",
              "    </tr>\n",
              "    <tr>\n",
              "      <th>2481</th>\n",
              "      <td>A Manual of Acupuncture</td>\n",
              "      <td>MEDICAL</td>\n",
              "      <td>3.50</td>\n",
              "      <td>214</td>\n",
              "      <td>68.00</td>\n",
              "      <td>1000</td>\n",
              "      <td>Paid</td>\n",
              "      <td>33.99</td>\n",
              "      <td>Everyone</td>\n",
              "      <td>Medical</td>\n",
              "    </tr>\n",
              "    <tr>\n",
              "      <th>4264</th>\n",
              "      <td>Golfshot Plus: Golf GPS</td>\n",
              "      <td>SPORTS</td>\n",
              "      <td>4.10</td>\n",
              "      <td>3387</td>\n",
              "      <td>25.00</td>\n",
              "      <td>50000</td>\n",
              "      <td>Paid</td>\n",
              "      <td>29.99</td>\n",
              "      <td>Everyone</td>\n",
              "      <td>Sports</td>\n",
              "    </tr>\n",
              "  </tbody>\n",
              "</table>\n",
              "</div>"
            ],
            "text/plain": [
              "                                 App   Category  ...  Content_Rating         Genres\n",
              "3946        I'm Rich - Trump Edition  LIFESTYLE  ...        Everyone      Lifestyle\n",
              "2461              I AM RICH PRO PLUS    FINANCE  ...        Everyone        Finance\n",
              "4606               I Am Rich Premium    FINANCE  ...        Everyone        Finance\n",
              "3145              I am rich(premium)    FINANCE  ...        Everyone        Finance\n",
              "3554                      💎 I'm rich  LIFESTYLE  ...        Everyone      Lifestyle\n",
              "5765                       I am rich  LIFESTYLE  ...        Everyone      Lifestyle\n",
              "1946  I am rich (Most expensive app)    FINANCE  ...            Teen        Finance\n",
              "2775                   I Am Rich Pro     FAMILY  ...        Everyone  Entertainment\n",
              "3221                  I am Rich Plus     FAMILY  ...        Everyone  Entertainment\n",
              "3114                       I am Rich    FINANCE  ...        Everyone        Finance\n",
              "1331          most expensive app (H)     FAMILY  ...        Everyone  Entertainment\n",
              "2394                      I am Rich!    FINANCE  ...        Everyone        Finance\n",
              "3897                       I Am Rich     FAMILY  ...        Everyone  Entertainment\n",
              "2193             I am extremely Rich  LIFESTYLE  ...        Everyone      Lifestyle\n",
              "3856                   I am rich VIP  LIFESTYLE  ...        Everyone      Lifestyle\n",
              "2281       Vargo Anesthesia Mega App    MEDICAL  ...        Everyone        Medical\n",
              "1407                    LTC AS Legal    MEDICAL  ...        Everyone        Medical\n",
              "2629                I am Rich Person  LIFESTYLE  ...        Everyone      Lifestyle\n",
              "2481         A Manual of Acupuncture    MEDICAL  ...        Everyone        Medical\n",
              "4264         Golfshot Plus: Golf GPS     SPORTS  ...        Everyone         Sports\n",
              "\n",
              "[20 rows x 10 columns]"
            ]
          },
          "metadata": {
            "tags": []
          },
          "execution_count": 38
        }
      ]
    },
    {
      "cell_type": "code",
      "metadata": {
        "id": "DjZRoLX-HmGF"
      },
      "source": [
        ""
      ],
      "execution_count": null,
      "outputs": []
    },
    {
      "cell_type": "markdown",
      "metadata": {
        "id": "C3gTckh7diUk"
      },
      "source": [
        "# Find the 5 App with Most Reviews\n",
        "\n",
        "**Challenge**: Which apps have the highest number of reviews? Are there any paid apps among the top 50?"
      ]
    },
    {
      "cell_type": "code",
      "metadata": {
        "id": "TLt98G0Sn_De"
      },
      "source": [
        ""
      ],
      "execution_count": 17,
      "outputs": []
    },
    {
      "cell_type": "markdown",
      "metadata": {
        "id": "BFoRqpezjebe"
      },
      "source": [
        "# Plotly Pie and Donut Charts - Visualise Categorical Data: Content Ratings"
      ]
    },
    {
      "cell_type": "code",
      "metadata": {
        "id": "c0IIxNGnoFKM"
      },
      "source": [
        ""
      ],
      "execution_count": 17,
      "outputs": []
    },
    {
      "cell_type": "code",
      "metadata": {
        "id": "TSiV6ZkjoFVg"
      },
      "source": [
        ""
      ],
      "execution_count": 17,
      "outputs": []
    },
    {
      "cell_type": "code",
      "metadata": {
        "id": "7kil2mdfoFOr"
      },
      "source": [
        ""
      ],
      "execution_count": 17,
      "outputs": []
    },
    {
      "cell_type": "code",
      "metadata": {
        "id": "6ZaHYNy2oFEE"
      },
      "source": [
        ""
      ],
      "execution_count": 17,
      "outputs": []
    },
    {
      "cell_type": "markdown",
      "metadata": {
        "id": "RoPpW37xdiUm"
      },
      "source": [
        "# Numeric Type Conversion: Examine the Number of Installs\n",
        "\n",
        "**Challenge**: How many apps had over 1 billion (that's right - BILLION) installations? How many apps just had a single install? \n",
        "\n",
        "Check the datatype of the Installs column.\n",
        "\n",
        "Count the number of apps at each level of installations. \n",
        "\n",
        "Convert the number of installations (the Installs column) to a numeric data type. Hint: this is a 2-step process. You'll have make sure you remove non-numeric characters first. "
      ]
    },
    {
      "cell_type": "code",
      "metadata": {
        "id": "uTNyWsPboJLq"
      },
      "source": [
        ""
      ],
      "execution_count": 17,
      "outputs": []
    },
    {
      "cell_type": "code",
      "metadata": {
        "id": "yzR49fYcoJRI"
      },
      "source": [
        ""
      ],
      "execution_count": 17,
      "outputs": []
    },
    {
      "cell_type": "code",
      "metadata": {
        "id": "cFjptR-JoJOE"
      },
      "source": [
        ""
      ],
      "execution_count": 17,
      "outputs": []
    },
    {
      "cell_type": "code",
      "metadata": {
        "id": "8AMmxKHgoJGT"
      },
      "source": [
        ""
      ],
      "execution_count": 17,
      "outputs": []
    },
    {
      "cell_type": "markdown",
      "metadata": {
        "id": "7T4sfNpFdiUv"
      },
      "source": [
        "# Find the Most Expensive Apps, Filter out the Junk, and Calculate a (ballpark) Sales Revenue Estimate\n",
        "\n",
        "Let's examine the Price column more closely.\n",
        "\n",
        "**Challenge**: Convert the price column to numeric data. Then investigate the top 20 most expensive apps in the dataset.\n",
        "\n",
        "Remove all apps that cost more than $250 from the `df_apps_clean` DataFrame.\n",
        "\n",
        "Add a column called 'Revenue_Estimate' to the DataFrame. This column should hold the price of the app times the number of installs. What are the top 10 highest grossing paid apps according to this estimate? Out of the top 10 highest grossing paid apps, how many are games?\n"
      ]
    },
    {
      "cell_type": "code",
      "metadata": {
        "id": "CqhX2WCJoQEp",
        "colab": {
          "base_uri": "https://localhost:8080/",
          "height": 783
        },
        "outputId": "711617d3-66e9-4fc0-8126-1faed48ab356"
      },
      "source": [
        "df_apps_clean.Price = df_apps_clean.Price.astype(str).str.replace('$',\"\")\r\n",
        "df_apps_clean.Price = pd.to_numeric(df_apps_clean.Price)\r\n",
        "df_apps_clean.sort_values('Price', ascending=False).head(20)"
      ],
      "execution_count": 39,
      "outputs": [
        {
          "output_type": "execute_result",
          "data": {
            "text/html": [
              "<div>\n",
              "<style scoped>\n",
              "    .dataframe tbody tr th:only-of-type {\n",
              "        vertical-align: middle;\n",
              "    }\n",
              "\n",
              "    .dataframe tbody tr th {\n",
              "        vertical-align: top;\n",
              "    }\n",
              "\n",
              "    .dataframe thead th {\n",
              "        text-align: right;\n",
              "    }\n",
              "</style>\n",
              "<table border=\"1\" class=\"dataframe\">\n",
              "  <thead>\n",
              "    <tr style=\"text-align: right;\">\n",
              "      <th></th>\n",
              "      <th>App</th>\n",
              "      <th>Category</th>\n",
              "      <th>Rating</th>\n",
              "      <th>Reviews</th>\n",
              "      <th>Size_MBs</th>\n",
              "      <th>Installs</th>\n",
              "      <th>Type</th>\n",
              "      <th>Price</th>\n",
              "      <th>Content_Rating</th>\n",
              "      <th>Genres</th>\n",
              "    </tr>\n",
              "  </thead>\n",
              "  <tbody>\n",
              "    <tr>\n",
              "      <th>3946</th>\n",
              "      <td>I'm Rich - Trump Edition</td>\n",
              "      <td>LIFESTYLE</td>\n",
              "      <td>3.60</td>\n",
              "      <td>275</td>\n",
              "      <td>7.30</td>\n",
              "      <td>10000</td>\n",
              "      <td>Paid</td>\n",
              "      <td>400.00</td>\n",
              "      <td>Everyone</td>\n",
              "      <td>Lifestyle</td>\n",
              "    </tr>\n",
              "    <tr>\n",
              "      <th>2461</th>\n",
              "      <td>I AM RICH PRO PLUS</td>\n",
              "      <td>FINANCE</td>\n",
              "      <td>4.00</td>\n",
              "      <td>36</td>\n",
              "      <td>41.00</td>\n",
              "      <td>1000</td>\n",
              "      <td>Paid</td>\n",
              "      <td>399.99</td>\n",
              "      <td>Everyone</td>\n",
              "      <td>Finance</td>\n",
              "    </tr>\n",
              "    <tr>\n",
              "      <th>4606</th>\n",
              "      <td>I Am Rich Premium</td>\n",
              "      <td>FINANCE</td>\n",
              "      <td>4.10</td>\n",
              "      <td>1867</td>\n",
              "      <td>4.70</td>\n",
              "      <td>50000</td>\n",
              "      <td>Paid</td>\n",
              "      <td>399.99</td>\n",
              "      <td>Everyone</td>\n",
              "      <td>Finance</td>\n",
              "    </tr>\n",
              "    <tr>\n",
              "      <th>3145</th>\n",
              "      <td>I am rich(premium)</td>\n",
              "      <td>FINANCE</td>\n",
              "      <td>3.50</td>\n",
              "      <td>472</td>\n",
              "      <td>0.94</td>\n",
              "      <td>5000</td>\n",
              "      <td>Paid</td>\n",
              "      <td>399.99</td>\n",
              "      <td>Everyone</td>\n",
              "      <td>Finance</td>\n",
              "    </tr>\n",
              "    <tr>\n",
              "      <th>3554</th>\n",
              "      <td>💎 I'm rich</td>\n",
              "      <td>LIFESTYLE</td>\n",
              "      <td>3.80</td>\n",
              "      <td>718</td>\n",
              "      <td>26.00</td>\n",
              "      <td>10000</td>\n",
              "      <td>Paid</td>\n",
              "      <td>399.99</td>\n",
              "      <td>Everyone</td>\n",
              "      <td>Lifestyle</td>\n",
              "    </tr>\n",
              "    <tr>\n",
              "      <th>5765</th>\n",
              "      <td>I am rich</td>\n",
              "      <td>LIFESTYLE</td>\n",
              "      <td>3.80</td>\n",
              "      <td>3547</td>\n",
              "      <td>1.80</td>\n",
              "      <td>100000</td>\n",
              "      <td>Paid</td>\n",
              "      <td>399.99</td>\n",
              "      <td>Everyone</td>\n",
              "      <td>Lifestyle</td>\n",
              "    </tr>\n",
              "    <tr>\n",
              "      <th>1946</th>\n",
              "      <td>I am rich (Most expensive app)</td>\n",
              "      <td>FINANCE</td>\n",
              "      <td>4.10</td>\n",
              "      <td>129</td>\n",
              "      <td>2.70</td>\n",
              "      <td>1000</td>\n",
              "      <td>Paid</td>\n",
              "      <td>399.99</td>\n",
              "      <td>Teen</td>\n",
              "      <td>Finance</td>\n",
              "    </tr>\n",
              "    <tr>\n",
              "      <th>2775</th>\n",
              "      <td>I Am Rich Pro</td>\n",
              "      <td>FAMILY</td>\n",
              "      <td>4.40</td>\n",
              "      <td>201</td>\n",
              "      <td>2.70</td>\n",
              "      <td>5000</td>\n",
              "      <td>Paid</td>\n",
              "      <td>399.99</td>\n",
              "      <td>Everyone</td>\n",
              "      <td>Entertainment</td>\n",
              "    </tr>\n",
              "    <tr>\n",
              "      <th>3221</th>\n",
              "      <td>I am Rich Plus</td>\n",
              "      <td>FAMILY</td>\n",
              "      <td>4.00</td>\n",
              "      <td>856</td>\n",
              "      <td>8.70</td>\n",
              "      <td>10000</td>\n",
              "      <td>Paid</td>\n",
              "      <td>399.99</td>\n",
              "      <td>Everyone</td>\n",
              "      <td>Entertainment</td>\n",
              "    </tr>\n",
              "    <tr>\n",
              "      <th>3114</th>\n",
              "      <td>I am Rich</td>\n",
              "      <td>FINANCE</td>\n",
              "      <td>4.30</td>\n",
              "      <td>180</td>\n",
              "      <td>3.80</td>\n",
              "      <td>5000</td>\n",
              "      <td>Paid</td>\n",
              "      <td>399.99</td>\n",
              "      <td>Everyone</td>\n",
              "      <td>Finance</td>\n",
              "    </tr>\n",
              "    <tr>\n",
              "      <th>1331</th>\n",
              "      <td>most expensive app (H)</td>\n",
              "      <td>FAMILY</td>\n",
              "      <td>4.30</td>\n",
              "      <td>6</td>\n",
              "      <td>1.50</td>\n",
              "      <td>100</td>\n",
              "      <td>Paid</td>\n",
              "      <td>399.99</td>\n",
              "      <td>Everyone</td>\n",
              "      <td>Entertainment</td>\n",
              "    </tr>\n",
              "    <tr>\n",
              "      <th>2394</th>\n",
              "      <td>I am Rich!</td>\n",
              "      <td>FINANCE</td>\n",
              "      <td>3.80</td>\n",
              "      <td>93</td>\n",
              "      <td>22.00</td>\n",
              "      <td>1000</td>\n",
              "      <td>Paid</td>\n",
              "      <td>399.99</td>\n",
              "      <td>Everyone</td>\n",
              "      <td>Finance</td>\n",
              "    </tr>\n",
              "    <tr>\n",
              "      <th>3897</th>\n",
              "      <td>I Am Rich</td>\n",
              "      <td>FAMILY</td>\n",
              "      <td>3.60</td>\n",
              "      <td>217</td>\n",
              "      <td>4.90</td>\n",
              "      <td>10000</td>\n",
              "      <td>Paid</td>\n",
              "      <td>389.99</td>\n",
              "      <td>Everyone</td>\n",
              "      <td>Entertainment</td>\n",
              "    </tr>\n",
              "    <tr>\n",
              "      <th>2193</th>\n",
              "      <td>I am extremely Rich</td>\n",
              "      <td>LIFESTYLE</td>\n",
              "      <td>2.90</td>\n",
              "      <td>41</td>\n",
              "      <td>2.90</td>\n",
              "      <td>1000</td>\n",
              "      <td>Paid</td>\n",
              "      <td>379.99</td>\n",
              "      <td>Everyone</td>\n",
              "      <td>Lifestyle</td>\n",
              "    </tr>\n",
              "    <tr>\n",
              "      <th>3856</th>\n",
              "      <td>I am rich VIP</td>\n",
              "      <td>LIFESTYLE</td>\n",
              "      <td>3.80</td>\n",
              "      <td>411</td>\n",
              "      <td>2.60</td>\n",
              "      <td>10000</td>\n",
              "      <td>Paid</td>\n",
              "      <td>299.99</td>\n",
              "      <td>Everyone</td>\n",
              "      <td>Lifestyle</td>\n",
              "    </tr>\n",
              "    <tr>\n",
              "      <th>2281</th>\n",
              "      <td>Vargo Anesthesia Mega App</td>\n",
              "      <td>MEDICAL</td>\n",
              "      <td>4.60</td>\n",
              "      <td>92</td>\n",
              "      <td>32.00</td>\n",
              "      <td>1000</td>\n",
              "      <td>Paid</td>\n",
              "      <td>79.99</td>\n",
              "      <td>Everyone</td>\n",
              "      <td>Medical</td>\n",
              "    </tr>\n",
              "    <tr>\n",
              "      <th>1407</th>\n",
              "      <td>LTC AS Legal</td>\n",
              "      <td>MEDICAL</td>\n",
              "      <td>4.00</td>\n",
              "      <td>6</td>\n",
              "      <td>1.30</td>\n",
              "      <td>100</td>\n",
              "      <td>Paid</td>\n",
              "      <td>39.99</td>\n",
              "      <td>Everyone</td>\n",
              "      <td>Medical</td>\n",
              "    </tr>\n",
              "    <tr>\n",
              "      <th>2629</th>\n",
              "      <td>I am Rich Person</td>\n",
              "      <td>LIFESTYLE</td>\n",
              "      <td>4.20</td>\n",
              "      <td>134</td>\n",
              "      <td>1.80</td>\n",
              "      <td>1000</td>\n",
              "      <td>Paid</td>\n",
              "      <td>37.99</td>\n",
              "      <td>Everyone</td>\n",
              "      <td>Lifestyle</td>\n",
              "    </tr>\n",
              "    <tr>\n",
              "      <th>2481</th>\n",
              "      <td>A Manual of Acupuncture</td>\n",
              "      <td>MEDICAL</td>\n",
              "      <td>3.50</td>\n",
              "      <td>214</td>\n",
              "      <td>68.00</td>\n",
              "      <td>1000</td>\n",
              "      <td>Paid</td>\n",
              "      <td>33.99</td>\n",
              "      <td>Everyone</td>\n",
              "      <td>Medical</td>\n",
              "    </tr>\n",
              "    <tr>\n",
              "      <th>4264</th>\n",
              "      <td>Golfshot Plus: Golf GPS</td>\n",
              "      <td>SPORTS</td>\n",
              "      <td>4.10</td>\n",
              "      <td>3387</td>\n",
              "      <td>25.00</td>\n",
              "      <td>50000</td>\n",
              "      <td>Paid</td>\n",
              "      <td>29.99</td>\n",
              "      <td>Everyone</td>\n",
              "      <td>Sports</td>\n",
              "    </tr>\n",
              "  </tbody>\n",
              "</table>\n",
              "</div>"
            ],
            "text/plain": [
              "                                 App   Category  ...  Content_Rating         Genres\n",
              "3946        I'm Rich - Trump Edition  LIFESTYLE  ...        Everyone      Lifestyle\n",
              "2461              I AM RICH PRO PLUS    FINANCE  ...        Everyone        Finance\n",
              "4606               I Am Rich Premium    FINANCE  ...        Everyone        Finance\n",
              "3145              I am rich(premium)    FINANCE  ...        Everyone        Finance\n",
              "3554                      💎 I'm rich  LIFESTYLE  ...        Everyone      Lifestyle\n",
              "5765                       I am rich  LIFESTYLE  ...        Everyone      Lifestyle\n",
              "1946  I am rich (Most expensive app)    FINANCE  ...            Teen        Finance\n",
              "2775                   I Am Rich Pro     FAMILY  ...        Everyone  Entertainment\n",
              "3221                  I am Rich Plus     FAMILY  ...        Everyone  Entertainment\n",
              "3114                       I am Rich    FINANCE  ...        Everyone        Finance\n",
              "1331          most expensive app (H)     FAMILY  ...        Everyone  Entertainment\n",
              "2394                      I am Rich!    FINANCE  ...        Everyone        Finance\n",
              "3897                       I Am Rich     FAMILY  ...        Everyone  Entertainment\n",
              "2193             I am extremely Rich  LIFESTYLE  ...        Everyone      Lifestyle\n",
              "3856                   I am rich VIP  LIFESTYLE  ...        Everyone      Lifestyle\n",
              "2281       Vargo Anesthesia Mega App    MEDICAL  ...        Everyone        Medical\n",
              "1407                    LTC AS Legal    MEDICAL  ...        Everyone        Medical\n",
              "2629                I am Rich Person  LIFESTYLE  ...        Everyone      Lifestyle\n",
              "2481         A Manual of Acupuncture    MEDICAL  ...        Everyone        Medical\n",
              "4264         Golfshot Plus: Golf GPS     SPORTS  ...        Everyone         Sports\n",
              "\n",
              "[20 rows x 10 columns]"
            ]
          },
          "metadata": {
            "tags": []
          },
          "execution_count": 39
        }
      ]
    },
    {
      "cell_type": "markdown",
      "metadata": {
        "id": "Rgposh-CdiU4"
      },
      "source": [
        "### The most expensive apps sub $250"
      ]
    },
    {
      "cell_type": "code",
      "metadata": {
        "id": "c8_n8z8XoUML",
        "colab": {
          "base_uri": "https://localhost:8080/",
          "height": 202
        },
        "outputId": "6a1b21de-be07-400b-9d51-2e9b38edc0b3"
      },
      "source": [
        "df_apps_clean = df_apps_clean[df_apps_clean['Price']<250]\r\n",
        "df_apps_clean.sort_values('Price', ascending=False).head(5)"
      ],
      "execution_count": 40,
      "outputs": [
        {
          "output_type": "execute_result",
          "data": {
            "text/html": [
              "<div>\n",
              "<style scoped>\n",
              "    .dataframe tbody tr th:only-of-type {\n",
              "        vertical-align: middle;\n",
              "    }\n",
              "\n",
              "    .dataframe tbody tr th {\n",
              "        vertical-align: top;\n",
              "    }\n",
              "\n",
              "    .dataframe thead th {\n",
              "        text-align: right;\n",
              "    }\n",
              "</style>\n",
              "<table border=\"1\" class=\"dataframe\">\n",
              "  <thead>\n",
              "    <tr style=\"text-align: right;\">\n",
              "      <th></th>\n",
              "      <th>App</th>\n",
              "      <th>Category</th>\n",
              "      <th>Rating</th>\n",
              "      <th>Reviews</th>\n",
              "      <th>Size_MBs</th>\n",
              "      <th>Installs</th>\n",
              "      <th>Type</th>\n",
              "      <th>Price</th>\n",
              "      <th>Content_Rating</th>\n",
              "      <th>Genres</th>\n",
              "    </tr>\n",
              "  </thead>\n",
              "  <tbody>\n",
              "    <tr>\n",
              "      <th>2281</th>\n",
              "      <td>Vargo Anesthesia Mega App</td>\n",
              "      <td>MEDICAL</td>\n",
              "      <td>4.60</td>\n",
              "      <td>92</td>\n",
              "      <td>32.00</td>\n",
              "      <td>1000</td>\n",
              "      <td>Paid</td>\n",
              "      <td>79.99</td>\n",
              "      <td>Everyone</td>\n",
              "      <td>Medical</td>\n",
              "    </tr>\n",
              "    <tr>\n",
              "      <th>1407</th>\n",
              "      <td>LTC AS Legal</td>\n",
              "      <td>MEDICAL</td>\n",
              "      <td>4.00</td>\n",
              "      <td>6</td>\n",
              "      <td>1.30</td>\n",
              "      <td>100</td>\n",
              "      <td>Paid</td>\n",
              "      <td>39.99</td>\n",
              "      <td>Everyone</td>\n",
              "      <td>Medical</td>\n",
              "    </tr>\n",
              "    <tr>\n",
              "      <th>2629</th>\n",
              "      <td>I am Rich Person</td>\n",
              "      <td>LIFESTYLE</td>\n",
              "      <td>4.20</td>\n",
              "      <td>134</td>\n",
              "      <td>1.80</td>\n",
              "      <td>1000</td>\n",
              "      <td>Paid</td>\n",
              "      <td>37.99</td>\n",
              "      <td>Everyone</td>\n",
              "      <td>Lifestyle</td>\n",
              "    </tr>\n",
              "    <tr>\n",
              "      <th>2481</th>\n",
              "      <td>A Manual of Acupuncture</td>\n",
              "      <td>MEDICAL</td>\n",
              "      <td>3.50</td>\n",
              "      <td>214</td>\n",
              "      <td>68.00</td>\n",
              "      <td>1000</td>\n",
              "      <td>Paid</td>\n",
              "      <td>33.99</td>\n",
              "      <td>Everyone</td>\n",
              "      <td>Medical</td>\n",
              "    </tr>\n",
              "    <tr>\n",
              "      <th>2463</th>\n",
              "      <td>PTA Content Master</td>\n",
              "      <td>MEDICAL</td>\n",
              "      <td>4.20</td>\n",
              "      <td>64</td>\n",
              "      <td>41.00</td>\n",
              "      <td>1000</td>\n",
              "      <td>Paid</td>\n",
              "      <td>29.99</td>\n",
              "      <td>Everyone</td>\n",
              "      <td>Medical</td>\n",
              "    </tr>\n",
              "  </tbody>\n",
              "</table>\n",
              "</div>"
            ],
            "text/plain": [
              "                            App   Category  ...  Content_Rating     Genres\n",
              "2281  Vargo Anesthesia Mega App    MEDICAL  ...        Everyone    Medical\n",
              "1407               LTC AS Legal    MEDICAL  ...        Everyone    Medical\n",
              "2629           I am Rich Person  LIFESTYLE  ...        Everyone  Lifestyle\n",
              "2481    A Manual of Acupuncture    MEDICAL  ...        Everyone    Medical\n",
              "2463         PTA Content Master    MEDICAL  ...        Everyone    Medical\n",
              "\n",
              "[5 rows x 10 columns]"
            ]
          },
          "metadata": {
            "tags": []
          },
          "execution_count": 40
        }
      ]
    },
    {
      "cell_type": "markdown",
      "metadata": {
        "id": "VGu85CLb4OOH"
      },
      "source": [
        "### Highest Grossing Paid Apps (ballpark estimate)"
      ]
    },
    {
      "cell_type": "code",
      "metadata": {
        "id": "3mDi45iIoVzE",
        "colab": {
          "base_uri": "https://localhost:8080/",
          "height": 687
        },
        "outputId": "e9f0d774-be17-4123-fae3-dfa2bd66f531"
      },
      "source": [
        "df_apps_clean['Revenue_Estimates'] = df_apps_clean.Installs.mul(df_apps_clean.Price)\r\n",
        "df_apps_clean.sort_values('Revenue_Estimates', ascending=False)[:10]"
      ],
      "execution_count": 42,
      "outputs": [
        {
          "output_type": "execute_result",
          "data": {
            "text/html": [
              "<div>\n",
              "<style scoped>\n",
              "    .dataframe tbody tr th:only-of-type {\n",
              "        vertical-align: middle;\n",
              "    }\n",
              "\n",
              "    .dataframe tbody tr th {\n",
              "        vertical-align: top;\n",
              "    }\n",
              "\n",
              "    .dataframe thead th {\n",
              "        text-align: right;\n",
              "    }\n",
              "</style>\n",
              "<table border=\"1\" class=\"dataframe\">\n",
              "  <thead>\n",
              "    <tr style=\"text-align: right;\">\n",
              "      <th></th>\n",
              "      <th>App</th>\n",
              "      <th>Category</th>\n",
              "      <th>Rating</th>\n",
              "      <th>Reviews</th>\n",
              "      <th>Size_MBs</th>\n",
              "      <th>Installs</th>\n",
              "      <th>Type</th>\n",
              "      <th>Price</th>\n",
              "      <th>Content_Rating</th>\n",
              "      <th>Genres</th>\n",
              "      <th>Revenue Estimates</th>\n",
              "      <th>Revenue_Estimates</th>\n",
              "    </tr>\n",
              "  </thead>\n",
              "  <tbody>\n",
              "    <tr>\n",
              "      <th>9220</th>\n",
              "      <td>Minecraft</td>\n",
              "      <td>FAMILY</td>\n",
              "      <td>4.50</td>\n",
              "      <td>2376564</td>\n",
              "      <td>19.00</td>\n",
              "      <td>10000000</td>\n",
              "      <td>Paid</td>\n",
              "      <td>6.99</td>\n",
              "      <td>Everyone 10+</td>\n",
              "      <td>Arcade;Action &amp; Adventure</td>\n",
              "      <td>69,900,000.00</td>\n",
              "      <td>69,900,000.00</td>\n",
              "    </tr>\n",
              "    <tr>\n",
              "      <th>8825</th>\n",
              "      <td>Hitman Sniper</td>\n",
              "      <td>GAME</td>\n",
              "      <td>4.60</td>\n",
              "      <td>408292</td>\n",
              "      <td>29.00</td>\n",
              "      <td>10000000</td>\n",
              "      <td>Paid</td>\n",
              "      <td>0.99</td>\n",
              "      <td>Mature 17+</td>\n",
              "      <td>Action</td>\n",
              "      <td>9,900,000.00</td>\n",
              "      <td>9,900,000.00</td>\n",
              "    </tr>\n",
              "    <tr>\n",
              "      <th>7151</th>\n",
              "      <td>Grand Theft Auto: San Andreas</td>\n",
              "      <td>GAME</td>\n",
              "      <td>4.40</td>\n",
              "      <td>348962</td>\n",
              "      <td>26.00</td>\n",
              "      <td>1000000</td>\n",
              "      <td>Paid</td>\n",
              "      <td>6.99</td>\n",
              "      <td>Mature 17+</td>\n",
              "      <td>Action</td>\n",
              "      <td>6,990,000.00</td>\n",
              "      <td>6,990,000.00</td>\n",
              "    </tr>\n",
              "    <tr>\n",
              "      <th>7477</th>\n",
              "      <td>Facetune - For Free</td>\n",
              "      <td>PHOTOGRAPHY</td>\n",
              "      <td>4.40</td>\n",
              "      <td>49553</td>\n",
              "      <td>48.00</td>\n",
              "      <td>1000000</td>\n",
              "      <td>Paid</td>\n",
              "      <td>5.99</td>\n",
              "      <td>Everyone</td>\n",
              "      <td>Photography</td>\n",
              "      <td>5,990,000.00</td>\n",
              "      <td>5,990,000.00</td>\n",
              "    </tr>\n",
              "    <tr>\n",
              "      <th>7977</th>\n",
              "      <td>Sleep as Android Unlock</td>\n",
              "      <td>LIFESTYLE</td>\n",
              "      <td>4.50</td>\n",
              "      <td>23966</td>\n",
              "      <td>0.85</td>\n",
              "      <td>1000000</td>\n",
              "      <td>Paid</td>\n",
              "      <td>5.99</td>\n",
              "      <td>Everyone</td>\n",
              "      <td>Lifestyle</td>\n",
              "      <td>5,990,000.00</td>\n",
              "      <td>5,990,000.00</td>\n",
              "    </tr>\n",
              "    <tr>\n",
              "      <th>6594</th>\n",
              "      <td>DraStic DS Emulator</td>\n",
              "      <td>GAME</td>\n",
              "      <td>4.60</td>\n",
              "      <td>87766</td>\n",
              "      <td>12.00</td>\n",
              "      <td>1000000</td>\n",
              "      <td>Paid</td>\n",
              "      <td>4.99</td>\n",
              "      <td>Everyone</td>\n",
              "      <td>Action</td>\n",
              "      <td>4,990,000.00</td>\n",
              "      <td>4,990,000.00</td>\n",
              "    </tr>\n",
              "    <tr>\n",
              "      <th>6082</th>\n",
              "      <td>Weather Live</td>\n",
              "      <td>WEATHER</td>\n",
              "      <td>4.50</td>\n",
              "      <td>76593</td>\n",
              "      <td>4.75</td>\n",
              "      <td>500000</td>\n",
              "      <td>Paid</td>\n",
              "      <td>5.99</td>\n",
              "      <td>Everyone</td>\n",
              "      <td>Weather</td>\n",
              "      <td>2,995,000.00</td>\n",
              "      <td>2,995,000.00</td>\n",
              "    </tr>\n",
              "    <tr>\n",
              "      <th>7954</th>\n",
              "      <td>Bloons TD 5</td>\n",
              "      <td>FAMILY</td>\n",
              "      <td>4.60</td>\n",
              "      <td>190086</td>\n",
              "      <td>94.00</td>\n",
              "      <td>1000000</td>\n",
              "      <td>Paid</td>\n",
              "      <td>2.99</td>\n",
              "      <td>Everyone</td>\n",
              "      <td>Strategy</td>\n",
              "      <td>2,990,000.00</td>\n",
              "      <td>2,990,000.00</td>\n",
              "    </tr>\n",
              "    <tr>\n",
              "      <th>7633</th>\n",
              "      <td>Five Nights at Freddy's</td>\n",
              "      <td>GAME</td>\n",
              "      <td>4.60</td>\n",
              "      <td>100805</td>\n",
              "      <td>50.00</td>\n",
              "      <td>1000000</td>\n",
              "      <td>Paid</td>\n",
              "      <td>2.99</td>\n",
              "      <td>Teen</td>\n",
              "      <td>Action</td>\n",
              "      <td>2,990,000.00</td>\n",
              "      <td>2,990,000.00</td>\n",
              "    </tr>\n",
              "    <tr>\n",
              "      <th>6746</th>\n",
              "      <td>Card Wars - Adventure Time</td>\n",
              "      <td>FAMILY</td>\n",
              "      <td>4.30</td>\n",
              "      <td>129603</td>\n",
              "      <td>23.00</td>\n",
              "      <td>1000000</td>\n",
              "      <td>Paid</td>\n",
              "      <td>2.99</td>\n",
              "      <td>Everyone 10+</td>\n",
              "      <td>Card;Action &amp; Adventure</td>\n",
              "      <td>2,990,000.00</td>\n",
              "      <td>2,990,000.00</td>\n",
              "    </tr>\n",
              "  </tbody>\n",
              "</table>\n",
              "</div>"
            ],
            "text/plain": [
              "                                App  ... Revenue_Estimates\n",
              "9220                      Minecraft  ...     69,900,000.00\n",
              "8825                  Hitman Sniper  ...      9,900,000.00\n",
              "7151  Grand Theft Auto: San Andreas  ...      6,990,000.00\n",
              "7477            Facetune - For Free  ...      5,990,000.00\n",
              "7977        Sleep as Android Unlock  ...      5,990,000.00\n",
              "6594            DraStic DS Emulator  ...      4,990,000.00\n",
              "6082                   Weather Live  ...      2,995,000.00\n",
              "7954                    Bloons TD 5  ...      2,990,000.00\n",
              "7633        Five Nights at Freddy's  ...      2,990,000.00\n",
              "6746     Card Wars - Adventure Time  ...      2,990,000.00\n",
              "\n",
              "[10 rows x 12 columns]"
            ]
          },
          "metadata": {
            "tags": []
          },
          "execution_count": 42
        }
      ]
    },
    {
      "cell_type": "markdown",
      "metadata": {
        "dc": {
          "key": "18"
        },
        "run_control": {
          "frozen": true
        },
        "tags": [
          "context"
        ],
        "id": "lvpM2MyTdiU6"
      },
      "source": [
        "# Plotly Bar Charts & Scatter Plots: Analysing App Categories"
      ]
    },
    {
      "cell_type": "code",
      "metadata": {
        "id": "3L6hK0aLoYxY"
      },
      "source": [
        ""
      ],
      "execution_count": 17,
      "outputs": []
    },
    {
      "cell_type": "code",
      "metadata": {
        "id": "mg50Ts9joYz1"
      },
      "source": [
        ""
      ],
      "execution_count": 17,
      "outputs": []
    },
    {
      "cell_type": "code",
      "metadata": {
        "id": "WZZizlGjoYfn"
      },
      "source": [
        ""
      ],
      "execution_count": 17,
      "outputs": []
    },
    {
      "cell_type": "markdown",
      "metadata": {
        "id": "0tTurR7qdiU9"
      },
      "source": [
        "### Vertical Bar Chart - Highest Competition (Number of Apps)"
      ]
    },
    {
      "cell_type": "code",
      "metadata": {
        "id": "SFSMH00AoaMB",
        "colab": {
          "base_uri": "https://localhost:8080/"
        },
        "outputId": "af110a9c-2658-4253-a122-12ed038a4924"
      },
      "source": [
        "df_apps_clean.Category.nunique()"
      ],
      "execution_count": 43,
      "outputs": [
        {
          "output_type": "execute_result",
          "data": {
            "text/plain": [
              "33"
            ]
          },
          "metadata": {
            "tags": []
          },
          "execution_count": 43
        }
      ]
    },
    {
      "cell_type": "code",
      "metadata": {
        "colab": {
          "base_uri": "https://localhost:8080/"
        },
        "id": "U7TbkfdnMpLU",
        "outputId": "98d0d9f7-da35-4784-fe63-ed0b915162a6"
      },
      "source": [
        "top10_category = df_apps_clean.Category.value_counts()[:10]\r\n",
        "top10_category"
      ],
      "execution_count": 44,
      "outputs": [
        {
          "output_type": "execute_result",
          "data": {
            "text/plain": [
              "FAMILY             1606\n",
              "GAME                910\n",
              "TOOLS               719\n",
              "PRODUCTIVITY        301\n",
              "PERSONALIZATION     298\n",
              "LIFESTYLE           297\n",
              "FINANCE             296\n",
              "MEDICAL             292\n",
              "PHOTOGRAPHY         263\n",
              "BUSINESS            262\n",
              "Name: Category, dtype: int64"
            ]
          },
          "metadata": {
            "tags": []
          },
          "execution_count": 44
        }
      ]
    },
    {
      "cell_type": "code",
      "metadata": {
        "colab": {
          "base_uri": "https://localhost:8080/",
          "height": 542
        },
        "id": "7hQj0pbSM280",
        "outputId": "84ef453b-d637-4fc9-bc7b-deb6cef6e797"
      },
      "source": [
        "bar = px.bar(x=top10_category.index,\r\n",
        "             y=top10_category.values)\r\n",
        "bar.show()"
      ],
      "execution_count": 46,
      "outputs": [
        {
          "output_type": "display_data",
          "data": {
            "text/html": [
              "<html>\n",
              "<head><meta charset=\"utf-8\" /></head>\n",
              "<body>\n",
              "    <div>\n",
              "            <script src=\"https://cdnjs.cloudflare.com/ajax/libs/mathjax/2.7.5/MathJax.js?config=TeX-AMS-MML_SVG\"></script><script type=\"text/javascript\">if (window.MathJax) {MathJax.Hub.Config({SVG: {font: \"STIX-Web\"}});}</script>\n",
              "                <script type=\"text/javascript\">window.PlotlyConfig = {MathJaxConfig: 'local'};</script>\n",
              "        <script src=\"https://cdn.plot.ly/plotly-latest.min.js\"></script>    \n",
              "            <div id=\"73559646-b137-40ac-9501-27d71ddaa60e\" class=\"plotly-graph-div\" style=\"height:525px; width:100%;\"></div>\n",
              "            <script type=\"text/javascript\">\n",
              "                \n",
              "                    window.PLOTLYENV=window.PLOTLYENV || {};\n",
              "                    \n",
              "                if (document.getElementById(\"73559646-b137-40ac-9501-27d71ddaa60e\")) {\n",
              "                    Plotly.newPlot(\n",
              "                        '73559646-b137-40ac-9501-27d71ddaa60e',\n",
              "                        [{\"alignmentgroup\": \"True\", \"hoverlabel\": {\"namelength\": 0}, \"hovertemplate\": \"x=%{x}<br>y=%{y}\", \"legendgroup\": \"\", \"marker\": {\"color\": \"#636efa\"}, \"name\": \"\", \"offsetgroup\": \"\", \"orientation\": \"v\", \"showlegend\": false, \"textposition\": \"auto\", \"type\": \"bar\", \"x\": [\"FAMILY\", \"GAME\", \"TOOLS\", \"PRODUCTIVITY\", \"PERSONALIZATION\", \"LIFESTYLE\", \"FINANCE\", \"MEDICAL\", \"PHOTOGRAPHY\", \"BUSINESS\"], \"xaxis\": \"x\", \"y\": [1606, 910, 719, 301, 298, 297, 296, 292, 263, 262], \"yaxis\": \"y\"}],\n",
              "                        {\"barmode\": \"relative\", \"legend\": {\"tracegroupgap\": 0}, \"margin\": {\"t\": 60}, \"template\": {\"data\": {\"bar\": [{\"error_x\": {\"color\": \"#2a3f5f\"}, \"error_y\": {\"color\": \"#2a3f5f\"}, \"marker\": {\"line\": {\"color\": \"#E5ECF6\", \"width\": 0.5}}, \"type\": \"bar\"}], \"barpolar\": [{\"marker\": {\"line\": {\"color\": \"#E5ECF6\", \"width\": 0.5}}, \"type\": \"barpolar\"}], \"carpet\": [{\"aaxis\": {\"endlinecolor\": \"#2a3f5f\", \"gridcolor\": \"white\", \"linecolor\": \"white\", \"minorgridcolor\": \"white\", \"startlinecolor\": \"#2a3f5f\"}, \"baxis\": {\"endlinecolor\": \"#2a3f5f\", \"gridcolor\": \"white\", \"linecolor\": \"white\", \"minorgridcolor\": \"white\", \"startlinecolor\": \"#2a3f5f\"}, \"type\": \"carpet\"}], \"choropleth\": [{\"colorbar\": {\"outlinewidth\": 0, \"ticks\": \"\"}, \"type\": \"choropleth\"}], \"contour\": [{\"colorbar\": {\"outlinewidth\": 0, \"ticks\": \"\"}, \"colorscale\": [[0.0, \"#0d0887\"], [0.1111111111111111, \"#46039f\"], [0.2222222222222222, \"#7201a8\"], [0.3333333333333333, \"#9c179e\"], [0.4444444444444444, \"#bd3786\"], [0.5555555555555556, \"#d8576b\"], [0.6666666666666666, \"#ed7953\"], [0.7777777777777778, \"#fb9f3a\"], [0.8888888888888888, \"#fdca26\"], [1.0, \"#f0f921\"]], \"type\": \"contour\"}], \"contourcarpet\": [{\"colorbar\": {\"outlinewidth\": 0, \"ticks\": \"\"}, \"type\": \"contourcarpet\"}], \"heatmap\": [{\"colorbar\": {\"outlinewidth\": 0, \"ticks\": \"\"}, \"colorscale\": [[0.0, \"#0d0887\"], [0.1111111111111111, \"#46039f\"], [0.2222222222222222, \"#7201a8\"], [0.3333333333333333, \"#9c179e\"], [0.4444444444444444, \"#bd3786\"], [0.5555555555555556, \"#d8576b\"], [0.6666666666666666, \"#ed7953\"], [0.7777777777777778, \"#fb9f3a\"], [0.8888888888888888, \"#fdca26\"], [1.0, \"#f0f921\"]], \"type\": \"heatmap\"}], \"heatmapgl\": [{\"colorbar\": {\"outlinewidth\": 0, \"ticks\": \"\"}, \"colorscale\": [[0.0, \"#0d0887\"], [0.1111111111111111, \"#46039f\"], [0.2222222222222222, \"#7201a8\"], [0.3333333333333333, \"#9c179e\"], [0.4444444444444444, \"#bd3786\"], [0.5555555555555556, \"#d8576b\"], [0.6666666666666666, \"#ed7953\"], [0.7777777777777778, \"#fb9f3a\"], [0.8888888888888888, \"#fdca26\"], [1.0, \"#f0f921\"]], \"type\": \"heatmapgl\"}], \"histogram\": [{\"marker\": {\"colorbar\": {\"outlinewidth\": 0, \"ticks\": \"\"}}, \"type\": \"histogram\"}], \"histogram2d\": [{\"colorbar\": {\"outlinewidth\": 0, \"ticks\": \"\"}, \"colorscale\": [[0.0, \"#0d0887\"], [0.1111111111111111, \"#46039f\"], [0.2222222222222222, \"#7201a8\"], [0.3333333333333333, \"#9c179e\"], [0.4444444444444444, \"#bd3786\"], [0.5555555555555556, \"#d8576b\"], [0.6666666666666666, \"#ed7953\"], [0.7777777777777778, \"#fb9f3a\"], [0.8888888888888888, \"#fdca26\"], [1.0, \"#f0f921\"]], \"type\": \"histogram2d\"}], \"histogram2dcontour\": [{\"colorbar\": {\"outlinewidth\": 0, \"ticks\": \"\"}, \"colorscale\": [[0.0, \"#0d0887\"], [0.1111111111111111, \"#46039f\"], [0.2222222222222222, \"#7201a8\"], [0.3333333333333333, \"#9c179e\"], [0.4444444444444444, \"#bd3786\"], [0.5555555555555556, \"#d8576b\"], [0.6666666666666666, \"#ed7953\"], [0.7777777777777778, \"#fb9f3a\"], [0.8888888888888888, \"#fdca26\"], [1.0, \"#f0f921\"]], \"type\": \"histogram2dcontour\"}], \"mesh3d\": [{\"colorbar\": {\"outlinewidth\": 0, \"ticks\": \"\"}, \"type\": \"mesh3d\"}], \"parcoords\": [{\"line\": {\"colorbar\": {\"outlinewidth\": 0, \"ticks\": \"\"}}, \"type\": \"parcoords\"}], \"pie\": [{\"automargin\": true, \"type\": \"pie\"}], \"scatter\": [{\"marker\": {\"colorbar\": {\"outlinewidth\": 0, \"ticks\": \"\"}}, \"type\": \"scatter\"}], \"scatter3d\": [{\"line\": {\"colorbar\": {\"outlinewidth\": 0, \"ticks\": \"\"}}, \"marker\": {\"colorbar\": {\"outlinewidth\": 0, \"ticks\": \"\"}}, \"type\": \"scatter3d\"}], \"scattercarpet\": [{\"marker\": {\"colorbar\": {\"outlinewidth\": 0, \"ticks\": \"\"}}, \"type\": \"scattercarpet\"}], \"scattergeo\": [{\"marker\": {\"colorbar\": {\"outlinewidth\": 0, \"ticks\": \"\"}}, \"type\": \"scattergeo\"}], \"scattergl\": [{\"marker\": {\"colorbar\": {\"outlinewidth\": 0, \"ticks\": \"\"}}, \"type\": \"scattergl\"}], \"scattermapbox\": [{\"marker\": {\"colorbar\": {\"outlinewidth\": 0, \"ticks\": \"\"}}, \"type\": \"scattermapbox\"}], \"scatterpolar\": [{\"marker\": {\"colorbar\": {\"outlinewidth\": 0, \"ticks\": \"\"}}, \"type\": \"scatterpolar\"}], \"scatterpolargl\": [{\"marker\": {\"colorbar\": {\"outlinewidth\": 0, \"ticks\": \"\"}}, \"type\": \"scatterpolargl\"}], \"scatterternary\": [{\"marker\": {\"colorbar\": {\"outlinewidth\": 0, \"ticks\": \"\"}}, \"type\": \"scatterternary\"}], \"surface\": [{\"colorbar\": {\"outlinewidth\": 0, \"ticks\": \"\"}, \"colorscale\": [[0.0, \"#0d0887\"], [0.1111111111111111, \"#46039f\"], [0.2222222222222222, \"#7201a8\"], [0.3333333333333333, \"#9c179e\"], [0.4444444444444444, \"#bd3786\"], [0.5555555555555556, \"#d8576b\"], [0.6666666666666666, \"#ed7953\"], [0.7777777777777778, \"#fb9f3a\"], [0.8888888888888888, \"#fdca26\"], [1.0, \"#f0f921\"]], \"type\": \"surface\"}], \"table\": [{\"cells\": {\"fill\": {\"color\": \"#EBF0F8\"}, \"line\": {\"color\": \"white\"}}, \"header\": {\"fill\": {\"color\": \"#C8D4E3\"}, \"line\": {\"color\": \"white\"}}, \"type\": \"table\"}]}, \"layout\": {\"annotationdefaults\": {\"arrowcolor\": \"#2a3f5f\", \"arrowhead\": 0, \"arrowwidth\": 1}, \"coloraxis\": {\"colorbar\": {\"outlinewidth\": 0, \"ticks\": \"\"}}, \"colorscale\": {\"diverging\": [[0, \"#8e0152\"], [0.1, \"#c51b7d\"], [0.2, \"#de77ae\"], [0.3, \"#f1b6da\"], [0.4, \"#fde0ef\"], [0.5, \"#f7f7f7\"], [0.6, \"#e6f5d0\"], [0.7, \"#b8e186\"], [0.8, \"#7fbc41\"], [0.9, \"#4d9221\"], [1, \"#276419\"]], \"sequential\": [[0.0, \"#0d0887\"], [0.1111111111111111, \"#46039f\"], [0.2222222222222222, \"#7201a8\"], [0.3333333333333333, \"#9c179e\"], [0.4444444444444444, \"#bd3786\"], [0.5555555555555556, \"#d8576b\"], [0.6666666666666666, \"#ed7953\"], [0.7777777777777778, \"#fb9f3a\"], [0.8888888888888888, \"#fdca26\"], [1.0, \"#f0f921\"]], \"sequentialminus\": [[0.0, \"#0d0887\"], [0.1111111111111111, \"#46039f\"], [0.2222222222222222, \"#7201a8\"], [0.3333333333333333, \"#9c179e\"], [0.4444444444444444, \"#bd3786\"], [0.5555555555555556, \"#d8576b\"], [0.6666666666666666, \"#ed7953\"], [0.7777777777777778, \"#fb9f3a\"], [0.8888888888888888, \"#fdca26\"], [1.0, \"#f0f921\"]]}, \"colorway\": [\"#636efa\", \"#EF553B\", \"#00cc96\", \"#ab63fa\", \"#FFA15A\", \"#19d3f3\", \"#FF6692\", \"#B6E880\", \"#FF97FF\", \"#FECB52\"], \"font\": {\"color\": \"#2a3f5f\"}, \"geo\": {\"bgcolor\": \"white\", \"lakecolor\": \"white\", \"landcolor\": \"#E5ECF6\", \"showlakes\": true, \"showland\": true, \"subunitcolor\": \"white\"}, \"hoverlabel\": {\"align\": \"left\"}, \"hovermode\": \"closest\", \"mapbox\": {\"style\": \"light\"}, \"paper_bgcolor\": \"white\", \"plot_bgcolor\": \"#E5ECF6\", \"polar\": {\"angularaxis\": {\"gridcolor\": \"white\", \"linecolor\": \"white\", \"ticks\": \"\"}, \"bgcolor\": \"#E5ECF6\", \"radialaxis\": {\"gridcolor\": \"white\", \"linecolor\": \"white\", \"ticks\": \"\"}}, \"scene\": {\"xaxis\": {\"backgroundcolor\": \"#E5ECF6\", \"gridcolor\": \"white\", \"gridwidth\": 2, \"linecolor\": \"white\", \"showbackground\": true, \"ticks\": \"\", \"zerolinecolor\": \"white\"}, \"yaxis\": {\"backgroundcolor\": \"#E5ECF6\", \"gridcolor\": \"white\", \"gridwidth\": 2, \"linecolor\": \"white\", \"showbackground\": true, \"ticks\": \"\", \"zerolinecolor\": \"white\"}, \"zaxis\": {\"backgroundcolor\": \"#E5ECF6\", \"gridcolor\": \"white\", \"gridwidth\": 2, \"linecolor\": \"white\", \"showbackground\": true, \"ticks\": \"\", \"zerolinecolor\": \"white\"}}, \"shapedefaults\": {\"line\": {\"color\": \"#2a3f5f\"}}, \"ternary\": {\"aaxis\": {\"gridcolor\": \"white\", \"linecolor\": \"white\", \"ticks\": \"\"}, \"baxis\": {\"gridcolor\": \"white\", \"linecolor\": \"white\", \"ticks\": \"\"}, \"bgcolor\": \"#E5ECF6\", \"caxis\": {\"gridcolor\": \"white\", \"linecolor\": \"white\", \"ticks\": \"\"}}, \"title\": {\"x\": 0.05}, \"xaxis\": {\"automargin\": true, \"gridcolor\": \"white\", \"linecolor\": \"white\", \"ticks\": \"\", \"title\": {\"standoff\": 15}, \"zerolinecolor\": \"white\", \"zerolinewidth\": 2}, \"yaxis\": {\"automargin\": true, \"gridcolor\": \"white\", \"linecolor\": \"white\", \"ticks\": \"\", \"title\": {\"standoff\": 15}, \"zerolinecolor\": \"white\", \"zerolinewidth\": 2}}}, \"xaxis\": {\"anchor\": \"y\", \"domain\": [0.0, 1.0], \"title\": {\"text\": \"x\"}}, \"yaxis\": {\"anchor\": \"x\", \"domain\": [0.0, 1.0], \"title\": {\"text\": \"y\"}}},\n",
              "                        {\"responsive\": true}\n",
              "                    ).then(function(){\n",
              "                            \n",
              "var gd = document.getElementById('73559646-b137-40ac-9501-27d71ddaa60e');\n",
              "var x = new MutationObserver(function (mutations, observer) {{\n",
              "        var display = window.getComputedStyle(gd).display;\n",
              "        if (!display || display === 'none') {{\n",
              "            console.log([gd, 'removed!']);\n",
              "            Plotly.purge(gd);\n",
              "            observer.disconnect();\n",
              "        }}\n",
              "}});\n",
              "\n",
              "// Listen for the removal of the full notebook cells\n",
              "var notebookContainer = gd.closest('#notebook-container');\n",
              "if (notebookContainer) {{\n",
              "    x.observe(notebookContainer, {childList: true});\n",
              "}}\n",
              "\n",
              "// Listen for the clearing of the current output cell\n",
              "var outputEl = gd.closest('.output');\n",
              "if (outputEl) {{\n",
              "    x.observe(outputEl, {childList: true});\n",
              "}}\n",
              "\n",
              "                        })\n",
              "                };\n",
              "                \n",
              "            </script>\n",
              "        </div>\n",
              "</body>\n",
              "</html>"
            ]
          },
          "metadata": {
            "tags": []
          }
        }
      ]
    },
    {
      "cell_type": "markdown",
      "metadata": {
        "id": "57mowetLdiU_"
      },
      "source": [
        "### Horizontal Bar Chart - Most Popular Categories (Highest Downloads)"
      ]
    },
    {
      "cell_type": "code",
      "metadata": {
        "id": "zHO7eTJmocLm"
      },
      "source": [
        "category_installs = df_apps_clean.groupby('Category').agg({'Installs': pd.Series.sum})\r\n",
        "category_installs.sort_values('Installs', ascending=True, inplace=True)"
      ],
      "execution_count": 49,
      "outputs": []
    },
    {
      "cell_type": "code",
      "metadata": {
        "id": "h7aUARLtocCy",
        "colab": {
          "base_uri": "https://localhost:8080/",
          "height": 542
        },
        "outputId": "8bc1ad66-79ca-4674-b4bb-3e894c594040"
      },
      "source": [
        "h_bar = px.bar(x=category_installs.Installs,\r\n",
        "               y=category_installs.index,\r\n",
        "               orientation='h',\r\n",
        "               title = 'Category Popularity')\r\n",
        "h_bar.update_layout(xaxis_title='Number of Downloads',yaxis_title='Category')\r\n",
        "h_bar.show()"
      ],
      "execution_count": 52,
      "outputs": [
        {
          "output_type": "display_data",
          "data": {
            "text/html": [
              "<html>\n",
              "<head><meta charset=\"utf-8\" /></head>\n",
              "<body>\n",
              "    <div>\n",
              "            <script src=\"https://cdnjs.cloudflare.com/ajax/libs/mathjax/2.7.5/MathJax.js?config=TeX-AMS-MML_SVG\"></script><script type=\"text/javascript\">if (window.MathJax) {MathJax.Hub.Config({SVG: {font: \"STIX-Web\"}});}</script>\n",
              "                <script type=\"text/javascript\">window.PlotlyConfig = {MathJaxConfig: 'local'};</script>\n",
              "        <script src=\"https://cdn.plot.ly/plotly-latest.min.js\"></script>    \n",
              "            <div id=\"da55400d-43e7-49d0-8878-8575fee15a10\" class=\"plotly-graph-div\" style=\"height:525px; width:100%;\"></div>\n",
              "            <script type=\"text/javascript\">\n",
              "                \n",
              "                    window.PLOTLYENV=window.PLOTLYENV || {};\n",
              "                    \n",
              "                if (document.getElementById(\"da55400d-43e7-49d0-8878-8575fee15a10\")) {\n",
              "                    Plotly.newPlot(\n",
              "                        'da55400d-43e7-49d0-8878-8575fee15a10',\n",
              "                        [{\"alignmentgroup\": \"True\", \"hoverlabel\": {\"namelength\": 0}, \"hovertemplate\": \"x=%{x}<br>y=%{y}\", \"legendgroup\": \"\", \"marker\": {\"color\": \"#636efa\"}, \"name\": \"\", \"offsetgroup\": \"\", \"orientation\": \"h\", \"showlegend\": false, \"textposition\": \"auto\", \"type\": \"bar\", \"x\": [15949410, 26916200, 31116110, 39162676, 44931100, 52083000, 53129800, 97082000, 114233100, 140912410, 211677750, 352852000, 361096500, 455249400, 503267560, 503611120, 692018120, 1096431465, 1134006220, 1400331540, 1532352930, 1665791655, 2113660000, 2369110650, 2894859300, 3916897200, 4437554490, 4649143130, 5487841475, 5788070180, 8099724500, 11039241530, 13858762717], \"xaxis\": \"x\", \"y\": [\"EVENTS\", \"BEAUTY\", \"PARENTING\", \"MEDICAL\", \"COMICS\", \"LIBRARIES_AND_DEMO\", \"AUTO_AND_VEHICLES\", \"HOUSE_AND_HOME\", \"ART_AND_DESIGN\", \"DATING\", \"FOOD_AND_DRINK\", \"EDUCATION\", \"WEATHER\", \"FINANCE\", \"MAPS_AND_NAVIGATION\", \"LIFESTYLE\", \"BUSINESS\", \"SPORTS\", \"HEALTH_AND_FITNESS\", \"SHOPPING\", \"PERSONALIZATION\", \"BOOKS_AND_REFERENCE\", \"ENTERTAINMENT\", \"NEWS_AND_MAGAZINES\", \"TRAVEL_AND_LOCAL\", \"VIDEO_PLAYERS\", \"FAMILY\", \"PHOTOGRAPHY\", \"SOCIAL\", \"PRODUCTIVITY\", \"TOOLS\", \"COMMUNICATION\", \"GAME\"], \"yaxis\": \"y\"}],\n",
              "                        {\"barmode\": \"relative\", \"legend\": {\"tracegroupgap\": 0}, \"template\": {\"data\": {\"bar\": [{\"error_x\": {\"color\": \"#2a3f5f\"}, \"error_y\": {\"color\": \"#2a3f5f\"}, \"marker\": {\"line\": {\"color\": \"#E5ECF6\", \"width\": 0.5}}, \"type\": \"bar\"}], \"barpolar\": [{\"marker\": {\"line\": {\"color\": \"#E5ECF6\", \"width\": 0.5}}, \"type\": \"barpolar\"}], \"carpet\": [{\"aaxis\": {\"endlinecolor\": \"#2a3f5f\", \"gridcolor\": \"white\", \"linecolor\": \"white\", \"minorgridcolor\": \"white\", \"startlinecolor\": \"#2a3f5f\"}, \"baxis\": {\"endlinecolor\": \"#2a3f5f\", \"gridcolor\": \"white\", \"linecolor\": \"white\", \"minorgridcolor\": \"white\", \"startlinecolor\": \"#2a3f5f\"}, \"type\": \"carpet\"}], \"choropleth\": [{\"colorbar\": {\"outlinewidth\": 0, \"ticks\": \"\"}, \"type\": \"choropleth\"}], \"contour\": [{\"colorbar\": {\"outlinewidth\": 0, \"ticks\": \"\"}, \"colorscale\": [[0.0, \"#0d0887\"], [0.1111111111111111, \"#46039f\"], [0.2222222222222222, \"#7201a8\"], [0.3333333333333333, \"#9c179e\"], [0.4444444444444444, \"#bd3786\"], [0.5555555555555556, \"#d8576b\"], [0.6666666666666666, \"#ed7953\"], [0.7777777777777778, \"#fb9f3a\"], [0.8888888888888888, \"#fdca26\"], [1.0, \"#f0f921\"]], \"type\": \"contour\"}], \"contourcarpet\": [{\"colorbar\": {\"outlinewidth\": 0, \"ticks\": \"\"}, \"type\": \"contourcarpet\"}], \"heatmap\": [{\"colorbar\": {\"outlinewidth\": 0, \"ticks\": \"\"}, \"colorscale\": [[0.0, \"#0d0887\"], [0.1111111111111111, \"#46039f\"], [0.2222222222222222, \"#7201a8\"], [0.3333333333333333, \"#9c179e\"], [0.4444444444444444, \"#bd3786\"], [0.5555555555555556, \"#d8576b\"], [0.6666666666666666, \"#ed7953\"], [0.7777777777777778, \"#fb9f3a\"], [0.8888888888888888, \"#fdca26\"], [1.0, \"#f0f921\"]], \"type\": \"heatmap\"}], \"heatmapgl\": [{\"colorbar\": {\"outlinewidth\": 0, \"ticks\": \"\"}, \"colorscale\": [[0.0, \"#0d0887\"], [0.1111111111111111, \"#46039f\"], [0.2222222222222222, \"#7201a8\"], [0.3333333333333333, \"#9c179e\"], [0.4444444444444444, \"#bd3786\"], [0.5555555555555556, \"#d8576b\"], [0.6666666666666666, \"#ed7953\"], [0.7777777777777778, \"#fb9f3a\"], [0.8888888888888888, \"#fdca26\"], [1.0, \"#f0f921\"]], \"type\": \"heatmapgl\"}], \"histogram\": [{\"marker\": {\"colorbar\": {\"outlinewidth\": 0, \"ticks\": \"\"}}, \"type\": \"histogram\"}], \"histogram2d\": [{\"colorbar\": {\"outlinewidth\": 0, \"ticks\": \"\"}, \"colorscale\": [[0.0, \"#0d0887\"], [0.1111111111111111, \"#46039f\"], [0.2222222222222222, \"#7201a8\"], [0.3333333333333333, \"#9c179e\"], [0.4444444444444444, \"#bd3786\"], [0.5555555555555556, \"#d8576b\"], [0.6666666666666666, \"#ed7953\"], [0.7777777777777778, \"#fb9f3a\"], [0.8888888888888888, \"#fdca26\"], [1.0, \"#f0f921\"]], \"type\": \"histogram2d\"}], \"histogram2dcontour\": [{\"colorbar\": {\"outlinewidth\": 0, \"ticks\": \"\"}, \"colorscale\": [[0.0, \"#0d0887\"], [0.1111111111111111, \"#46039f\"], [0.2222222222222222, \"#7201a8\"], [0.3333333333333333, \"#9c179e\"], [0.4444444444444444, \"#bd3786\"], [0.5555555555555556, \"#d8576b\"], [0.6666666666666666, \"#ed7953\"], [0.7777777777777778, \"#fb9f3a\"], [0.8888888888888888, \"#fdca26\"], [1.0, \"#f0f921\"]], \"type\": \"histogram2dcontour\"}], \"mesh3d\": [{\"colorbar\": {\"outlinewidth\": 0, \"ticks\": \"\"}, \"type\": \"mesh3d\"}], \"parcoords\": [{\"line\": {\"colorbar\": {\"outlinewidth\": 0, \"ticks\": \"\"}}, \"type\": \"parcoords\"}], \"pie\": [{\"automargin\": true, \"type\": \"pie\"}], \"scatter\": [{\"marker\": {\"colorbar\": {\"outlinewidth\": 0, \"ticks\": \"\"}}, \"type\": \"scatter\"}], \"scatter3d\": [{\"line\": {\"colorbar\": {\"outlinewidth\": 0, \"ticks\": \"\"}}, \"marker\": {\"colorbar\": {\"outlinewidth\": 0, \"ticks\": \"\"}}, \"type\": \"scatter3d\"}], \"scattercarpet\": [{\"marker\": {\"colorbar\": {\"outlinewidth\": 0, \"ticks\": \"\"}}, \"type\": \"scattercarpet\"}], \"scattergeo\": [{\"marker\": {\"colorbar\": {\"outlinewidth\": 0, \"ticks\": \"\"}}, \"type\": \"scattergeo\"}], \"scattergl\": [{\"marker\": {\"colorbar\": {\"outlinewidth\": 0, \"ticks\": \"\"}}, \"type\": \"scattergl\"}], \"scattermapbox\": [{\"marker\": {\"colorbar\": {\"outlinewidth\": 0, \"ticks\": \"\"}}, \"type\": \"scattermapbox\"}], \"scatterpolar\": [{\"marker\": {\"colorbar\": {\"outlinewidth\": 0, \"ticks\": \"\"}}, \"type\": \"scatterpolar\"}], \"scatterpolargl\": [{\"marker\": {\"colorbar\": {\"outlinewidth\": 0, \"ticks\": \"\"}}, \"type\": \"scatterpolargl\"}], \"scatterternary\": [{\"marker\": {\"colorbar\": {\"outlinewidth\": 0, \"ticks\": \"\"}}, \"type\": \"scatterternary\"}], \"surface\": [{\"colorbar\": {\"outlinewidth\": 0, \"ticks\": \"\"}, \"colorscale\": [[0.0, \"#0d0887\"], [0.1111111111111111, \"#46039f\"], [0.2222222222222222, \"#7201a8\"], [0.3333333333333333, \"#9c179e\"], [0.4444444444444444, \"#bd3786\"], [0.5555555555555556, \"#d8576b\"], [0.6666666666666666, \"#ed7953\"], [0.7777777777777778, \"#fb9f3a\"], [0.8888888888888888, \"#fdca26\"], [1.0, \"#f0f921\"]], \"type\": \"surface\"}], \"table\": [{\"cells\": {\"fill\": {\"color\": \"#EBF0F8\"}, \"line\": {\"color\": \"white\"}}, \"header\": {\"fill\": {\"color\": \"#C8D4E3\"}, \"line\": {\"color\": \"white\"}}, \"type\": \"table\"}]}, \"layout\": {\"annotationdefaults\": {\"arrowcolor\": \"#2a3f5f\", \"arrowhead\": 0, \"arrowwidth\": 1}, \"coloraxis\": {\"colorbar\": {\"outlinewidth\": 0, \"ticks\": \"\"}}, \"colorscale\": {\"diverging\": [[0, \"#8e0152\"], [0.1, \"#c51b7d\"], [0.2, \"#de77ae\"], [0.3, \"#f1b6da\"], [0.4, \"#fde0ef\"], [0.5, \"#f7f7f7\"], [0.6, \"#e6f5d0\"], [0.7, \"#b8e186\"], [0.8, \"#7fbc41\"], [0.9, \"#4d9221\"], [1, \"#276419\"]], \"sequential\": [[0.0, \"#0d0887\"], [0.1111111111111111, \"#46039f\"], [0.2222222222222222, \"#7201a8\"], [0.3333333333333333, \"#9c179e\"], [0.4444444444444444, \"#bd3786\"], [0.5555555555555556, \"#d8576b\"], [0.6666666666666666, \"#ed7953\"], [0.7777777777777778, \"#fb9f3a\"], [0.8888888888888888, \"#fdca26\"], [1.0, \"#f0f921\"]], \"sequentialminus\": [[0.0, \"#0d0887\"], [0.1111111111111111, \"#46039f\"], [0.2222222222222222, \"#7201a8\"], [0.3333333333333333, \"#9c179e\"], [0.4444444444444444, \"#bd3786\"], [0.5555555555555556, \"#d8576b\"], [0.6666666666666666, \"#ed7953\"], [0.7777777777777778, \"#fb9f3a\"], [0.8888888888888888, \"#fdca26\"], [1.0, \"#f0f921\"]]}, \"colorway\": [\"#636efa\", \"#EF553B\", \"#00cc96\", \"#ab63fa\", \"#FFA15A\", \"#19d3f3\", \"#FF6692\", \"#B6E880\", \"#FF97FF\", \"#FECB52\"], \"font\": {\"color\": \"#2a3f5f\"}, \"geo\": {\"bgcolor\": \"white\", \"lakecolor\": \"white\", \"landcolor\": \"#E5ECF6\", \"showlakes\": true, \"showland\": true, \"subunitcolor\": \"white\"}, \"hoverlabel\": {\"align\": \"left\"}, \"hovermode\": \"closest\", \"mapbox\": {\"style\": \"light\"}, \"paper_bgcolor\": \"white\", \"plot_bgcolor\": \"#E5ECF6\", \"polar\": {\"angularaxis\": {\"gridcolor\": \"white\", \"linecolor\": \"white\", \"ticks\": \"\"}, \"bgcolor\": \"#E5ECF6\", \"radialaxis\": {\"gridcolor\": \"white\", \"linecolor\": \"white\", \"ticks\": \"\"}}, \"scene\": {\"xaxis\": {\"backgroundcolor\": \"#E5ECF6\", \"gridcolor\": \"white\", \"gridwidth\": 2, \"linecolor\": \"white\", \"showbackground\": true, \"ticks\": \"\", \"zerolinecolor\": \"white\"}, \"yaxis\": {\"backgroundcolor\": \"#E5ECF6\", \"gridcolor\": \"white\", \"gridwidth\": 2, \"linecolor\": \"white\", \"showbackground\": true, \"ticks\": \"\", \"zerolinecolor\": \"white\"}, \"zaxis\": {\"backgroundcolor\": \"#E5ECF6\", \"gridcolor\": \"white\", \"gridwidth\": 2, \"linecolor\": \"white\", \"showbackground\": true, \"ticks\": \"\", \"zerolinecolor\": \"white\"}}, \"shapedefaults\": {\"line\": {\"color\": \"#2a3f5f\"}}, \"ternary\": {\"aaxis\": {\"gridcolor\": \"white\", \"linecolor\": \"white\", \"ticks\": \"\"}, \"baxis\": {\"gridcolor\": \"white\", \"linecolor\": \"white\", \"ticks\": \"\"}, \"bgcolor\": \"#E5ECF6\", \"caxis\": {\"gridcolor\": \"white\", \"linecolor\": \"white\", \"ticks\": \"\"}}, \"title\": {\"x\": 0.05}, \"xaxis\": {\"automargin\": true, \"gridcolor\": \"white\", \"linecolor\": \"white\", \"ticks\": \"\", \"title\": {\"standoff\": 15}, \"zerolinecolor\": \"white\", \"zerolinewidth\": 2}, \"yaxis\": {\"automargin\": true, \"gridcolor\": \"white\", \"linecolor\": \"white\", \"ticks\": \"\", \"title\": {\"standoff\": 15}, \"zerolinecolor\": \"white\", \"zerolinewidth\": 2}}}, \"title\": {\"text\": \"Category Popularity\"}, \"xaxis\": {\"anchor\": \"y\", \"domain\": [0.0, 1.0], \"title\": {\"text\": \"Number of Downloads\"}}, \"yaxis\": {\"anchor\": \"x\", \"domain\": [0.0, 1.0], \"title\": {\"text\": \"Category\"}}},\n",
              "                        {\"responsive\": true}\n",
              "                    ).then(function(){\n",
              "                            \n",
              "var gd = document.getElementById('da55400d-43e7-49d0-8878-8575fee15a10');\n",
              "var x = new MutationObserver(function (mutations, observer) {{\n",
              "        var display = window.getComputedStyle(gd).display;\n",
              "        if (!display || display === 'none') {{\n",
              "            console.log([gd, 'removed!']);\n",
              "            Plotly.purge(gd);\n",
              "            observer.disconnect();\n",
              "        }}\n",
              "}});\n",
              "\n",
              "// Listen for the removal of the full notebook cells\n",
              "var notebookContainer = gd.closest('#notebook-container');\n",
              "if (notebookContainer) {{\n",
              "    x.observe(notebookContainer, {childList: true});\n",
              "}}\n",
              "\n",
              "// Listen for the clearing of the current output cell\n",
              "var outputEl = gd.closest('.output');\n",
              "if (outputEl) {{\n",
              "    x.observe(outputEl, {childList: true});\n",
              "}}\n",
              "\n",
              "                        })\n",
              "                };\n",
              "                \n",
              "            </script>\n",
              "        </div>\n",
              "</body>\n",
              "</html>"
            ]
          },
          "metadata": {
            "tags": []
          }
        }
      ]
    },
    {
      "cell_type": "markdown",
      "metadata": {
        "id": "Uxk24qMk8vrz"
      },
      "source": [
        "### Category Concentration - Downloads vs. Competition\n",
        "\n",
        "**Challenge**: \n",
        "* First, create a DataFrame that has the number of apps in one column and the number of installs in another:\n",
        "\n",
        "<img src=https://imgur.com/uQRSlXi.png width=\"350\">\n",
        "\n",
        "* Then use the [plotly express examples from the documentation](https://plotly.com/python/line-and-scatter/) alongside the [.scatter() API reference](https://plotly.com/python-api-reference/generated/plotly.express.scatter.html)to create scatter plot that looks like this. \n",
        "\n",
        "<img src=https://imgur.com/cHsqh6a.png>\n",
        "\n",
        "*Hint*: Use the size, hover_name and color parameters in .scatter(). To scale the yaxis, call .update_layout() and specify that the yaxis should be on a log-scale like so: yaxis=dict(type='log') "
      ]
    },
    {
      "cell_type": "code",
      "metadata": {
        "id": "tVvGPDY7oe5A",
        "colab": {
          "base_uri": "https://localhost:8080/",
          "height": 1000
        },
        "outputId": "c360e253-1ed8-410f-b9b1-9bc4395f5223"
      },
      "source": [
        "cat_number = df_apps_clean.groupby('Category').agg({'App':pd.Series.count})\r\n",
        "cat_merged_df = pd.merge(cat_number, category_installs, on='Category', how='inner')\r\n",
        "print(f'The dimensions of the DataFrame are: {cat_merged_df.shape}')\r\n",
        "cat_merged_df.sort_values('Installs', ascending=False)"
      ],
      "execution_count": 56,
      "outputs": [
        {
          "output_type": "stream",
          "text": [
            "The dimensions of the DataFrame are: (33, 2)\n"
          ],
          "name": "stdout"
        },
        {
          "output_type": "execute_result",
          "data": {
            "text/html": [
              "<div>\n",
              "<style scoped>\n",
              "    .dataframe tbody tr th:only-of-type {\n",
              "        vertical-align: middle;\n",
              "    }\n",
              "\n",
              "    .dataframe tbody tr th {\n",
              "        vertical-align: top;\n",
              "    }\n",
              "\n",
              "    .dataframe thead th {\n",
              "        text-align: right;\n",
              "    }\n",
              "</style>\n",
              "<table border=\"1\" class=\"dataframe\">\n",
              "  <thead>\n",
              "    <tr style=\"text-align: right;\">\n",
              "      <th></th>\n",
              "      <th>App</th>\n",
              "      <th>Installs</th>\n",
              "    </tr>\n",
              "    <tr>\n",
              "      <th>Category</th>\n",
              "      <th></th>\n",
              "      <th></th>\n",
              "    </tr>\n",
              "  </thead>\n",
              "  <tbody>\n",
              "    <tr>\n",
              "      <th>GAME</th>\n",
              "      <td>910</td>\n",
              "      <td>13858762717</td>\n",
              "    </tr>\n",
              "    <tr>\n",
              "      <th>COMMUNICATION</th>\n",
              "      <td>257</td>\n",
              "      <td>11039241530</td>\n",
              "    </tr>\n",
              "    <tr>\n",
              "      <th>TOOLS</th>\n",
              "      <td>719</td>\n",
              "      <td>8099724500</td>\n",
              "    </tr>\n",
              "    <tr>\n",
              "      <th>PRODUCTIVITY</th>\n",
              "      <td>301</td>\n",
              "      <td>5788070180</td>\n",
              "    </tr>\n",
              "    <tr>\n",
              "      <th>SOCIAL</th>\n",
              "      <td>203</td>\n",
              "      <td>5487841475</td>\n",
              "    </tr>\n",
              "    <tr>\n",
              "      <th>PHOTOGRAPHY</th>\n",
              "      <td>263</td>\n",
              "      <td>4649143130</td>\n",
              "    </tr>\n",
              "    <tr>\n",
              "      <th>FAMILY</th>\n",
              "      <td>1606</td>\n",
              "      <td>4437554490</td>\n",
              "    </tr>\n",
              "    <tr>\n",
              "      <th>VIDEO_PLAYERS</th>\n",
              "      <td>148</td>\n",
              "      <td>3916897200</td>\n",
              "    </tr>\n",
              "    <tr>\n",
              "      <th>TRAVEL_AND_LOCAL</th>\n",
              "      <td>187</td>\n",
              "      <td>2894859300</td>\n",
              "    </tr>\n",
              "    <tr>\n",
              "      <th>NEWS_AND_MAGAZINES</th>\n",
              "      <td>204</td>\n",
              "      <td>2369110650</td>\n",
              "    </tr>\n",
              "    <tr>\n",
              "      <th>ENTERTAINMENT</th>\n",
              "      <td>102</td>\n",
              "      <td>2113660000</td>\n",
              "    </tr>\n",
              "    <tr>\n",
              "      <th>BOOKS_AND_REFERENCE</th>\n",
              "      <td>169</td>\n",
              "      <td>1665791655</td>\n",
              "    </tr>\n",
              "    <tr>\n",
              "      <th>PERSONALIZATION</th>\n",
              "      <td>298</td>\n",
              "      <td>1532352930</td>\n",
              "    </tr>\n",
              "    <tr>\n",
              "      <th>SHOPPING</th>\n",
              "      <td>180</td>\n",
              "      <td>1400331540</td>\n",
              "    </tr>\n",
              "    <tr>\n",
              "      <th>HEALTH_AND_FITNESS</th>\n",
              "      <td>243</td>\n",
              "      <td>1134006220</td>\n",
              "    </tr>\n",
              "    <tr>\n",
              "      <th>SPORTS</th>\n",
              "      <td>260</td>\n",
              "      <td>1096431465</td>\n",
              "    </tr>\n",
              "    <tr>\n",
              "      <th>BUSINESS</th>\n",
              "      <td>262</td>\n",
              "      <td>692018120</td>\n",
              "    </tr>\n",
              "    <tr>\n",
              "      <th>LIFESTYLE</th>\n",
              "      <td>297</td>\n",
              "      <td>503611120</td>\n",
              "    </tr>\n",
              "    <tr>\n",
              "      <th>MAPS_AND_NAVIGATION</th>\n",
              "      <td>118</td>\n",
              "      <td>503267560</td>\n",
              "    </tr>\n",
              "    <tr>\n",
              "      <th>FINANCE</th>\n",
              "      <td>296</td>\n",
              "      <td>455249400</td>\n",
              "    </tr>\n",
              "    <tr>\n",
              "      <th>WEATHER</th>\n",
              "      <td>72</td>\n",
              "      <td>361096500</td>\n",
              "    </tr>\n",
              "    <tr>\n",
              "      <th>EDUCATION</th>\n",
              "      <td>118</td>\n",
              "      <td>352852000</td>\n",
              "    </tr>\n",
              "    <tr>\n",
              "      <th>FOOD_AND_DRINK</th>\n",
              "      <td>94</td>\n",
              "      <td>211677750</td>\n",
              "    </tr>\n",
              "    <tr>\n",
              "      <th>DATING</th>\n",
              "      <td>134</td>\n",
              "      <td>140912410</td>\n",
              "    </tr>\n",
              "    <tr>\n",
              "      <th>ART_AND_DESIGN</th>\n",
              "      <td>61</td>\n",
              "      <td>114233100</td>\n",
              "    </tr>\n",
              "    <tr>\n",
              "      <th>HOUSE_AND_HOME</th>\n",
              "      <td>62</td>\n",
              "      <td>97082000</td>\n",
              "    </tr>\n",
              "    <tr>\n",
              "      <th>AUTO_AND_VEHICLES</th>\n",
              "      <td>73</td>\n",
              "      <td>53129800</td>\n",
              "    </tr>\n",
              "    <tr>\n",
              "      <th>LIBRARIES_AND_DEMO</th>\n",
              "      <td>64</td>\n",
              "      <td>52083000</td>\n",
              "    </tr>\n",
              "    <tr>\n",
              "      <th>COMICS</th>\n",
              "      <td>54</td>\n",
              "      <td>44931100</td>\n",
              "    </tr>\n",
              "    <tr>\n",
              "      <th>MEDICAL</th>\n",
              "      <td>292</td>\n",
              "      <td>39162676</td>\n",
              "    </tr>\n",
              "    <tr>\n",
              "      <th>PARENTING</th>\n",
              "      <td>50</td>\n",
              "      <td>31116110</td>\n",
              "    </tr>\n",
              "    <tr>\n",
              "      <th>BEAUTY</th>\n",
              "      <td>42</td>\n",
              "      <td>26916200</td>\n",
              "    </tr>\n",
              "    <tr>\n",
              "      <th>EVENTS</th>\n",
              "      <td>45</td>\n",
              "      <td>15949410</td>\n",
              "    </tr>\n",
              "  </tbody>\n",
              "</table>\n",
              "</div>"
            ],
            "text/plain": [
              "                      App     Installs\n",
              "Category                              \n",
              "GAME                  910  13858762717\n",
              "COMMUNICATION         257  11039241530\n",
              "TOOLS                 719   8099724500\n",
              "PRODUCTIVITY          301   5788070180\n",
              "SOCIAL                203   5487841475\n",
              "PHOTOGRAPHY           263   4649143130\n",
              "FAMILY               1606   4437554490\n",
              "VIDEO_PLAYERS         148   3916897200\n",
              "TRAVEL_AND_LOCAL      187   2894859300\n",
              "NEWS_AND_MAGAZINES    204   2369110650\n",
              "ENTERTAINMENT         102   2113660000\n",
              "BOOKS_AND_REFERENCE   169   1665791655\n",
              "PERSONALIZATION       298   1532352930\n",
              "SHOPPING              180   1400331540\n",
              "HEALTH_AND_FITNESS    243   1134006220\n",
              "SPORTS                260   1096431465\n",
              "BUSINESS              262    692018120\n",
              "LIFESTYLE             297    503611120\n",
              "MAPS_AND_NAVIGATION   118    503267560\n",
              "FINANCE               296    455249400\n",
              "WEATHER                72    361096500\n",
              "EDUCATION             118    352852000\n",
              "FOOD_AND_DRINK         94    211677750\n",
              "DATING                134    140912410\n",
              "ART_AND_DESIGN         61    114233100\n",
              "HOUSE_AND_HOME         62     97082000\n",
              "AUTO_AND_VEHICLES      73     53129800\n",
              "LIBRARIES_AND_DEMO     64     52083000\n",
              "COMICS                 54     44931100\n",
              "MEDICAL               292     39162676\n",
              "PARENTING              50     31116110\n",
              "BEAUTY                 42     26916200\n",
              "EVENTS                 45     15949410"
            ]
          },
          "metadata": {
            "tags": []
          },
          "execution_count": 56
        }
      ]
    },
    {
      "cell_type": "code",
      "metadata": {
        "colab": {
          "base_uri": "https://localhost:8080/",
          "height": 542
        },
        "id": "aQz7052sUX-a",
        "outputId": "b0b78e22-a3db-4cf4-ac74-a1970890cd77"
      },
      "source": [
        "scatter = px.scatter(cat_merged_df, # data\r\n",
        "                    x='App', # column name\r\n",
        "                    y='Installs',\r\n",
        "                    title='Category Concentration',\r\n",
        "                    size='App',\r\n",
        "                    hover_name=cat_merged_df.index,\r\n",
        "                    color='Installs')\r\n",
        " \r\n",
        "scatter.update_layout(xaxis_title=\"Number of Apps (Lower=More Concentrated)\",\r\n",
        "                      yaxis_title=\"Installs\",\r\n",
        "                      yaxis=dict(type='log'))\r\n",
        " \r\n",
        "scatter.show()"
      ],
      "execution_count": 57,
      "outputs": [
        {
          "output_type": "display_data",
          "data": {
            "text/html": [
              "<html>\n",
              "<head><meta charset=\"utf-8\" /></head>\n",
              "<body>\n",
              "    <div>\n",
              "            <script src=\"https://cdnjs.cloudflare.com/ajax/libs/mathjax/2.7.5/MathJax.js?config=TeX-AMS-MML_SVG\"></script><script type=\"text/javascript\">if (window.MathJax) {MathJax.Hub.Config({SVG: {font: \"STIX-Web\"}});}</script>\n",
              "                <script type=\"text/javascript\">window.PlotlyConfig = {MathJaxConfig: 'local'};</script>\n",
              "        <script src=\"https://cdn.plot.ly/plotly-latest.min.js\"></script>    \n",
              "            <div id=\"64da74c2-dd53-40a0-918d-eb2ef03031ee\" class=\"plotly-graph-div\" style=\"height:525px; width:100%;\"></div>\n",
              "            <script type=\"text/javascript\">\n",
              "                \n",
              "                    window.PLOTLYENV=window.PLOTLYENV || {};\n",
              "                    \n",
              "                if (document.getElementById(\"64da74c2-dd53-40a0-918d-eb2ef03031ee\")) {\n",
              "                    Plotly.newPlot(\n",
              "                        '64da74c2-dd53-40a0-918d-eb2ef03031ee',\n",
              "                        [{\"hoverlabel\": {\"namelength\": 0}, \"hovertemplate\": \"<b>%{hovertext}</b><br><br>App=%{marker.size}<br>Installs=%{marker.color}\", \"hovertext\": [\"ART_AND_DESIGN\", \"AUTO_AND_VEHICLES\", \"BEAUTY\", \"BOOKS_AND_REFERENCE\", \"BUSINESS\", \"COMICS\", \"COMMUNICATION\", \"DATING\", \"EDUCATION\", \"ENTERTAINMENT\", \"EVENTS\", \"FAMILY\", \"FINANCE\", \"FOOD_AND_DRINK\", \"GAME\", \"HEALTH_AND_FITNESS\", \"HOUSE_AND_HOME\", \"LIBRARIES_AND_DEMO\", \"LIFESTYLE\", \"MAPS_AND_NAVIGATION\", \"MEDICAL\", \"NEWS_AND_MAGAZINES\", \"PARENTING\", \"PERSONALIZATION\", \"PHOTOGRAPHY\", \"PRODUCTIVITY\", \"SHOPPING\", \"SOCIAL\", \"SPORTS\", \"TOOLS\", \"TRAVEL_AND_LOCAL\", \"VIDEO_PLAYERS\", \"WEATHER\"], \"legendgroup\": \"\", \"marker\": {\"color\": [114233100, 53129800, 26916200, 1665791655, 692018120, 44931100, 11039241530, 140912410, 352852000, 2113660000, 15949410, 4437554490, 455249400, 211677750, 13858762717, 1134006220, 97082000, 52083000, 503611120, 503267560, 39162676, 2369110650, 31116110, 1532352930, 4649143130, 5788070180, 1400331540, 5487841475, 1096431465, 8099724500, 2894859300, 3916897200, 361096500], \"coloraxis\": \"coloraxis\", \"size\": [61, 73, 42, 169, 262, 54, 257, 134, 118, 102, 45, 1606, 296, 94, 910, 243, 62, 64, 297, 118, 292, 204, 50, 298, 263, 301, 180, 203, 260, 719, 187, 148, 72], \"sizemode\": \"area\", \"sizeref\": 4.015, \"symbol\": \"circle\"}, \"mode\": \"markers\", \"name\": \"\", \"showlegend\": false, \"type\": \"scatter\", \"x\": [61, 73, 42, 169, 262, 54, 257, 134, 118, 102, 45, 1606, 296, 94, 910, 243, 62, 64, 297, 118, 292, 204, 50, 298, 263, 301, 180, 203, 260, 719, 187, 148, 72], \"xaxis\": \"x\", \"y\": [114233100, 53129800, 26916200, 1665791655, 692018120, 44931100, 11039241530, 140912410, 352852000, 2113660000, 15949410, 4437554490, 455249400, 211677750, 13858762717, 1134006220, 97082000, 52083000, 503611120, 503267560, 39162676, 2369110650, 31116110, 1532352930, 4649143130, 5788070180, 1400331540, 5487841475, 1096431465, 8099724500, 2894859300, 3916897200, 361096500], \"yaxis\": \"y\"}],\n",
              "                        {\"coloraxis\": {\"colorbar\": {\"title\": {\"text\": \"Installs\"}}, \"colorscale\": [[0.0, \"#0d0887\"], [0.1111111111111111, \"#46039f\"], [0.2222222222222222, \"#7201a8\"], [0.3333333333333333, \"#9c179e\"], [0.4444444444444444, \"#bd3786\"], [0.5555555555555556, \"#d8576b\"], [0.6666666666666666, \"#ed7953\"], [0.7777777777777778, \"#fb9f3a\"], [0.8888888888888888, \"#fdca26\"], [1.0, \"#f0f921\"]]}, \"legend\": {\"itemsizing\": \"constant\", \"tracegroupgap\": 0}, \"template\": {\"data\": {\"bar\": [{\"error_x\": {\"color\": \"#2a3f5f\"}, \"error_y\": {\"color\": \"#2a3f5f\"}, \"marker\": {\"line\": {\"color\": \"#E5ECF6\", \"width\": 0.5}}, \"type\": \"bar\"}], \"barpolar\": [{\"marker\": {\"line\": {\"color\": \"#E5ECF6\", \"width\": 0.5}}, \"type\": \"barpolar\"}], \"carpet\": [{\"aaxis\": {\"endlinecolor\": \"#2a3f5f\", \"gridcolor\": \"white\", \"linecolor\": \"white\", \"minorgridcolor\": \"white\", \"startlinecolor\": \"#2a3f5f\"}, \"baxis\": {\"endlinecolor\": \"#2a3f5f\", \"gridcolor\": \"white\", \"linecolor\": \"white\", \"minorgridcolor\": \"white\", \"startlinecolor\": \"#2a3f5f\"}, \"type\": \"carpet\"}], \"choropleth\": [{\"colorbar\": {\"outlinewidth\": 0, \"ticks\": \"\"}, \"type\": \"choropleth\"}], \"contour\": [{\"colorbar\": {\"outlinewidth\": 0, \"ticks\": \"\"}, \"colorscale\": [[0.0, \"#0d0887\"], [0.1111111111111111, \"#46039f\"], [0.2222222222222222, \"#7201a8\"], [0.3333333333333333, \"#9c179e\"], [0.4444444444444444, \"#bd3786\"], [0.5555555555555556, \"#d8576b\"], [0.6666666666666666, \"#ed7953\"], [0.7777777777777778, \"#fb9f3a\"], [0.8888888888888888, \"#fdca26\"], [1.0, \"#f0f921\"]], \"type\": \"contour\"}], \"contourcarpet\": [{\"colorbar\": {\"outlinewidth\": 0, \"ticks\": \"\"}, \"type\": \"contourcarpet\"}], \"heatmap\": [{\"colorbar\": {\"outlinewidth\": 0, \"ticks\": \"\"}, \"colorscale\": [[0.0, \"#0d0887\"], [0.1111111111111111, \"#46039f\"], [0.2222222222222222, \"#7201a8\"], [0.3333333333333333, \"#9c179e\"], [0.4444444444444444, \"#bd3786\"], [0.5555555555555556, \"#d8576b\"], [0.6666666666666666, \"#ed7953\"], [0.7777777777777778, \"#fb9f3a\"], [0.8888888888888888, \"#fdca26\"], [1.0, \"#f0f921\"]], \"type\": \"heatmap\"}], \"heatmapgl\": [{\"colorbar\": {\"outlinewidth\": 0, \"ticks\": \"\"}, \"colorscale\": [[0.0, \"#0d0887\"], [0.1111111111111111, \"#46039f\"], [0.2222222222222222, \"#7201a8\"], [0.3333333333333333, \"#9c179e\"], [0.4444444444444444, \"#bd3786\"], [0.5555555555555556, \"#d8576b\"], [0.6666666666666666, \"#ed7953\"], [0.7777777777777778, \"#fb9f3a\"], [0.8888888888888888, \"#fdca26\"], [1.0, \"#f0f921\"]], \"type\": \"heatmapgl\"}], \"histogram\": [{\"marker\": {\"colorbar\": {\"outlinewidth\": 0, \"ticks\": \"\"}}, \"type\": \"histogram\"}], \"histogram2d\": [{\"colorbar\": {\"outlinewidth\": 0, \"ticks\": \"\"}, \"colorscale\": [[0.0, \"#0d0887\"], [0.1111111111111111, \"#46039f\"], [0.2222222222222222, \"#7201a8\"], [0.3333333333333333, \"#9c179e\"], [0.4444444444444444, \"#bd3786\"], [0.5555555555555556, \"#d8576b\"], [0.6666666666666666, \"#ed7953\"], [0.7777777777777778, \"#fb9f3a\"], [0.8888888888888888, \"#fdca26\"], [1.0, \"#f0f921\"]], \"type\": \"histogram2d\"}], \"histogram2dcontour\": [{\"colorbar\": {\"outlinewidth\": 0, \"ticks\": \"\"}, \"colorscale\": [[0.0, \"#0d0887\"], [0.1111111111111111, \"#46039f\"], [0.2222222222222222, \"#7201a8\"], [0.3333333333333333, \"#9c179e\"], [0.4444444444444444, \"#bd3786\"], [0.5555555555555556, \"#d8576b\"], [0.6666666666666666, \"#ed7953\"], [0.7777777777777778, \"#fb9f3a\"], [0.8888888888888888, \"#fdca26\"], [1.0, \"#f0f921\"]], \"type\": \"histogram2dcontour\"}], \"mesh3d\": [{\"colorbar\": {\"outlinewidth\": 0, \"ticks\": \"\"}, \"type\": \"mesh3d\"}], \"parcoords\": [{\"line\": {\"colorbar\": {\"outlinewidth\": 0, \"ticks\": \"\"}}, \"type\": \"parcoords\"}], \"pie\": [{\"automargin\": true, \"type\": \"pie\"}], \"scatter\": [{\"marker\": {\"colorbar\": {\"outlinewidth\": 0, \"ticks\": \"\"}}, \"type\": \"scatter\"}], \"scatter3d\": [{\"line\": {\"colorbar\": {\"outlinewidth\": 0, \"ticks\": \"\"}}, \"marker\": {\"colorbar\": {\"outlinewidth\": 0, \"ticks\": \"\"}}, \"type\": \"scatter3d\"}], \"scattercarpet\": [{\"marker\": {\"colorbar\": {\"outlinewidth\": 0, \"ticks\": \"\"}}, \"type\": \"scattercarpet\"}], \"scattergeo\": [{\"marker\": {\"colorbar\": {\"outlinewidth\": 0, \"ticks\": \"\"}}, \"type\": \"scattergeo\"}], \"scattergl\": [{\"marker\": {\"colorbar\": {\"outlinewidth\": 0, \"ticks\": \"\"}}, \"type\": \"scattergl\"}], \"scattermapbox\": [{\"marker\": {\"colorbar\": {\"outlinewidth\": 0, \"ticks\": \"\"}}, \"type\": \"scattermapbox\"}], \"scatterpolar\": [{\"marker\": {\"colorbar\": {\"outlinewidth\": 0, \"ticks\": \"\"}}, \"type\": \"scatterpolar\"}], \"scatterpolargl\": [{\"marker\": {\"colorbar\": {\"outlinewidth\": 0, \"ticks\": \"\"}}, \"type\": \"scatterpolargl\"}], \"scatterternary\": [{\"marker\": {\"colorbar\": {\"outlinewidth\": 0, \"ticks\": \"\"}}, \"type\": \"scatterternary\"}], \"surface\": [{\"colorbar\": {\"outlinewidth\": 0, \"ticks\": \"\"}, \"colorscale\": [[0.0, \"#0d0887\"], [0.1111111111111111, \"#46039f\"], [0.2222222222222222, \"#7201a8\"], [0.3333333333333333, \"#9c179e\"], [0.4444444444444444, \"#bd3786\"], [0.5555555555555556, \"#d8576b\"], [0.6666666666666666, \"#ed7953\"], [0.7777777777777778, \"#fb9f3a\"], [0.8888888888888888, \"#fdca26\"], [1.0, \"#f0f921\"]], \"type\": \"surface\"}], \"table\": [{\"cells\": {\"fill\": {\"color\": \"#EBF0F8\"}, \"line\": {\"color\": \"white\"}}, \"header\": {\"fill\": {\"color\": \"#C8D4E3\"}, \"line\": {\"color\": \"white\"}}, \"type\": \"table\"}]}, \"layout\": {\"annotationdefaults\": {\"arrowcolor\": \"#2a3f5f\", \"arrowhead\": 0, \"arrowwidth\": 1}, \"coloraxis\": {\"colorbar\": {\"outlinewidth\": 0, \"ticks\": \"\"}}, \"colorscale\": {\"diverging\": [[0, \"#8e0152\"], [0.1, \"#c51b7d\"], [0.2, \"#de77ae\"], [0.3, \"#f1b6da\"], [0.4, \"#fde0ef\"], [0.5, \"#f7f7f7\"], [0.6, \"#e6f5d0\"], [0.7, \"#b8e186\"], [0.8, \"#7fbc41\"], [0.9, \"#4d9221\"], [1, \"#276419\"]], \"sequential\": [[0.0, \"#0d0887\"], [0.1111111111111111, \"#46039f\"], [0.2222222222222222, \"#7201a8\"], [0.3333333333333333, \"#9c179e\"], [0.4444444444444444, \"#bd3786\"], [0.5555555555555556, \"#d8576b\"], [0.6666666666666666, \"#ed7953\"], [0.7777777777777778, \"#fb9f3a\"], [0.8888888888888888, \"#fdca26\"], [1.0, \"#f0f921\"]], \"sequentialminus\": [[0.0, \"#0d0887\"], [0.1111111111111111, \"#46039f\"], [0.2222222222222222, \"#7201a8\"], [0.3333333333333333, \"#9c179e\"], [0.4444444444444444, \"#bd3786\"], [0.5555555555555556, \"#d8576b\"], [0.6666666666666666, \"#ed7953\"], [0.7777777777777778, \"#fb9f3a\"], [0.8888888888888888, \"#fdca26\"], [1.0, \"#f0f921\"]]}, \"colorway\": [\"#636efa\", \"#EF553B\", \"#00cc96\", \"#ab63fa\", \"#FFA15A\", \"#19d3f3\", \"#FF6692\", \"#B6E880\", \"#FF97FF\", \"#FECB52\"], \"font\": {\"color\": \"#2a3f5f\"}, \"geo\": {\"bgcolor\": \"white\", \"lakecolor\": \"white\", \"landcolor\": \"#E5ECF6\", \"showlakes\": true, \"showland\": true, \"subunitcolor\": \"white\"}, \"hoverlabel\": {\"align\": \"left\"}, \"hovermode\": \"closest\", \"mapbox\": {\"style\": \"light\"}, \"paper_bgcolor\": \"white\", \"plot_bgcolor\": \"#E5ECF6\", \"polar\": {\"angularaxis\": {\"gridcolor\": \"white\", \"linecolor\": \"white\", \"ticks\": \"\"}, \"bgcolor\": \"#E5ECF6\", \"radialaxis\": {\"gridcolor\": \"white\", \"linecolor\": \"white\", \"ticks\": \"\"}}, \"scene\": {\"xaxis\": {\"backgroundcolor\": \"#E5ECF6\", \"gridcolor\": \"white\", \"gridwidth\": 2, \"linecolor\": \"white\", \"showbackground\": true, \"ticks\": \"\", \"zerolinecolor\": \"white\"}, \"yaxis\": {\"backgroundcolor\": \"#E5ECF6\", \"gridcolor\": \"white\", \"gridwidth\": 2, \"linecolor\": \"white\", \"showbackground\": true, \"ticks\": \"\", \"zerolinecolor\": \"white\"}, \"zaxis\": {\"backgroundcolor\": \"#E5ECF6\", \"gridcolor\": \"white\", \"gridwidth\": 2, \"linecolor\": \"white\", \"showbackground\": true, \"ticks\": \"\", \"zerolinecolor\": \"white\"}}, \"shapedefaults\": {\"line\": {\"color\": \"#2a3f5f\"}}, \"ternary\": {\"aaxis\": {\"gridcolor\": \"white\", \"linecolor\": \"white\", \"ticks\": \"\"}, \"baxis\": {\"gridcolor\": \"white\", \"linecolor\": \"white\", \"ticks\": \"\"}, \"bgcolor\": \"#E5ECF6\", \"caxis\": {\"gridcolor\": \"white\", \"linecolor\": \"white\", \"ticks\": \"\"}}, \"title\": {\"x\": 0.05}, \"xaxis\": {\"automargin\": true, \"gridcolor\": \"white\", \"linecolor\": \"white\", \"ticks\": \"\", \"title\": {\"standoff\": 15}, \"zerolinecolor\": \"white\", \"zerolinewidth\": 2}, \"yaxis\": {\"automargin\": true, \"gridcolor\": \"white\", \"linecolor\": \"white\", \"ticks\": \"\", \"title\": {\"standoff\": 15}, \"zerolinecolor\": \"white\", \"zerolinewidth\": 2}}}, \"title\": {\"text\": \"Category Concentration\"}, \"xaxis\": {\"anchor\": \"y\", \"domain\": [0.0, 1.0], \"title\": {\"text\": \"Number of Apps (Lower=More Concentrated)\"}}, \"yaxis\": {\"anchor\": \"x\", \"domain\": [0.0, 1.0], \"title\": {\"text\": \"Installs\"}, \"type\": \"log\"}},\n",
              "                        {\"responsive\": true}\n",
              "                    ).then(function(){\n",
              "                            \n",
              "var gd = document.getElementById('64da74c2-dd53-40a0-918d-eb2ef03031ee');\n",
              "var x = new MutationObserver(function (mutations, observer) {{\n",
              "        var display = window.getComputedStyle(gd).display;\n",
              "        if (!display || display === 'none') {{\n",
              "            console.log([gd, 'removed!']);\n",
              "            Plotly.purge(gd);\n",
              "            observer.disconnect();\n",
              "        }}\n",
              "}});\n",
              "\n",
              "// Listen for the removal of the full notebook cells\n",
              "var notebookContainer = gd.closest('#notebook-container');\n",
              "if (notebookContainer) {{\n",
              "    x.observe(notebookContainer, {childList: true});\n",
              "}}\n",
              "\n",
              "// Listen for the clearing of the current output cell\n",
              "var outputEl = gd.closest('.output');\n",
              "if (outputEl) {{\n",
              "    x.observe(outputEl, {childList: true});\n",
              "}}\n",
              "\n",
              "                        })\n",
              "                };\n",
              "                \n",
              "            </script>\n",
              "        </div>\n",
              "</body>\n",
              "</html>"
            ]
          },
          "metadata": {
            "tags": []
          }
        }
      ]
    },
    {
      "cell_type": "markdown",
      "metadata": {
        "id": "dmXDF75WdiVC"
      },
      "source": [
        "# Extracting Nested Data from a Column\n",
        "\n",
        "**Challenge**: How many different types of genres are there? Can an app belong to more than one genre? Check what happens when you use .value_counts() on a column with nested values? See if you can work around this problem by using the .split() function and the DataFrame's [.stack() method](https://pandas.pydata.org/pandas-docs/stable/reference/api/pandas.DataFrame.stack.html). \n"
      ]
    },
    {
      "cell_type": "code",
      "metadata": {
        "id": "3Lo69kS6ogdm",
        "colab": {
          "base_uri": "https://localhost:8080/"
        },
        "outputId": "d871b856-0cde-4918-f382-f3de03db06ad"
      },
      "source": [
        "df_apps_clean.Genres.value_counts().sort_values(ascending=True)"
      ],
      "execution_count": 58,
      "outputs": [
        {
          "output_type": "execute_result",
          "data": {
            "text/plain": [
              "Tools;Education                1\n",
              "Card;Brain Games               1\n",
              "Puzzle;Education               1\n",
              "Art & Design;Pretend Play      1\n",
              "Lifestyle;Pretend Play         1\n",
              "                            ... \n",
              "Personalization              298\n",
              "Productivity                 301\n",
              "Education                    429\n",
              "Entertainment                467\n",
              "Tools                        718\n",
              "Name: Genres, Length: 114, dtype: int64"
            ]
          },
          "metadata": {
            "tags": []
          },
          "execution_count": 58
        }
      ]
    },
    {
      "cell_type": "code",
      "metadata": {
        "colab": {
          "base_uri": "https://localhost:8080/"
        },
        "id": "77G3ztaXiYrt",
        "outputId": "94348305-7065-466c-8560-d089db021c5c"
      },
      "source": [
        "# Split the strings on the semi-colon and then .stack them.\r\n",
        "stack = df_apps_clean.Genres.str.split(';', expand=True).stack()\r\n",
        "print(f'We now have a single column with shape: {stack.shape}')\r\n",
        "num_genres = stack.value_counts()\r\n",
        "print(f'Number of genres: {len(num_genres)}')"
      ],
      "execution_count": 59,
      "outputs": [
        {
          "output_type": "stream",
          "text": [
            "We now have a single column with shape: (8564,)\n",
            "Number of genres: 53\n"
          ],
          "name": "stdout"
        }
      ]
    },
    {
      "cell_type": "markdown",
      "metadata": {
        "id": "F3zaKvfydiVI"
      },
      "source": [
        "# Colour Scales in Plotly Charts - Competition in Genres"
      ]
    },
    {
      "cell_type": "markdown",
      "metadata": {
        "id": "Ucw6RT59diVK"
      },
      "source": [
        "**Challenge**: Can you create this chart with the Series containing the genre data? \n",
        "\n",
        "<img src=https://imgur.com/DbcoQli.png width=400>\n",
        "\n",
        "Try experimenting with the built in colour scales in Plotly. You can find a full list [here](https://plotly.com/python/builtin-colorscales/). \n",
        "\n",
        "* Find a way to set the colour scale using the color_continuous_scale parameter. \n",
        "* Find a way to make the color axis disappear by using coloraxis_showscale. "
      ]
    },
    {
      "cell_type": "code",
      "metadata": {
        "id": "c5xbfMgxojoA",
        "colab": {
          "base_uri": "https://localhost:8080/",
          "height": 542
        },
        "outputId": "5e78762c-0723-4f04-abe8-75445f4aaf97"
      },
      "source": [
        "bar = px.bar(x=num_genres.index[:15],\r\n",
        "             y=num_genres.values[:15],\r\n",
        "             title='Top Genre',\r\n",
        "             hover_name=num_genres.index[:15],\r\n",
        "             color=num_genres.values[:15],\r\n",
        "             color_continuous_scale='Agsunset')\r\n",
        "bar.update_layout(xaxis_title='Genre',\r\n",
        "                  yaxis_title='Number of Apps',\r\n",
        "                  coloraxis_showscale=False)\r\n",
        "bar.show()"
      ],
      "execution_count": 61,
      "outputs": [
        {
          "output_type": "display_data",
          "data": {
            "text/html": [
              "<html>\n",
              "<head><meta charset=\"utf-8\" /></head>\n",
              "<body>\n",
              "    <div>\n",
              "            <script src=\"https://cdnjs.cloudflare.com/ajax/libs/mathjax/2.7.5/MathJax.js?config=TeX-AMS-MML_SVG\"></script><script type=\"text/javascript\">if (window.MathJax) {MathJax.Hub.Config({SVG: {font: \"STIX-Web\"}});}</script>\n",
              "                <script type=\"text/javascript\">window.PlotlyConfig = {MathJaxConfig: 'local'};</script>\n",
              "        <script src=\"https://cdn.plot.ly/plotly-latest.min.js\"></script>    \n",
              "            <div id=\"973dddda-b2f9-490a-a17b-5d1556edf60e\" class=\"plotly-graph-div\" style=\"height:525px; width:100%;\"></div>\n",
              "            <script type=\"text/javascript\">\n",
              "                \n",
              "                    window.PLOTLYENV=window.PLOTLYENV || {};\n",
              "                    \n",
              "                if (document.getElementById(\"973dddda-b2f9-490a-a17b-5d1556edf60e\")) {\n",
              "                    Plotly.newPlot(\n",
              "                        '973dddda-b2f9-490a-a17b-5d1556edf60e',\n",
              "                        [{\"alignmentgroup\": \"True\", \"hoverlabel\": {\"namelength\": 0}, \"hovertemplate\": \"<b>%{hovertext}</b><br><br>x=%{x}<br>y=%{y}<br>color=%{marker.color}\", \"hovertext\": [\"Tools\", \"Education\", \"Entertainment\", \"Action\", \"Productivity\", \"Personalization\", \"Lifestyle\", \"Finance\", \"Medical\", \"Sports\", \"Photography\", \"Business\", \"Communication\", \"Health & Fitness\", \"Casual\"], \"legendgroup\": \"\", \"marker\": {\"color\": [719, 587, 498, 304, 301, 298, 298, 296, 292, 270, 263, 262, 258, 245, 216], \"coloraxis\": \"coloraxis\"}, \"name\": \"\", \"offsetgroup\": \"\", \"orientation\": \"v\", \"showlegend\": false, \"textposition\": \"auto\", \"type\": \"bar\", \"x\": [\"Tools\", \"Education\", \"Entertainment\", \"Action\", \"Productivity\", \"Personalization\", \"Lifestyle\", \"Finance\", \"Medical\", \"Sports\", \"Photography\", \"Business\", \"Communication\", \"Health & Fitness\", \"Casual\"], \"xaxis\": \"x\", \"y\": [719, 587, 498, 304, 301, 298, 298, 296, 292, 270, 263, 262, 258, 245, 216], \"yaxis\": \"y\"}],\n",
              "                        {\"barmode\": \"relative\", \"coloraxis\": {\"colorbar\": {\"title\": {\"text\": \"color\"}}, \"colorscale\": [[0.0, \"rgb(75, 41, 145)\"], [0.16666666666666666, \"rgb(135, 44, 162)\"], [0.3333333333333333, \"rgb(192, 54, 157)\"], [0.5, \"rgb(234, 79, 136)\"], [0.6666666666666666, \"rgb(250, 120, 118)\"], [0.8333333333333334, \"rgb(246, 169, 122)\"], [1.0, \"rgb(237, 217, 163)\"]], \"showscale\": false}, \"legend\": {\"tracegroupgap\": 0}, \"template\": {\"data\": {\"bar\": [{\"error_x\": {\"color\": \"#2a3f5f\"}, \"error_y\": {\"color\": \"#2a3f5f\"}, \"marker\": {\"line\": {\"color\": \"#E5ECF6\", \"width\": 0.5}}, \"type\": \"bar\"}], \"barpolar\": [{\"marker\": {\"line\": {\"color\": \"#E5ECF6\", \"width\": 0.5}}, \"type\": \"barpolar\"}], \"carpet\": [{\"aaxis\": {\"endlinecolor\": \"#2a3f5f\", \"gridcolor\": \"white\", \"linecolor\": \"white\", \"minorgridcolor\": \"white\", \"startlinecolor\": \"#2a3f5f\"}, \"baxis\": {\"endlinecolor\": \"#2a3f5f\", \"gridcolor\": \"white\", \"linecolor\": \"white\", \"minorgridcolor\": \"white\", \"startlinecolor\": \"#2a3f5f\"}, \"type\": \"carpet\"}], \"choropleth\": [{\"colorbar\": {\"outlinewidth\": 0, \"ticks\": \"\"}, \"type\": \"choropleth\"}], \"contour\": [{\"colorbar\": {\"outlinewidth\": 0, \"ticks\": \"\"}, \"colorscale\": [[0.0, \"#0d0887\"], [0.1111111111111111, \"#46039f\"], [0.2222222222222222, \"#7201a8\"], [0.3333333333333333, \"#9c179e\"], [0.4444444444444444, \"#bd3786\"], [0.5555555555555556, \"#d8576b\"], [0.6666666666666666, \"#ed7953\"], [0.7777777777777778, \"#fb9f3a\"], [0.8888888888888888, \"#fdca26\"], [1.0, \"#f0f921\"]], \"type\": \"contour\"}], \"contourcarpet\": [{\"colorbar\": {\"outlinewidth\": 0, \"ticks\": \"\"}, \"type\": \"contourcarpet\"}], \"heatmap\": [{\"colorbar\": {\"outlinewidth\": 0, \"ticks\": \"\"}, \"colorscale\": [[0.0, \"#0d0887\"], [0.1111111111111111, \"#46039f\"], [0.2222222222222222, \"#7201a8\"], [0.3333333333333333, \"#9c179e\"], [0.4444444444444444, \"#bd3786\"], [0.5555555555555556, \"#d8576b\"], [0.6666666666666666, \"#ed7953\"], [0.7777777777777778, \"#fb9f3a\"], [0.8888888888888888, \"#fdca26\"], [1.0, \"#f0f921\"]], \"type\": \"heatmap\"}], \"heatmapgl\": [{\"colorbar\": {\"outlinewidth\": 0, \"ticks\": \"\"}, \"colorscale\": [[0.0, \"#0d0887\"], [0.1111111111111111, \"#46039f\"], [0.2222222222222222, \"#7201a8\"], [0.3333333333333333, \"#9c179e\"], [0.4444444444444444, \"#bd3786\"], [0.5555555555555556, \"#d8576b\"], [0.6666666666666666, \"#ed7953\"], [0.7777777777777778, \"#fb9f3a\"], [0.8888888888888888, \"#fdca26\"], [1.0, \"#f0f921\"]], \"type\": \"heatmapgl\"}], \"histogram\": [{\"marker\": {\"colorbar\": {\"outlinewidth\": 0, \"ticks\": \"\"}}, \"type\": \"histogram\"}], \"histogram2d\": [{\"colorbar\": {\"outlinewidth\": 0, \"ticks\": \"\"}, \"colorscale\": [[0.0, \"#0d0887\"], [0.1111111111111111, \"#46039f\"], [0.2222222222222222, \"#7201a8\"], [0.3333333333333333, \"#9c179e\"], [0.4444444444444444, \"#bd3786\"], [0.5555555555555556, \"#d8576b\"], [0.6666666666666666, \"#ed7953\"], [0.7777777777777778, \"#fb9f3a\"], [0.8888888888888888, \"#fdca26\"], [1.0, \"#f0f921\"]], \"type\": \"histogram2d\"}], \"histogram2dcontour\": [{\"colorbar\": {\"outlinewidth\": 0, \"ticks\": \"\"}, \"colorscale\": [[0.0, \"#0d0887\"], [0.1111111111111111, \"#46039f\"], [0.2222222222222222, \"#7201a8\"], [0.3333333333333333, \"#9c179e\"], [0.4444444444444444, \"#bd3786\"], [0.5555555555555556, \"#d8576b\"], [0.6666666666666666, \"#ed7953\"], [0.7777777777777778, \"#fb9f3a\"], [0.8888888888888888, \"#fdca26\"], [1.0, \"#f0f921\"]], \"type\": \"histogram2dcontour\"}], \"mesh3d\": [{\"colorbar\": {\"outlinewidth\": 0, \"ticks\": \"\"}, \"type\": \"mesh3d\"}], \"parcoords\": [{\"line\": {\"colorbar\": {\"outlinewidth\": 0, \"ticks\": \"\"}}, \"type\": \"parcoords\"}], \"pie\": [{\"automargin\": true, \"type\": \"pie\"}], \"scatter\": [{\"marker\": {\"colorbar\": {\"outlinewidth\": 0, \"ticks\": \"\"}}, \"type\": \"scatter\"}], \"scatter3d\": [{\"line\": {\"colorbar\": {\"outlinewidth\": 0, \"ticks\": \"\"}}, \"marker\": {\"colorbar\": {\"outlinewidth\": 0, \"ticks\": \"\"}}, \"type\": \"scatter3d\"}], \"scattercarpet\": [{\"marker\": {\"colorbar\": {\"outlinewidth\": 0, \"ticks\": \"\"}}, \"type\": \"scattercarpet\"}], \"scattergeo\": [{\"marker\": {\"colorbar\": {\"outlinewidth\": 0, \"ticks\": \"\"}}, \"type\": \"scattergeo\"}], \"scattergl\": [{\"marker\": {\"colorbar\": {\"outlinewidth\": 0, \"ticks\": \"\"}}, \"type\": \"scattergl\"}], \"scattermapbox\": [{\"marker\": {\"colorbar\": {\"outlinewidth\": 0, \"ticks\": \"\"}}, \"type\": \"scattermapbox\"}], \"scatterpolar\": [{\"marker\": {\"colorbar\": {\"outlinewidth\": 0, \"ticks\": \"\"}}, \"type\": \"scatterpolar\"}], \"scatterpolargl\": [{\"marker\": {\"colorbar\": {\"outlinewidth\": 0, \"ticks\": \"\"}}, \"type\": \"scatterpolargl\"}], \"scatterternary\": [{\"marker\": {\"colorbar\": {\"outlinewidth\": 0, \"ticks\": \"\"}}, \"type\": \"scatterternary\"}], \"surface\": [{\"colorbar\": {\"outlinewidth\": 0, \"ticks\": \"\"}, \"colorscale\": [[0.0, \"#0d0887\"], [0.1111111111111111, \"#46039f\"], [0.2222222222222222, \"#7201a8\"], [0.3333333333333333, \"#9c179e\"], [0.4444444444444444, \"#bd3786\"], [0.5555555555555556, \"#d8576b\"], [0.6666666666666666, \"#ed7953\"], [0.7777777777777778, \"#fb9f3a\"], [0.8888888888888888, \"#fdca26\"], [1.0, \"#f0f921\"]], \"type\": \"surface\"}], \"table\": [{\"cells\": {\"fill\": {\"color\": \"#EBF0F8\"}, \"line\": {\"color\": \"white\"}}, \"header\": {\"fill\": {\"color\": \"#C8D4E3\"}, \"line\": {\"color\": \"white\"}}, \"type\": \"table\"}]}, \"layout\": {\"annotationdefaults\": {\"arrowcolor\": \"#2a3f5f\", \"arrowhead\": 0, \"arrowwidth\": 1}, \"coloraxis\": {\"colorbar\": {\"outlinewidth\": 0, \"ticks\": \"\"}}, \"colorscale\": {\"diverging\": [[0, \"#8e0152\"], [0.1, \"#c51b7d\"], [0.2, \"#de77ae\"], [0.3, \"#f1b6da\"], [0.4, \"#fde0ef\"], [0.5, \"#f7f7f7\"], [0.6, \"#e6f5d0\"], [0.7, \"#b8e186\"], [0.8, \"#7fbc41\"], [0.9, \"#4d9221\"], [1, \"#276419\"]], \"sequential\": [[0.0, \"#0d0887\"], [0.1111111111111111, \"#46039f\"], [0.2222222222222222, \"#7201a8\"], [0.3333333333333333, \"#9c179e\"], [0.4444444444444444, \"#bd3786\"], [0.5555555555555556, \"#d8576b\"], [0.6666666666666666, \"#ed7953\"], [0.7777777777777778, \"#fb9f3a\"], [0.8888888888888888, \"#fdca26\"], [1.0, \"#f0f921\"]], \"sequentialminus\": [[0.0, \"#0d0887\"], [0.1111111111111111, \"#46039f\"], [0.2222222222222222, \"#7201a8\"], [0.3333333333333333, \"#9c179e\"], [0.4444444444444444, \"#bd3786\"], [0.5555555555555556, \"#d8576b\"], [0.6666666666666666, \"#ed7953\"], [0.7777777777777778, \"#fb9f3a\"], [0.8888888888888888, \"#fdca26\"], [1.0, \"#f0f921\"]]}, \"colorway\": [\"#636efa\", \"#EF553B\", \"#00cc96\", \"#ab63fa\", \"#FFA15A\", \"#19d3f3\", \"#FF6692\", \"#B6E880\", \"#FF97FF\", \"#FECB52\"], \"font\": {\"color\": \"#2a3f5f\"}, \"geo\": {\"bgcolor\": \"white\", \"lakecolor\": \"white\", \"landcolor\": \"#E5ECF6\", \"showlakes\": true, \"showland\": true, \"subunitcolor\": \"white\"}, \"hoverlabel\": {\"align\": \"left\"}, \"hovermode\": \"closest\", \"mapbox\": {\"style\": \"light\"}, \"paper_bgcolor\": \"white\", \"plot_bgcolor\": \"#E5ECF6\", \"polar\": {\"angularaxis\": {\"gridcolor\": \"white\", \"linecolor\": \"white\", \"ticks\": \"\"}, \"bgcolor\": \"#E5ECF6\", \"radialaxis\": {\"gridcolor\": \"white\", \"linecolor\": \"white\", \"ticks\": \"\"}}, \"scene\": {\"xaxis\": {\"backgroundcolor\": \"#E5ECF6\", \"gridcolor\": \"white\", \"gridwidth\": 2, \"linecolor\": \"white\", \"showbackground\": true, \"ticks\": \"\", \"zerolinecolor\": \"white\"}, \"yaxis\": {\"backgroundcolor\": \"#E5ECF6\", \"gridcolor\": \"white\", \"gridwidth\": 2, \"linecolor\": \"white\", \"showbackground\": true, \"ticks\": \"\", \"zerolinecolor\": \"white\"}, \"zaxis\": {\"backgroundcolor\": \"#E5ECF6\", \"gridcolor\": \"white\", \"gridwidth\": 2, \"linecolor\": \"white\", \"showbackground\": true, \"ticks\": \"\", \"zerolinecolor\": \"white\"}}, \"shapedefaults\": {\"line\": {\"color\": \"#2a3f5f\"}}, \"ternary\": {\"aaxis\": {\"gridcolor\": \"white\", \"linecolor\": \"white\", \"ticks\": \"\"}, \"baxis\": {\"gridcolor\": \"white\", \"linecolor\": \"white\", \"ticks\": \"\"}, \"bgcolor\": \"#E5ECF6\", \"caxis\": {\"gridcolor\": \"white\", \"linecolor\": \"white\", \"ticks\": \"\"}}, \"title\": {\"x\": 0.05}, \"xaxis\": {\"automargin\": true, \"gridcolor\": \"white\", \"linecolor\": \"white\", \"ticks\": \"\", \"title\": {\"standoff\": 15}, \"zerolinecolor\": \"white\", \"zerolinewidth\": 2}, \"yaxis\": {\"automargin\": true, \"gridcolor\": \"white\", \"linecolor\": \"white\", \"ticks\": \"\", \"title\": {\"standoff\": 15}, \"zerolinecolor\": \"white\", \"zerolinewidth\": 2}}}, \"title\": {\"text\": \"Top Genre\"}, \"xaxis\": {\"anchor\": \"y\", \"domain\": [0.0, 1.0], \"title\": {\"text\": \"Genre\"}}, \"yaxis\": {\"anchor\": \"x\", \"domain\": [0.0, 1.0], \"title\": {\"text\": \"Number of Apps\"}}},\n",
              "                        {\"responsive\": true}\n",
              "                    ).then(function(){\n",
              "                            \n",
              "var gd = document.getElementById('973dddda-b2f9-490a-a17b-5d1556edf60e');\n",
              "var x = new MutationObserver(function (mutations, observer) {{\n",
              "        var display = window.getComputedStyle(gd).display;\n",
              "        if (!display || display === 'none') {{\n",
              "            console.log([gd, 'removed!']);\n",
              "            Plotly.purge(gd);\n",
              "            observer.disconnect();\n",
              "        }}\n",
              "}});\n",
              "\n",
              "// Listen for the removal of the full notebook cells\n",
              "var notebookContainer = gd.closest('#notebook-container');\n",
              "if (notebookContainer) {{\n",
              "    x.observe(notebookContainer, {childList: true});\n",
              "}}\n",
              "\n",
              "// Listen for the clearing of the current output cell\n",
              "var outputEl = gd.closest('.output');\n",
              "if (outputEl) {{\n",
              "    x.observe(outputEl, {childList: true});\n",
              "}}\n",
              "\n",
              "                        })\n",
              "                };\n",
              "                \n",
              "            </script>\n",
              "        </div>\n",
              "</body>\n",
              "</html>"
            ]
          },
          "metadata": {
            "tags": []
          }
        }
      ]
    },
    {
      "cell_type": "markdown",
      "metadata": {
        "id": "BIWG_10PyIzL"
      },
      "source": [
        "# Grouped Bar Charts: Free vs. Paid Apps per Category"
      ]
    },
    {
      "cell_type": "code",
      "metadata": {
        "id": "ANMs7xywolDH"
      },
      "source": [
        ""
      ],
      "execution_count": 17,
      "outputs": []
    },
    {
      "cell_type": "markdown",
      "metadata": {
        "id": "wmRXm0TW1e_Z"
      },
      "source": [
        "**Challenge**: Use the plotly express bar [chart examples](https://plotly.com/python/bar-charts/#bar-chart-with-sorted-or-ordered-categories) and the [.bar() API reference](https://plotly.com/python-api-reference/generated/plotly.express.bar.html#plotly.express.bar) to create this bar chart: \n",
        "\n",
        "<img src=https://imgur.com/LE0XCxA.png>\n",
        "\n",
        "You'll want to use the `df_free_vs_paid` DataFrame that you created above that has the total number of free and paid apps per category. \n",
        "\n",
        "See if you can figure out how to get the look above by changing the `categoryorder` to 'total descending' as outlined in the documentation here [here](https://plotly.com/python/categorical-axes/#automatically-sorting-categories-by-name-or-total-value). "
      ]
    },
    {
      "cell_type": "code",
      "metadata": {
        "id": "tqOntrS7onGt"
      },
      "source": [
        ""
      ],
      "execution_count": 17,
      "outputs": []
    },
    {
      "cell_type": "markdown",
      "metadata": {
        "id": "nbYh2tU-VZ-i"
      },
      "source": [
        "# Plotly Box Plots: Lost Downloads for Paid Apps\n",
        "\n",
        "**Challenge**: Create a box plot that shows the number of Installs for free versus paid apps. How does the median number of installations compare? Is the difference large or small?\n",
        "\n",
        "Use the [Box Plots Guide](https://plotly.com/python/box-plots/) and the [.box API reference](https://plotly.com/python-api-reference/generated/plotly.express.box.html) to create the following chart. \n",
        "\n",
        "<img src=https://imgur.com/uVsECT3.png>\n"
      ]
    },
    {
      "cell_type": "code",
      "metadata": {
        "id": "Jip3hMZ7oqLS"
      },
      "source": [
        ""
      ],
      "execution_count": 17,
      "outputs": []
    },
    {
      "cell_type": "markdown",
      "metadata": {
        "id": "Xi2NaEBPVNrP"
      },
      "source": [
        "# Plotly Box Plots: Revenue by App Category\n",
        "\n",
        "**Challenge**: See if you can generate the chart below: \n",
        "\n",
        "<img src=https://imgur.com/v4CiNqX.png>\n",
        "\n",
        "Looking at the hover text, how much does the median app earn in the Tools category? If developing an Android app costs $30,000 or thereabouts, does the average photography app recoup its development costs?\n",
        "\n",
        "Hint: I've used 'min ascending' to sort the categories. "
      ]
    },
    {
      "cell_type": "code",
      "metadata": {
        "id": "W1iVoT8Dos7x"
      },
      "source": [
        ""
      ],
      "execution_count": 17,
      "outputs": []
    },
    {
      "cell_type": "markdown",
      "metadata": {
        "id": "uT32ylj4WS9B"
      },
      "source": [
        "# How Much Can You Charge? Examine Paid App Pricing Strategies by Category\n",
        "\n",
        "**Challenge**: What is the median price price for a paid app? Then compare pricing by category by creating another box plot. But this time examine the prices (instead of the revenue estimates) of the paid apps. I recommend using `{categoryorder':'max descending'}` to sort the categories."
      ]
    },
    {
      "cell_type": "code",
      "metadata": {
        "id": "AdBr0TUhouqs"
      },
      "source": [
        ""
      ],
      "execution_count": 17,
      "outputs": []
    },
    {
      "cell_type": "code",
      "metadata": {
        "id": "bJnABRw3ovwr"
      },
      "source": [
        ""
      ],
      "execution_count": 17,
      "outputs": []
    },
    {
      "cell_type": "code",
      "metadata": {
        "id": "zSXVSlVyQ4Kz"
      },
      "source": [
        ""
      ],
      "execution_count": 17,
      "outputs": []
    }
  ]
}